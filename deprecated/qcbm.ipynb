{
 "cells": [
  {
   "cell_type": "code",
   "execution_count": 1,
   "metadata": {
    "collapsed": true
   },
   "outputs": [],
   "source": [
    "import numpy as np\n",
    "import matplotlib.pyplot as plt\n",
    "import scipy.sparse as sps"
   ]
  },
  {
   "cell_type": "markdown",
   "metadata": {},
   "source": [
    "# Dataset, binary data and continuous data"
   ]
  },
  {
   "cell_type": "code",
   "execution_count": 2,
   "metadata": {
    "collapsed": true
   },
   "outputs": [],
   "source": [
    "def binary_basis(geometry):\n",
    "    num_bit = np.prod(geometry)\n",
    "    M = 2**num_bit\n",
    "    x = np.arange(M)\n",
    "    return unpacknbits(x[:,None], num_bit).reshape((-1,)+geometry)\n",
    "\n",
    "def unpacknbits(arr, nbit, axis=-1):\n",
    "    '''unpack numbers to bits.'''\n",
    "    nd = np.ndim(arr)\n",
    "    if axis < 0:\n",
    "        axis = nd + axis\n",
    "    return (((arr & (1 << np.arange(nbit - 1, -1, -1)).reshape([-1] + [1] * (nd - axis - 1)))) > 0).astype('int8')\n",
    "\n",
    "def packnbits(arr, axis=-1):\n",
    "    '''pack bits to numbers.'''\n",
    "    nd = np.ndim(arr)\n",
    "    nbit = np.shape(arr)[axis]\n",
    "    if axis < 0:\n",
    "        axis = nd + axis\n",
    "    return (arr * (1 << np.arange(nbit - 1, -1, -1)).reshape([-1] + [1] * (nd - axis - 1))\\\n",
    "           ).sum(axis=axis, keepdims=True).astype('int')"
   ]
  },
  {
   "cell_type": "code",
   "execution_count": 3,
   "metadata": {
    "collapsed": true
   },
   "outputs": [],
   "source": [
    "def barstripe_pdf(geometry):\n",
    "    '''get bar and stripes PDF'''\n",
    "    x = binary_basis(geometry)\n",
    "    pl = is_bs(x)\n",
    "    return pl/pl.sum()\n",
    "\n",
    "def is_bs(samples):\n",
    "    '''a sample is a bar or a stripe.'''\n",
    "    return (np.abs(np.diff(samples,axis=-1)).sum(axis=(1,2))==0\\\n",
    "           )|((np.abs(np.diff(samples, axis=1)).sum(axis=(1,2)))==0)"
   ]
  },
  {
   "cell_type": "code",
   "execution_count": 17,
   "metadata": {},
   "outputs": [
    {
     "data": {
      "image/png": "[encoded data removed]",
      "text/plain": [
       "<Figure size 432x288 with 1 Axes>"
      ]
     },
     "metadata": {},
     "output_type": "display_data"
    }
   ],
   "source": [
    "geometry = (2,3)\n",
    "pl2 = barstripe_pdf(geometry)\n",
    "plt.plot(pl2)\n",
    "plt.show()"
   ]
  },
  {
   "cell_type": "markdown",
   "metadata": {},
   "source": [
    "# Build Circuits\n",
    "## Building Blocks"
   ]
  },
  {
   "cell_type": "code",
   "execution_count": 19,
   "metadata": {
    "collapsed": true
   },
   "outputs": [],
   "source": [
    "######  Pauli Matrices  ########\n",
    "I2 = sps.eye(2).tocsr()\n",
    "sx = sps.csr_matrix([[0,1],[1,0.]])\n",
    "sy = sps.csr_matrix([[0,-1j],[1j,0.]])\n",
    "sz = sps.csr_matrix([[1,0],[0,-1.]])\n",
    "\n",
    "p0 = (sz + I2) / 2\n",
    "p1 = (-sz + I2) / 2\n",
    "\n",
    "# single bit rotation matrices\n",
    "def _ri(si, theta):\n",
    "    return np.cos(theta/2.)*I2 - 1j*np.sin(theta/2.)*si\n",
    "\n",
    "def rot(t1, t2, t3):\n",
    "    '''\n",
    "    a general rotation gate rz(t3)rx(r2)rz(t1).\n",
    "\n",
    "    Args:\n",
    "        t1, t2, t3 (float): three angles.\n",
    "\n",
    "    Returns:\n",
    "        2x2 csr_matrix: rotation matrix.\n",
    "    '''\n",
    "    return _ri(sz, t3).dot(_ri(sx, t2)).dot(_ri(sz, t1))\n",
    "\n",
    "# multiple bit construction\n",
    "def CNOT(ibit, jbit, n):\n",
    "    '''\n",
    "    CNOT gate\n",
    "    \n",
    "    Args:\n",
    "        ibit (int): control bit.\n",
    "        jbit (int): controled bit.\n",
    "        n (int): total number of qubits.\n",
    "    '''\n",
    "    res = _([p0, I2], [ibit, jbit], n)\n",
    "    res = res + _([p1, sx], [ibit, jbit], n)\n",
    "    return res\n",
    "\n",
    "def _(ops, locs, n):\n",
    "    '''\n",
    "    Compile operators into specific Hilbert space.\n",
    "\n",
    "    notice the big end are high loc bits!\n",
    "\n",
    "    Args:\n",
    "        ops (list): list of single bit operators.\n",
    "        locs (list): list of positions.\n",
    "        n (int): total number of bits.\n",
    "\n",
    "    Returns:\n",
    "        csr_matrix: resulting matrix.\n",
    "    '''\n",
    "    if np.ndim(locs) == 0:\n",
    "        locs = [locs]\n",
    "    if not isinstance(ops, (list, tuple)):\n",
    "        ops = [ops]\n",
    "    locs = np.asarray(locs)\n",
    "    locs = n - locs\n",
    "    order = np.argsort(locs)\n",
    "    locs = np.concatenate([[0], locs[order], [n + 1]])\n",
    "    return _wrap_identity([ops[i] for i in order], np.diff(locs) - 1)\n",
    "\n",
    "\n",
    "def _wrap_identity(data_list, num_bit_list):\n",
    "    if len(num_bit_list) != len(data_list) + 1:\n",
    "        raise Exception()\n",
    "\n",
    "    res = sps.eye(2**num_bit_list[0])\n",
    "    for data, nbit in zip(data_list, num_bit_list[1:]):\n",
    "        res = sps.kron(res, data)\n",
    "        res = sps.kron(res, sps.eye(2**nbit, dtype='complex128'))\n",
    "    return res\n",
    "\n",
    "\n",
    "def initial_wf(num_bit):\n",
    "    '''initial wave function |00...0>.'''\n",
    "    wf = np.zeros(2**num_bit, dtype='complex128')\n",
    "    wf[0] = 1.\n",
    "    return wf"
   ]
  },
  {
   "cell_type": "code",
   "execution_count": 20,
   "metadata": {
    "collapsed": true
   },
   "outputs": [],
   "source": [
    "class ArbituaryRotation(object):\n",
    "    def __init__(self, num_bit):\n",
    "        self.num_bit = num_bit\n",
    "        self.mask = np.array([True] * (3*num_bit), dtype='bool')\n",
    "\n",
    "    @property\n",
    "    def num_param(self):\n",
    "        return self.mask.sum()\n",
    "\n",
    "    def tocsr(self, theta_list):\n",
    "        '''transform this block to csr_matrix.'''\n",
    "        theta_list_ = np.zeros(3*self.num_bit)\n",
    "        theta_list_[self.mask] = theta_list\n",
    "        rots = [rot(*ths) for ths in theta_list_.reshape([self.num_bit,3])]\n",
    "        res = [_([r], [i], self.num_bit) for i,r in enumerate(rots)]\n",
    "        return res\n",
    "\n",
    "class CNOTEntangler(object):\n",
    "    def __init__(self, num_bit, pairs):\n",
    "        self.num_bit = num_bit\n",
    "        self.pairs = pairs\n",
    "\n",
    "    @property\n",
    "    def num_param(self):\n",
    "        return 0\n",
    "\n",
    "    def tocsr(self, theta_list):\n",
    "        '''transform this block to csr_matrix.'''\n",
    "        i, j = self.pairs[0]\n",
    "        res = CNOT(i, j, self.num_bit)\n",
    "        for i, j in self.pairs[1:]:\n",
    "            res = CNOT(i,j,self.num_bit).dot(res)\n",
    "        res.eliminate_zeros()\n",
    "        return [res]"
   ]
  },
  {
   "cell_type": "code",
   "execution_count": 21,
   "metadata": {
    "collapsed": true
   },
   "outputs": [],
   "source": [
    "class BlockQueue(list):\n",
    "    '''\n",
    "    Block Queue that keep track of theta_list changing history, for fast update.\n",
    "    '''\n",
    "    def __init__(self, *args):\n",
    "        list.__init__(self, *args)\n",
    "        self.theta_last = None\n",
    "        self.memo = None\n",
    "\n",
    "    def __call__(self, qureg, theta_list):\n",
    "        # cache? if theta_list change <= 1 parameters, then don't touch memory.\n",
    "        remember = self.theta_last is None or (abs(self.theta_last-theta_list)>1e-12).sum() > 1\n",
    "\n",
    "        mats = []\n",
    "        theta_last = self.theta_last\n",
    "        if remember:\n",
    "            self.theta_last = theta_list.copy()\n",
    "\n",
    "        qureg_ = qureg\n",
    "        for iblock, block in enumerate(self):\n",
    "            # generate or use a block matrix\n",
    "            num_param = block.num_param\n",
    "            theta_i, theta_list = np.split(theta_list, [num_param])\n",
    "            if theta_last is not None:\n",
    "                theta_o, theta_last = np.split(theta_last, [num_param])\n",
    "            if self.memo is not None and (num_param==0 or np.abs(theta_i-theta_o).max()<1e-12):\n",
    "                # use data cached in memory\n",
    "                mat = self.memo[iblock]\n",
    "            else:\n",
    "                if self.memo is not None and not remember:\n",
    "                    # update the changed gate, but not touching memory.\n",
    "                    mat = _rot_tocsr_update1(block, self.memo[iblock], theta_o, theta_i)\n",
    "                else:\n",
    "                    # regenerate one\n",
    "                    mat = block.tocsr(theta_i)\n",
    "            for mat_i in mat:\n",
    "                qureg_ = mat_i.dot(qureg_)\n",
    "            mats.append(mat)\n",
    "\n",
    "        if remember:\n",
    "            # cache data\n",
    "            self.memo = mats\n",
    "        # update register\n",
    "        qureg[...] = qureg_\n",
    "        np.testing.assert_(len(theta_list)==0)\n",
    "        \n",
    "    @property\n",
    "    def num_bit(self):\n",
    "        return self[0].num_bit\n",
    "\n",
    "    @property\n",
    "    def num_param(self):\n",
    "        return sum([b.num_param for b in self])\n",
    "\n",
    "def _rot_tocsr_update1(layer, old, theta_old, theta_new):\n",
    "    '''\n",
    "    rotation layer csr_matrix update method.\n",
    "    \n",
    "    Args:\n",
    "        layer (ArbituaryRotation): rotatio layer.\n",
    "        old (csr_matrix): old matrices.\n",
    "        theta_old (1darray): old parameters.\n",
    "        theta_new (1darray): new parameters.\n",
    "\n",
    "    Returns:\n",
    "        csr_matrix: new rotation matrices after the theta changed.\n",
    "    '''\n",
    "    idiff_param = np.where(abs(theta_old-theta_new)>1e-12)[0].item()\n",
    "    idiff = np.where(layer.mask)[0][idiff_param]\n",
    "\n",
    "    # get rotation parameters\n",
    "    isite = idiff//3\n",
    "    theta_list_ = np.zeros(3*layer.num_bit)\n",
    "    theta_list_[layer.mask] = theta_new\n",
    "    \n",
    "    new = old[:]\n",
    "    new[isite] = _(rot(*theta_list_[isite*3:isite*3+3]), isite, layer.num_bit)\n",
    "    return new\n",
    "    \n",
    "def get_demo_circuit(num_bit, depth, pairs):\n",
    "    blocks = []\n",
    "    # build circuit\n",
    "    for idepth in range(depth+1):\n",
    "        blocks.append(ArbituaryRotation(num_bit))\n",
    "        if idepth!=depth:\n",
    "            blocks.append(CNOTEntangler(num_bit, pairs))\n",
    "\n",
    "    # set leading and trailing Rz to disabled\n",
    "    blocks[0].mask[::3] = False\n",
    "    blocks[-1].mask[2::3] = False\n",
    "    return BlockQueue(blocks)"
   ]
  },
  {
   "cell_type": "code",
   "execution_count": 22,
   "metadata": {
    "collapsed": true
   },
   "outputs": [],
   "source": [
    "def get_nn_pairs(geometry):\n",
    "    '''define pairs that cnot gates will apply.'''\n",
    "    num_bit = np.prod(geometry)\n",
    "    if len(geometry) == 2:\n",
    "        nrow, ncol = geometry\n",
    "        res = []\n",
    "        for ij in range(num_bit):\n",
    "            i, j = ij // ncol, ij % ncol\n",
    "            res.extend([(ij, i_ * ncol + j_)\n",
    "                        for i_, j_ in [((i + 1) % nrow, j), (i, (j + 1) % ncol)]])\n",
    "        return res\n",
    "    elif len(geometry) == 1:\n",
    "        res = []\n",
    "        for inth in range(2):\n",
    "            for i in range(inth, num_bit, 2):\n",
    "                res = res + [(i, i_ % num_bit) for i_ in range(i + 1, i + 2)]\n",
    "        return res\n",
    "    else:\n",
    "       raise NotImplementedError('')"
   ]
  },
  {
   "cell_type": "code",
   "execution_count": 23,
   "metadata": {},
   "outputs": [
    {
     "name": "stdout",
     "output_type": "stream",
     "text": [
      "[<__main__.ArbituaryRotation object at 0x14787a5fd710>, <__main__.CNOTEntangler object at 0x14787a5fd7b8>, <__main__.ArbituaryRotation object at 0x14787a5fd438>, <__main__.CNOTEntangler object at 0x14787a5fd7f0>, <__main__.ArbituaryRotation object at 0x14787a5fd5c0>]\n"
     ]
    }
   ],
   "source": [
    "depth = 2\n",
    "geometry = (6,)\n",
    "\n",
    "num_bit = np.prod(geometry)\n",
    "pairs = get_nn_pairs(geometry)\n",
    "circuit = get_demo_circuit(num_bit, depth, pairs)\n",
    "print(circuit)"
   ]
  },
  {
   "cell_type": "code",
   "execution_count": 24,
   "metadata": {
    "scrolled": true
   },
   "outputs": [
    {
     "name": "stdout",
     "output_type": "stream",
     "text": [
      "[6.123234e-17-1.j 0.000000e+00+0.j 0.000000e+00+0.j 0.000000e+00+0.j\n",
      " 0.000000e+00+0.j 0.000000e+00+0.j 0.000000e+00+0.j 0.000000e+00+0.j\n",
      " 0.000000e+00+0.j 0.000000e+00+0.j 0.000000e+00+0.j 0.000000e+00+0.j\n",
      " 0.000000e+00+0.j 0.000000e+00+0.j 0.000000e+00+0.j 0.000000e+00+0.j\n",
      " 0.000000e+00+0.j 0.000000e+00+0.j 0.000000e+00+0.j 0.000000e+00+0.j\n",
      " 0.000000e+00+0.j 0.000000e+00+0.j 0.000000e+00+0.j 0.000000e+00+0.j\n",
      " 0.000000e+00+0.j 0.000000e+00+0.j 0.000000e+00+0.j 0.000000e+00+0.j\n",
      " 0.000000e+00+0.j 0.000000e+00+0.j 0.000000e+00+0.j 0.000000e+00+0.j\n",
      " 0.000000e+00+0.j 0.000000e+00+0.j 0.000000e+00+0.j 0.000000e+00+0.j\n",
      " 0.000000e+00+0.j 0.000000e+00+0.j 0.000000e+00+0.j 0.000000e+00+0.j\n",
      " 0.000000e+00+0.j 0.000000e+00+0.j 0.000000e+00+0.j 0.000000e+00+0.j\n",
      " 0.000000e+00+0.j 0.000000e+00+0.j 0.000000e+00+0.j 0.000000e+00+0.j\n",
      " 0.000000e+00+0.j 0.000000e+00+0.j 0.000000e+00+0.j 0.000000e+00+0.j\n",
      " 0.000000e+00+0.j 0.000000e+00+0.j 0.000000e+00+0.j 0.000000e+00+0.j\n",
      " 0.000000e+00+0.j 0.000000e+00+0.j 0.000000e+00+0.j 0.000000e+00+0.j\n",
      " 0.000000e+00+0.j 0.000000e+00+0.j 0.000000e+00+0.j 0.000000e+00+0.j]\n"
     ]
    }
   ],
   "source": [
    "theta_list = np.zeros(circuit.num_param)\n",
    "theta_list[1] = np.pi\n",
    "wf = initial_wf(num_bit)\n",
    "circuit(wf, theta_list)\n",
    "\n",
    "print(wf)"
   ]
  },
  {
   "cell_type": "markdown",
   "metadata": {},
   "source": [
    "# Build The Gradient training framework for Born Machine"
   ]
  },
  {
   "cell_type": "code",
   "execution_count": 25,
   "metadata": {
    "collapsed": true
   },
   "outputs": [],
   "source": [
    "class BornMachine(object):\n",
    "    '''\n",
    "    Born Machine,\n",
    "\n",
    "    Args:\n",
    "        circuit (BlockQueue): the circuit architechture.\n",
    "        batch_size (int|None): introducing sampling error, None for no sampling error.\n",
    "    '''\n",
    "    def __init__(self, circuit, mmd, p_data, batch_size=None):\n",
    "        self.circuit = circuit\n",
    "        self.mmd = mmd\n",
    "        self.p_data = p_data\n",
    "        self.batch_size = batch_size\n",
    "\n",
    "    @property\n",
    "    def depth(self):\n",
    "        return (len(self.circuit)-1)//2\n",
    "\n",
    "    def pdf(self, theta_list):\n",
    "        '''get probability distribution function'''\n",
    "        wf = initial_wf(self.circuit.num_bit)\n",
    "        self.circuit(wf, theta_list)\n",
    "        pl = np.abs(wf)**2\n",
    "        # introducing sampling error\n",
    "        if self.batch_size is not None:\n",
    "            pl = prob_from_sample(sample_from_prob(np.arange(len(pl)), pl, self.batch_size),\n",
    "                    len(pl), False)\n",
    "        return pl\n",
    "\n",
    "    def mmd_loss(self, theta_list):\n",
    "        '''get the loss'''\n",
    "        # get and cahe probability distritbution of Born Machine\n",
    "        self._prob = self.pdf(theta_list)\n",
    "        # use wave function to get mmd loss\n",
    "        return self.mmd(self._prob, self.p_data)\n",
    "\n",
    "    def gradient(self, theta_list):\n",
    "        '''\n",
    "        cheat and get gradient.\n",
    "        '''\n",
    "        prob = self.pdf(theta_list)\n",
    "        grad = []\n",
    "        for i in range(len(theta_list)):\n",
    "            # pi/2 phase\n",
    "            theta_list[i] += np.pi/2.\n",
    "            prob_pos = self.pdf(theta_list)\n",
    "            # -pi/2 phase\n",
    "            theta_list[i] -= np.pi\n",
    "            prob_neg = self.pdf(theta_list)\n",
    "            # recover\n",
    "            theta_list[i] += np.pi/2.\n",
    "\n",
    "            grad_pos = self.mmd.kernel_expect(prob, prob_pos) - self.mmd.kernel_expect(prob, prob_neg)\n",
    "            grad_neg = self.mmd.kernel_expect(self.p_data, prob_pos) - self.mmd.kernel_expect(self.p_data, prob_neg)\n",
    "            grad.append(grad_pos - grad_neg)\n",
    "        return np.array(grad)\n",
    "\n",
    "    def gradient_numerical(self, theta_list, delta=1e-2):\n",
    "        '''\n",
    "        numerical differenciation.\n",
    "        '''\n",
    "        grad = []\n",
    "        for i in range(len(theta_list)):\n",
    "            theta_list[i] += delta/2.\n",
    "            loss_pos = self.mmd_loss(theta_list)\n",
    "            theta_list[i] -= delta\n",
    "            loss_neg = self.mmd_loss(theta_list)\n",
    "            theta_list[i] += delta/2.\n",
    "\n",
    "            grad_i = (loss_pos - loss_neg)/delta\n",
    "            grad.append(grad_i)\n",
    "        return np.array(grad)\n",
    "    \n",
    "def sample_from_prob(x, pl, num_sample):\n",
    "    '''\n",
    "    sample x from probability.\n",
    "    '''\n",
    "    pl = 1. / pl.sum() * pl\n",
    "    indices = np.arange(len(x))\n",
    "    res = np.random.choice(indices, num_sample, p=pl)\n",
    "    return np.array([x[r] for r in res])\n",
    "\n",
    "\n",
    "def prob_from_sample(dataset, hndim, packbits):\n",
    "    '''\n",
    "    emperical probability from data.\n",
    "    '''\n",
    "    if packbits:\n",
    "        dataset = packnbits(dataset).ravel()\n",
    "    p_data = np.bincount(dataset, minlength=hndim)\n",
    "    p_data = p_data / float(np.sum(p_data))\n",
    "    return p_data"
   ]
  },
  {
   "cell_type": "markdown",
   "metadata": {},
   "source": [
    "# MMD Loss Function"
   ]
  },
  {
   "cell_type": "code",
   "execution_count": 26,
   "metadata": {
    "collapsed": true
   },
   "outputs": [],
   "source": [
    "class RBFMMD2(object):\n",
    "    def __init__(self, sigma_list, basis):\n",
    "        self.sigma_list = sigma_list\n",
    "        self.basis = basis\n",
    "        self.K = mix_rbf_kernel(basis, basis, self.sigma_list)\n",
    "\n",
    "    def __call__(self, px, py):\n",
    "        '''\n",
    "        Args:\n",
    "            px (1darray, default=None): probability for data set x, used only when self.is_exact==True.\n",
    "            py (1darray, default=None): same as px, but for data set y.\n",
    "\n",
    "        Returns:\n",
    "            float, loss.\n",
    "        '''\n",
    "        pxy = px-py\n",
    "        return self.kernel_expect(pxy, pxy)\n",
    "\n",
    "    def kernel_expect(self, px, py):\n",
    "        return px.dot(self.K).dot(py)\n",
    "\n",
    "def mix_rbf_kernel(x, y, sigma_list):\n",
    "    ndim = x.ndim\n",
    "    if ndim == 1:\n",
    "        exponent = np.abs(x[:, None] - y[None, :])**2\n",
    "    elif ndim == 2:\n",
    "        exponent = ((x[:, None, :] - y[None, :, :])**2).sum(axis=2)\n",
    "    else:\n",
    "        raise\n",
    "    K = 0.0\n",
    "    for sigma in sigma_list:\n",
    "        gamma = 1.0 / (2 * sigma)\n",
    "        K = K + np.exp(-gamma * exponent)\n",
    "    return K"
   ]
  },
  {
   "cell_type": "code",
   "execution_count": 27,
   "metadata": {
    "collapsed": true
   },
   "outputs": [],
   "source": [
    "def load_barstripe(geometry, depth):\n",
    "    '''3 x 3 bar and stripes.'''\n",
    "    num_bit = np.prod(geometry)\n",
    "\n",
    "    # standard circuit\n",
    "    pairs = get_nn_pairs(geometry)\n",
    "    circuit = get_demo_circuit(num_bit, depth, pairs)\n",
    "\n",
    "    # bar and stripe\n",
    "    p_bs = barstripe_pdf(geometry)\n",
    "\n",
    "    # mmd loss\n",
    "    mmd = RBFMMD2(sigma_list=[0.5,1,2,4], basis=binary_basis((num_bit,)))\n",
    "\n",
    "    # Born Machine\n",
    "    bm = BornMachine(circuit, mmd, p_bs)\n",
    "    return bm"
   ]
  },
  {
   "cell_type": "code",
   "execution_count": 30,
   "metadata": {},
   "outputs": [
    {
     "name": "stdout",
     "output_type": "stream",
     "text": [
      "0.10912834837939642\n"
     ]
    }
   ],
   "source": [
    "depth = 4\n",
    "np.random.seed(2)\n",
    "\n",
    "bm = load_barstripe(geometry, depth)\n",
    "theta_list = np.random.random(bm.circuit.num_param)*2*np.pi\n",
    "\n",
    "print(bm.mmd_loss(theta_list))"
   ]
  },
  {
   "cell_type": "code",
   "execution_count": 31,
   "metadata": {},
   "outputs": [
    {
     "name": "stdout",
     "output_type": "stream",
     "text": [
      "[ 1.07932375e-02  5.23353936e-03 -8.94735027e-03 -1.22808658e-03\n",
      "  7.34646954e-03  3.76654432e-03  2.71817992e-02 -2.23601194e-03\n",
      " -2.27839701e-02 -6.91220541e-03  5.10069885e-03 -1.27592444e-02\n",
      "  1.57912827e-03  7.20107172e-04 -1.74986844e-03  3.41278303e-03\n",
      " -1.42311830e-02  5.96123089e-03  2.03191175e-03 -8.95279875e-03\n",
      " -2.60954943e-03 -5.74649158e-03  2.82203223e-03 -1.97177952e-03\n",
      " -1.86504456e-03 -1.30923764e-02  7.37189555e-03  4.17172566e-03\n",
      " -3.38442841e-03  6.44492103e-03  7.17053954e-03  1.51925480e-02\n",
      " -3.56108689e-03  7.44084075e-04  3.58691486e-04 -8.46230893e-04\n",
      "  4.77805972e-03 -1.91900025e-03  7.55088172e-03  1.05937046e-02\n",
      "  2.00790125e-03  7.90649541e-03  7.66929549e-03 -1.58358076e-02\n",
      "  1.55342533e-02  2.52968796e-02 -2.47725625e-03 -1.98173896e-02\n",
      "  2.66229079e-05  4.33049173e-03 -2.83356469e-03 -8.62518122e-03\n",
      "  1.20520725e-03  1.30931536e-02  7.95482604e-03 -3.01180314e-02\n",
      "  8.60723630e-03 -9.65504172e-03  2.28045794e-02 -9.98723474e-03\n",
      " -1.07840092e-02 -2.29531143e-02  5.64496019e-03  1.04333038e-02\n",
      "  3.89202729e-03 -9.41239316e-03  1.43033842e-03  4.14785032e-03\n",
      " -1.33691906e-03 -1.66344402e-02  4.32310292e-03  4.61166829e-03\n",
      " -9.36671452e-04  8.79166985e-03  2.24355818e-04 -6.96491641e-03\n",
      "  1.51569099e-03 -1.08972714e-02]\n",
      "[ 1.07932054e-02  5.23349643e-03 -8.94704697e-03 -1.22807483e-03\n",
      "  7.34648428e-03  3.76658124e-03  2.71817518e-02 -2.23598266e-03\n",
      " -2.27837622e-02 -6.91214823e-03  5.10099187e-03 -1.27591669e-02\n",
      "  1.57910723e-03  7.20048174e-04 -1.74984326e-03  3.41282076e-03\n",
      " -1.42311411e-02  5.96126993e-03  2.03170384e-03 -8.95307945e-03\n",
      " -2.60971201e-03 -5.74641364e-03  2.82198223e-03 -1.97176564e-03\n",
      " -1.86498766e-03 -1.30924457e-02  7.37166701e-03  4.17202512e-03\n",
      " -3.38438264e-03  6.44498718e-03  7.17043836e-03  1.51925360e-02\n",
      " -3.56099290e-03  7.44129926e-04  3.58607519e-04 -8.46280028e-04\n",
      "  4.77819804e-03 -1.91889725e-03  7.55075323e-03  1.05937069e-02\n",
      "  2.00797934e-03  7.90650527e-03  7.66902881e-03 -1.58356788e-02\n",
      "  1.55341611e-02  2.52966967e-02 -2.47711371e-03 -1.98171798e-02\n",
      "  2.67131301e-05  4.33049651e-03 -2.83350035e-03 -8.62518444e-03\n",
      "  1.20529512e-03  1.30931289e-02  7.95466918e-03 -3.01177447e-02\n",
      "  8.60708168e-03 -9.65500375e-03  2.28044445e-02 -9.98719627e-03\n",
      " -1.07840756e-02 -2.29528259e-02  5.64499284e-03  1.04332015e-02\n",
      "  3.89203865e-03 -9.41238538e-03  1.43033403e-03  4.14789741e-03\n",
      " -1.33691140e-03 -1.66343317e-02  4.32303130e-03  4.61171111e-03\n",
      " -9.36663851e-04  8.79165404e-03  2.24366194e-04 -6.96496871e-03\n",
      "  1.51568482e-03 -1.08972472e-02]\n"
     ]
    }
   ],
   "source": [
    "g1 = bm.gradient(theta_list)\n",
    "print(g1)\n",
    "g2 = bm.gradient_numerical(theta_list)\n",
    "print(g2)"
   ]
  },
  {
   "cell_type": "markdown",
   "metadata": {},
   "source": [
    "# Different Training Strategies"
   ]
  },
  {
   "cell_type": "code",
   "execution_count": 32,
   "metadata": {
    "collapsed": true
   },
   "outputs": [],
   "source": [
    "  def train(bm, theta_list, method, max_iter=1000, popsize=50, step_rate=0.1):\n",
    "    '''train a Born Machine.'''\n",
    "    step = [0]\n",
    "    def callback(x, *args, **kwargs):\n",
    "        step[0] += 1\n",
    "        print('step = %d, loss = %s'%(step[0], bm.mmd_loss(x)))\n",
    "        \n",
    "    theta_list = np.array(theta_list)\n",
    "    if method == 'Adam':\n",
    "        from climin import Adam\n",
    "        optimizer = Adam(wrt=theta_list, fprime=bm.gradient,step_rate=step_rate)\n",
    "        for info in optimizer:\n",
    "            callback(theta_list)\n",
    "            if step[0] == max_iter:\n",
    "                break\n",
    "        return bm.mmd_loss(theta_list), theta_list\n",
    "    else:\n",
    "        from scipy.optimize import minimize\n",
    "        res = minimize(bm.mmd_loss, x0=theta_list,\n",
    "                       method=method, jac = bm.gradient, tol=1e-12,\n",
    "                       options={'maxiter': max_iter, 'disp': 0, 'gtol':1e-10, 'ftol':0},\n",
    "                       callback=callback,\n",
    "                       )\n",
    "        return res.fun, res.x"
   ]
  },
  {
   "cell_type": "code",
   "execution_count": 33,
   "metadata": {},
   "outputs": [
    {
     "name": "stdout",
     "output_type": "stream",
     "text": [
      "step = 1, loss = 0.21268315180514008\n",
      "step = 2, loss = 0.08979787904633829\n",
      "step = 3, loss = 0.045239408272263415\n",
      "step = 4, loss = 0.0319567463303877\n",
      "step = 5, loss = 0.014244764719906206\n",
      "step = 6, loss = 0.008397834437896594\n",
      "step = 7, loss = 0.005594198817760249\n",
      "step = 8, loss = 0.0035356451139186952\n",
      "step = 9, loss = 0.0018474418666711379\n",
      "step = 10, loss = 0.0016284635802293161\n",
      "step = 11, loss = 0.0012383183337018196\n",
      "step = 12, loss = 0.0010288230114687451\n",
      "step = 13, loss = 0.0008540045900669738\n",
      "step = 14, loss = 0.0006560573346776953\n",
      "step = 15, loss = 0.00048621976264252327\n",
      "step = 16, loss = 0.0003477521667421844\n",
      "step = 17, loss = 0.00024623753601417235\n",
      "step = 18, loss = 0.00021370595732652582\n",
      "step = 19, loss = 0.00016751733793579133\n",
      "step = 20, loss = 0.00014500158499851105\n",
      "step = 21, loss = 0.00013674627438064655\n"
     ]
    },
    {
     "data": {
      "image/png": "[encoded data removed]",
      "text/plain": [
       "<Figure size 432x288 with 1 Axes>"
      ]
     },
     "metadata": {},
     "output_type": "display_data"
    }
   ],
   "source": [
    "np.random.seed(2)\n",
    "depth = 4\n",
    "\n",
    "bm = load_barstripe((2, 2), depth)\n",
    "theta_list = np.random.random(bm.circuit.num_param)*2*np.pi\n",
    "loss, theta_list = train(bm, theta_list, 'L-BFGS-B', max_iter=20, popsize=10)\n",
    "pl = bm.pdf(theta_list)\n",
    "\n",
    "# display\n",
    "plt.plot(bm.p_data)\n",
    "plt.plot(pl)\n",
    "plt.legend(['Data', 'Gradient Born Machine'])\n",
    "plt.show()"
   ]
  },
  {
   "cell_type": "code",
   "execution_count": null,
   "metadata": {
    "collapsed": true
   },
   "outputs": [],
   "source": []
  }
 ],
 "metadata": {
  "kernelspec": {
   "display_name": "Python 3",
   "language": "python",
   "name": "python3"
  },
  "language_info": {
   "codemirror_mode": {
    "name": "ipython",
    "version": 3
   },
   "file_extension": ".py",
   "mimetype": "text/x-python",
   "name": "python",
   "nbconvert_exporter": "python",
   "pygments_lexer": "ipython3",
   "version": "3.6.4"
  }
 },
 "nbformat": 4,
 "nbformat_minor": 2
}
