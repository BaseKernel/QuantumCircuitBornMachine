{
 "cells": [
  {
   "cell_type": "code",
   "execution_count": 2,
   "metadata": {
    "collapsed": true
   },
   "outputs": [],
   "source": [
    "import numpy as np\n",
    "import matplotlib.pyplot as plt\n",
    "from projectq.ops import Rx, Ry, Rz, CNOT, Measure\n",
    "from projectq.cengines import MainEngine\n",
    "from projectq.backends import CircuitDrawer, Simulator"
   ]
  },
  {
   "cell_type": "markdown",
   "metadata": {},
   "source": [
    "# Dataset, binary data and continuous data"
   ]
  },
  {
   "cell_type": "code",
   "execution_count": 3,
   "metadata": {
    "collapsed": true
   },
   "outputs": [],
   "source": [
    "def digit_basis(geometry):\n",
    "    num_bit = np.prod(geometry)\n",
    "    M = 2**num_bit\n",
    "    x = np.arange(M)\n",
    "    return x\n",
    "\n",
    "def binary_basis(geometry):\n",
    "    num_bit = np.prod(geometry)\n",
    "    M = 2**num_bit\n",
    "    x = np.arange(M)\n",
    "    return unpacknbits(x[:,None], num_bit).reshape((-1,)+geometry)\n",
    "\n",
    "def unpacknbits(arr, nbit, axis=-1):\n",
    "    '''unpack numbers to bits.'''\n",
    "    nd = np.ndim(arr)\n",
    "    if axis < 0:\n",
    "        axis = nd + axis\n",
    "    return (((arr & (1 << np.arange(nbit - 1, -1, -1)).reshape([-1] + [1] * (nd - axis - 1)))) > 0).astype('int8')\n",
    "\n",
    "\n",
    "def packnbits(arr, axis=-1):\n",
    "    '''pack bits to numbers.'''\n",
    "    nd = np.ndim(arr)\n",
    "    nbit = np.shape(arr)[axis]\n",
    "    if axis < 0:\n",
    "        axis = nd + axis\n",
    "    return (arr * (1 << np.arange(nbit - 1, -1, -1)).reshape([-1] + [1] * (nd - axis - 1))\\\n",
    "           ).sum(axis=axis, keepdims=True).astype('int')"
   ]
  },
  {
   "cell_type": "code",
   "execution_count": 4,
   "metadata": {
    "collapsed": true
   },
   "outputs": [],
   "source": [
    "def gaussian_pdf(geometry, mu, sigma):\n",
    "    '''get gaussian distribution function'''\n",
    "    x = digit_basis(geometry)\n",
    "    pl = 1. / np.sqrt(2 * np.pi * sigma**2) * \\\n",
    "        np.exp(-(x - mu)**2 / (2. * sigma**2))\n",
    "    return pl/pl.sum()"
   ]
  },
  {
   "cell_type": "code",
   "execution_count": 5,
   "metadata": {
    "collapsed": true
   },
   "outputs": [],
   "source": [
    "def barstripe_pdf(geometry):\n",
    "    '''get bar and stripes PDF'''\n",
    "    x = binary_basis(geometry)\n",
    "    pl = is_bs(x)\n",
    "    return pl/pl.sum()\n",
    "\n",
    "def is_bs(samples):\n",
    "    '''a sample is a bar or a stripe.'''\n",
    "    return (np.abs(np.diff(samples,axis=-1)).sum(axis=(1,2))==0\\\n",
    "           )|((np.abs(np.diff(samples, axis=1)).sum(axis=(1,2)))==0)"
   ]
  },
  {
   "cell_type": "code",
   "execution_count": 12,
   "metadata": {},
   "outputs": [
    {
     "data": {
      "image/png": "[encoded data removed]",
      "text/plain": [
       "<Figure size 432x288 with 1 Axes>"
      ]
     },
     "metadata": {},
     "output_type": "display_data"
    }
   ],
   "source": [
    "geometry = (6,)\n",
    "pl1 = gaussian_pdf(geometry, mu=2**5-0.5, sigma=2**4)\n",
    "plt.plot(pl1)\n",
    "plt.show()"
   ]
  },
  {
   "cell_type": "code",
   "execution_count": 14,
   "metadata": {},
   "outputs": [
    {
     "data": {
      "image/png": "[encoded data removed]",
      "text/plain": [
       "<Figure size 432x288 with 1 Axes>"
      ]
     },
     "metadata": {},
     "output_type": "display_data"
    }
   ],
   "source": [
    "geometry = (3,3)\n",
    "pl2 = barstripe_pdf(geometry)\n",
    "plt.plot(pl2)\n",
    "plt.show()"
   ]
  },
  {
   "cell_type": "markdown",
   "metadata": {},
   "source": [
    "# Build Circuits"
   ]
  },
  {
   "cell_type": "code",
   "execution_count": 23,
   "metadata": {},
   "outputs": [],
   "source": [
    "class ArbituaryRotation(object):\n",
    "    def __init__(self, num_bit):\n",
    "        self.num_bit = num_bit\n",
    "        self.mask = np.array([True] * (3*num_bit), dtype='bool')\n",
    "\n",
    "    def __call__(self, qureg, theta_list):\n",
    "        nvar = sum(self.mask)\n",
    "        gates = [Rz, Rx, Rz]\n",
    "        for i, (theta, mask) in enumerate(zip(theta_list[:nvar], self.mask)):\n",
    "            ibit, igate = i//3, i%3\n",
    "            if mask:\n",
    "                gate = gates[igate](theta)\n",
    "                gate | qureg[ibit]\n",
    "        return theta_list[nvar:]\n",
    "\n",
    "    def __str__(self):\n",
    "        return 'Rotate[%d]'%(self.num_param)\n",
    "\n",
    "    @property\n",
    "    def num_param(self):\n",
    "        return sum(self.mask)\n",
    "    \n",
    "class Entangler(object):\n",
    "    def __init__(self, num_bit, pairs, gate, num_param_per_pair):\n",
    "        self.num_bit = num_bit\n",
    "        self.pairs = pairs\n",
    "        self.gate = gate\n",
    "        self.num_param_per_pair = num_param_per_pair\n",
    "        self.mask = np.array([True]*(num_bit*num_param_per_pair), dtype='bool')\n",
    "\n",
    "    def __str__(self):\n",
    "        pair_str = ','.join(['%d-%d'%(i,j) for i,j in self.pairs])\n",
    "        return '%s(%s)'%(self.gate, pair_str)\n",
    "\n",
    "    def __call__(self, qureg, theta_list):\n",
    "        for pair in self.pairs:\n",
    "            if self.num_param_per_pair == 0:\n",
    "                gate = self.gate\n",
    "            else:\n",
    "                theta_i, theta_list = np.split(theta_list, self.num_param_per_pair)\n",
    "                gate = self.gate(*theta_i)\n",
    "            gate | (qureg[pair[0]], qureg[pair[1]])\n",
    "        return theta_list\n",
    "\n",
    "    @property\n",
    "    def num_param(self):\n",
    "        return sum(self.mask)\n",
    "    \n",
    "\n",
    "class BlockQueue(list):\n",
    "    @property\n",
    "    def num_bit(self):\n",
    "        return self[0].num_bit\n",
    "\n",
    "    @property\n",
    "    def num_param(self):\n",
    "        return sum([b.num_param for b in self])\n",
    "\n",
    "    def __call__(self, qureg, theta_list):\n",
    "        for block in self:\n",
    "            theta_list = block(qureg, theta_list)\n",
    "        np.testing.assert_(len(theta_list)==0)\n",
    "\n",
    "    def __str__(self):\n",
    "        return '\\n'.join([str(b) for b in self])\n",
    "    \n",
    "def cnot_entangler(num_bit, pairs):\n",
    "    '''controled-not entangler.'''\n",
    "    return Entangler(num_bit, pairs, CNOT, 0)\n",
    "\n",
    "def get_demo_circuit(num_bit, depth, pairs):\n",
    "    blocks = []\n",
    "    # build circuit\n",
    "    for idepth in range(depth+1):\n",
    "        blocks.append(ArbituaryRotation(num_bit))\n",
    "        if idepth!=depth:\n",
    "            blocks.append(cnot_entangler(num_bit, pairs))\n",
    "\n",
    "    # set leading and trailing Rz to disabled\n",
    "    blocks[0].mask[::3] = False\n",
    "    blocks[-1].mask[2::3] = False\n",
    "    return BlockQueue(blocks)"
   ]
  },
  {
   "cell_type": "code",
   "execution_count": 24,
   "metadata": {
    "collapsed": true
   },
   "outputs": [],
   "source": [
    "TEX_FOLDER = 'data'\n",
    "TEX_FILENAME = '_temp.tex'\n",
    "\n",
    "class CircuitContext(object):\n",
    "    '''\n",
    "    Context for running circuits.\n",
    "\n",
    "    Args:\n",
    "        task ('ibm'|'draw'|'simulate'): task that decide the environment type.\n",
    "        num_bit (int): number of bits in register.\n",
    "        ibm_config (dict): extra arguments for IBM backend.\n",
    "    '''\n",
    "\n",
    "    def __init__(self, task, num_bit, ibm_config=None):\n",
    "        self.task = task\n",
    "        self.num_bit = num_bit\n",
    "        self.ibm_config = ibm_config\n",
    "\n",
    "    def __enter__(self):\n",
    "        '''\n",
    "        Enter context,\n",
    "\n",
    "        Attributes:\n",
    "            eng (MainEngine): main engine.\n",
    "            backend ('graphical' or 'simulate'): backend used.\n",
    "            qureg (Qureg): quantum register.\n",
    "        '''\n",
    "        if self.task=='ibm':\n",
    "            import projectq.setups.ibm\n",
    "        else:\n",
    "            import projectq.setups.default\n",
    "\n",
    "        # create a main compiler engine with a specific backend:\n",
    "        if self.task == 'draw':\n",
    "            self.backend = CircuitDrawer()\n",
    "            # locations = {0: 0, 1: 1, 2: 2, 3:3} # swap order of lines 0-1-2.\n",
    "            # self.backend.set_qubit_locations(locations)\n",
    "        elif self.task == 'simulate':\n",
    "            self.backend = Simulator()\n",
    "        elif self.task == 'ibm':\n",
    "            # choose device\n",
    "            device = self.ibm_config.get('device', 'ibmqx2' if self.num_bit<=5 else 'ibmqx5')\n",
    "            # check data\n",
    "            if self.ibm_config is None:\n",
    "                raise\n",
    "            if device == 'ibmqx5':\n",
    "                device_num_bit = 16\n",
    "            else:\n",
    "                device_num_bit = 5\n",
    "            if device_num_bit < self.num_bit:\n",
    "                raise AttributeError('device %s has not enough qubits for %d bit simulation!'%(device, self.num_bit))\n",
    "\n",
    "            self.backend = IBMBackend(use_hardware=True, num_runs=self.ibm_config['num_runs'],\n",
    "                    user=self.ibm_config['user'],\n",
    "                    password=self.ibm_config['password'],\n",
    "                    device=device, verbose=True)\n",
    "        else:\n",
    "            raise ValueError('engine %s not defined' % self.task)\n",
    "        self.eng = MainEngine(self.backend)\n",
    "        # initialize register\n",
    "        self.qureg = self.eng.allocate_qureg(self.num_bit)\n",
    "        return self\n",
    "\n",
    "    def __exit__(self, *args):\n",
    "        '''\n",
    "        exit, meanwhile cheat and get wave function.\n",
    "\n",
    "        Attributes:\n",
    "            wf (1darray): for 'simulate' task, the wave function vector.\n",
    "            res (1darray): for 'ibm' task, the measurements output.\n",
    "        '''\n",
    "        if self.task == 'draw':\n",
    "            self._viz_circuit()\n",
    "        elif self.task == 'simulate':\n",
    "            self.eng.flush()\n",
    "            order, qvec = self.backend.cheat()\n",
    "            self.wf = np.array(qvec)\n",
    "            Measure | self.qureg\n",
    "            self.eng.flush()\n",
    "        elif self.task == 'ibm':\n",
    "            Measure | self.qureg\n",
    "            self.eng.flush()\n",
    "            self.res = self.backend.get_probabilities(self.qureg)\n",
    "        else:\n",
    "            raise\n",
    "        return self\n",
    "\n",
    "    def _viz_circuit(self):\n",
    "        Measure | self.qureg\n",
    "        self.eng.flush()\n",
    "        # print latex code to draw the circuit:\n",
    "        s = self.backend.get_latex()\n",
    "\n",
    "        # save graph to latex file\n",
    "        os.chdir(TEX_FOLDER)\n",
    "        with open(TEX_FILENAME, 'w') as f:\n",
    "            f.write(s)\n",
    "\n",
    "        # texfile = os.path.join(folder, 'circuit-%d.tex'%bench_id)\n",
    "        pdffile = TEX_FILENAME[:-3]+'pdf'\n",
    "        os.system('pdflatex %s'%TEX_FILENAME)\n",
    "        openfile(pdffile)"
   ]
  },
  {
   "cell_type": "code",
   "execution_count": 25,
   "metadata": {
    "collapsed": true
   },
   "outputs": [],
   "source": [
    "def get_nn_pairs(geometry):\n",
    "    '''define pairs that cnot gates will apply.'''\n",
    "    num_bit = np.prod(geometry)\n",
    "    if len(geometry) == 2:\n",
    "        nrow, ncol = geometry\n",
    "        res = []\n",
    "        for ij in range(num_bit):\n",
    "            i, j = ij // ncol, ij % ncol\n",
    "            res.extend([(ij, i_ * ncol + j_)\n",
    "                        for i_, j_ in [((i + 1) % nrow, j), (i, (j + 1) % ncol)]])\n",
    "        return res\n",
    "    elif len(geometry) == 1:\n",
    "        res = []\n",
    "        for inth in range(2):\n",
    "            for i in range(inth, num_bit, 2):\n",
    "                res = res + [(i, i_ % num_bit) for i_ in range(i + 1, i + 2)]\n",
    "        return res\n",
    "    else:\n",
    "       raise NotImplementedError('')"
   ]
  },
  {
   "cell_type": "code",
   "execution_count": 30,
   "metadata": {},
   "outputs": [
    {
     "name": "stdout",
     "output_type": "stream",
     "text": [
      "Rotate[12]\n",
      "CX(0-1,2-3,4-5,1-2,3-4,5-0)\n",
      "Rotate[18]\n",
      "CX(0-1,2-3,4-5,1-2,3-4,5-0)\n",
      "Rotate[12]\n"
     ]
    }
   ],
   "source": [
    "depth = 2\n",
    "geometry = (6,)\n",
    "\n",
    "num_bit = np.prod(geometry)\n",
    "pairs = get_nn_pairs(geometry)\n",
    "circuit = get_demo_circuit(num_bit, depth, pairs)\n",
    "print(circuit)"
   ]
  },
  {
   "cell_type": "code",
   "execution_count": 37,
   "metadata": {
    "scrolled": true
   },
   "outputs": [
    {
     "name": "stdout",
     "output_type": "stream",
     "text": [
      "[6.123234e-17+0.j 0.000000e+00+0.j 0.000000e+00+0.j 0.000000e+00+0.j\n",
      " 0.000000e+00+0.j 0.000000e+00+0.j 0.000000e+00+0.j 0.000000e+00+0.j\n",
      " 0.000000e+00+0.j 0.000000e+00+0.j 0.000000e+00+0.j 0.000000e+00+0.j\n",
      " 0.000000e+00+0.j 0.000000e+00+0.j 0.000000e+00+0.j 0.000000e+00+0.j\n",
      " 0.000000e+00+0.j 0.000000e+00+0.j 0.000000e+00+0.j 0.000000e+00+0.j\n",
      " 0.000000e+00+0.j 0.000000e+00+0.j 0.000000e+00+0.j 0.000000e+00+0.j\n",
      " 0.000000e+00+0.j 0.000000e+00+0.j 0.000000e+00+0.j 0.000000e+00+0.j\n",
      " 0.000000e+00+0.j 0.000000e+00+0.j 0.000000e+00+0.j 0.000000e+00+0.j\n",
      " 0.000000e+00+0.j 0.000000e+00+0.j 0.000000e+00+0.j 0.000000e+00+0.j\n",
      " 0.000000e+00+0.j 0.000000e+00+0.j 0.000000e+00+0.j 0.000000e+00+0.j\n",
      " 0.000000e+00+0.j 0.000000e+00+0.j 0.000000e+00+0.j 0.000000e+00+0.j\n",
      " 0.000000e+00+0.j 0.000000e+00-1.j 0.000000e+00+0.j 0.000000e+00+0.j\n",
      " 0.000000e+00+0.j 0.000000e+00+0.j 0.000000e+00+0.j 0.000000e+00+0.j\n",
      " 0.000000e+00+0.j 0.000000e+00+0.j 0.000000e+00+0.j 0.000000e+00+0.j\n",
      " 0.000000e+00+0.j 0.000000e+00+0.j 0.000000e+00+0.j 0.000000e+00+0.j\n",
      " 0.000000e+00+0.j 0.000000e+00+0.j 0.000000e+00+0.j 0.000000e+00+0.j]\n"
     ]
    }
   ],
   "source": [
    "theta_list = np.zeros(circuit.num_param)\n",
    "theta_list[1] = np.pi\n",
    "with CircuitContext('simulate', np.prod(geometry)) as cc:\n",
    "    circuit(cc.qureg, theta_list)\n",
    "\n",
    "print(cc.wf)"
   ]
  },
  {
   "cell_type": "markdown",
   "metadata": {},
   "source": [
    "# Build The Gradient training framework for Born Machine"
   ]
  },
  {
   "cell_type": "code",
   "execution_count": 46,
   "metadata": {
    "collapsed": true
   },
   "outputs": [],
   "source": [
    "class BornMachine(object):\n",
    "    '''\n",
    "    Born Machine,\n",
    "\n",
    "    Args:\n",
    "        circuit (BlockQueue): the circuit architechture.\n",
    "        batch_size (int|None): introducing sampling error, None for no sampling error.\n",
    "    '''\n",
    "    def __init__(self, circuit, mmd, p_data, batch_size=None):\n",
    "        self.circuit = circuit\n",
    "        self.mmd = mmd\n",
    "        self.p_data = p_data\n",
    "        self.batch_size = batch_size\n",
    "\n",
    "    @property\n",
    "    def depth(self):\n",
    "        return (len(self.circuit)-1)//2\n",
    "\n",
    "    def viz(self, theta_list=None):\n",
    "        '''visualize this Born Machine'''\n",
    "        if theta_list is None:\n",
    "            theta_list = np.random.random(circuit.num_param)*2*np.pi\n",
    "        with CircuitContext('draw', self.circuit.num_bit) as cc:\n",
    "            self.circuit(cc.qureg, theta_list)\n",
    "\n",
    "    def pdf(self, theta_list):\n",
    "        '''get probability distribution function'''\n",
    "        with CircuitContext('simulate', self.circuit.num_bit) as cc:\n",
    "            self.circuit(cc.qureg, theta_list)\n",
    "        pl = np.abs(cc.wf)**2\n",
    "        # introducing sampling error\n",
    "        if self.batch_size is not None:\n",
    "            pl = prob_from_sample(sample_from_prob(np.arange(len(pl)), pl, self.batch_size),\n",
    "                    len(pl), False)\n",
    "        return pl\n",
    "\n",
    "    def mmd_loss(self, theta_list):\n",
    "        '''get the loss'''\n",
    "        # get probability distritbution of Born Machine\n",
    "        self._prob = self.pdf(theta_list)\n",
    "        # use wave function to get mmd loss\n",
    "        return self.mmd(self._prob, self.p_data)\n",
    "\n",
    "    def gradient(self, theta_list):\n",
    "        '''\n",
    "        cheat and get gradient.\n",
    "        '''\n",
    "        prob = self._prob\n",
    "        grad = []\n",
    "        for i in range(len(theta_list)):\n",
    "            # pi/2 phase\n",
    "            theta_list[i] += np.pi/2.\n",
    "            prob_pos = self.pdf(theta_list)\n",
    "            # -pi/2 phase\n",
    "            theta_list[i] -= np.pi\n",
    "            prob_neg = self.pdf(theta_list)\n",
    "            # recover\n",
    "            theta_list[i] += np.pi/2.\n",
    "\n",
    "            grad_pos = self.mmd.kernel_expect(prob, prob_pos) - self.mmd.kernel_expect(prob, prob_neg)\n",
    "            grad_neg = self.mmd.kernel_expect(self.p_data, prob_pos) - self.mmd.kernel_expect(self.p_data, prob_neg)\n",
    "            grad.append(grad_pos - grad_neg)\n",
    "        return np.array(grad)\n",
    "\n",
    "    def gradient_numerical(self, theta_list, delta=1e-2):\n",
    "        '''\n",
    "        numerical differenciation.\n",
    "        '''\n",
    "        grad = []\n",
    "        for i in range(len(theta_list)):\n",
    "            theta_list[i] += delta/2.\n",
    "            loss_pos = self.mmd_loss(theta_list)\n",
    "            theta_list[i] -= delta\n",
    "            loss_neg = self.mmd_loss(theta_list)\n",
    "            theta_list[i] += delta/2.\n",
    "\n",
    "            grad_i = (loss_pos - loss_neg)/delta\n",
    "            grad.append(grad_i)\n",
    "        return np.array(grad)\n",
    "    \n",
    "def sample_from_prob(x, pl, num_sample):\n",
    "    '''\n",
    "    sample x from probability.\n",
    "    '''\n",
    "    pl = 1. / pl.sum() * pl\n",
    "    indices = np.arange(len(x))\n",
    "    res = np.random.choice(indices, num_sample, p=pl)\n",
    "    return np.array([x[r] for r in res])\n",
    "\n",
    "\n",
    "def prob_from_sample(dataset, hndim, packbits):\n",
    "    '''\n",
    "    emperical probability from data.\n",
    "    '''\n",
    "    if packbits:\n",
    "        dataset = packnbits(dataset).ravel()\n",
    "    p_data = np.bincount(dataset, minlength=hndim)\n",
    "    p_data = p_data / float(np.sum(p_data))\n",
    "    return p_data"
   ]
  },
  {
   "cell_type": "markdown",
   "metadata": {},
   "source": [
    "# MMD Loss Function"
   ]
  },
  {
   "cell_type": "code",
   "execution_count": 43,
   "metadata": {
    "collapsed": true
   },
   "outputs": [],
   "source": [
    "class RBFMMD2(object):\n",
    "    def __init__(self, sigma_list, basis):\n",
    "        self.sigma_list = sigma_list\n",
    "        self.basis = basis\n",
    "        self.K = mix_rbf_kernel(basis, basis, self.sigma_list)\n",
    "\n",
    "    def __call__(self, px, py):\n",
    "        '''\n",
    "        Args:\n",
    "            px (1darray, default=None): probability for data set x, used only when self.is_exact==True.\n",
    "            py (1darray, default=None): same as px, but for data set y.\n",
    "\n",
    "        Returns:\n",
    "            float, loss.\n",
    "        '''\n",
    "        pxy = px-py\n",
    "        return self.kernel_expect(pxy, pxy)\n",
    "\n",
    "    def kernel_expect(self, px, py):\n",
    "        return px.dot(self.K).dot(py)\n",
    "\n",
    "def mix_rbf_kernel(x, y, sigma_list):\n",
    "    ndim = x.ndim\n",
    "    if ndim == 1:\n",
    "        exponent = np.abs(x[:, None] - y[None, :])**2\n",
    "    elif ndim == 2:\n",
    "        exponent = ((x[:, None, :] - y[None, :, :])**2).sum(axis=2)\n",
    "    else:\n",
    "        raise\n",
    "    K = 0.0\n",
    "    for sigma in sigma_list:\n",
    "        gamma = 1.0 / (2 * sigma)\n",
    "        K = K + np.exp(-gamma * exponent)\n",
    "    return K"
   ]
  },
  {
   "cell_type": "code",
   "execution_count": 41,
   "metadata": {
    "collapsed": true
   },
   "outputs": [],
   "source": [
    "def load_gaussian(num_bit, depth):\n",
    "    '''gaussian distribution.'''\n",
    "    geometry = (num_bit,)\n",
    "    hndim = 2**num_bit\n",
    "\n",
    "    # standard circuit\n",
    "    pairs = get_nn_pairs(geometry)\n",
    "    circuit = get_demo_circuit(num_bit, depth, pairs)\n",
    "\n",
    "    # bar and stripe\n",
    "    p_bs = gaussian_pdf(geometry, mu=hndim/2., sigma=hndim/4.)\n",
    "\n",
    "    # mmd loss\n",
    "    mmd = RBFMMD2(sigma_list=[0.25,0.5,1,2,4], basis=digit_basis(geometry))\n",
    "\n",
    "    # Born Machine\n",
    "    bm = BornMachine(circuit, mmd, p_bs)\n",
    "    return bm"
   ]
  },
  {
   "cell_type": "code",
   "execution_count": 47,
   "metadata": {},
   "outputs": [
    {
     "name": "stdout",
     "output_type": "stream",
     "text": [
      "0.2824720329076462\n",
      "[ 0.00000000e+00 -2.59178300e-02 -7.24270356e-05  0.00000000e+00\n",
      "  5.16554030e-02  1.67222262e-02  0.00000000e+00 -1.75269941e-01\n",
      "  9.19424882e-02  0.00000000e+00 -2.36448075e-01  3.55242335e-02\n",
      " -7.24270356e-05 -4.50239861e-02 -2.66219836e-03  1.26011279e-02\n",
      "  2.41074436e-01 -5.44497917e-04 -7.94454030e-02 -4.90431541e-02\n",
      " -1.87151009e-02 -4.12811183e-02  1.89254835e-01  8.67344454e-04\n",
      " -4.12811183e-02 -1.89231371e-01 -2.39523619e-02  0.00000000e+00\n",
      " -1.10398945e-01  2.46328213e-02  2.04279584e-03 -6.51239647e-02\n",
      "  0.00000000e+00 -6.58965192e-04 -1.14377062e-01  0.00000000e+00\n",
      " -2.49440513e-02 -1.15818007e-01  0.00000000e+00 -1.85395121e-02\n",
      "  1.59777814e-01  0.00000000e+00]\n",
      "[ 0.00000000e+00 -2.59178300e-02 -7.24270356e-05  0.00000000e+00\n",
      "  5.16554030e-02  1.67222262e-02  0.00000000e+00 -1.75269941e-01\n",
      "  9.19424882e-02  0.00000000e+00 -2.36448075e-01  3.55242335e-02\n",
      " -7.24270356e-05 -4.50239861e-02 -2.66219836e-03  1.26011279e-02\n",
      "  2.41074436e-01 -5.44497917e-04 -7.94454030e-02 -4.90431541e-02\n",
      " -1.87151009e-02 -4.12811183e-02  1.89254835e-01  8.67344454e-04\n",
      " -4.12811183e-02 -1.89231371e-01 -2.39523619e-02  0.00000000e+00\n",
      " -1.10398945e-01  2.46328213e-02  2.04279584e-03 -6.51239647e-02\n",
      "  0.00000000e+00 -6.58965192e-04 -1.14377062e-01  0.00000000e+00\n",
      " -2.49440513e-02 -1.15818007e-01  0.00000000e+00 -1.85395121e-02\n",
      "  1.59777814e-01  0.00000000e+00]\n"
     ]
    }
   ],
   "source": [
    "depth = 2\n",
    "np.random.seed(2)\n",
    "\n",
    "bm = load_gaussian(6, depth)\n",
    "theta_list = np.random.random(bm.circuit.num_param)*2*np.pi\n",
    "\n",
    "print(bm.mmd_loss(theta_list))"
   ]
  },
  {
   "cell_type": "code",
   "execution_count": 50,
   "metadata": {},
   "outputs": [
    {
     "name": "stdout",
     "output_type": "stream",
     "text": [
      "[ 0.00000000e+00 -2.59178300e-02 -7.24270356e-05  0.00000000e+00\n",
      "  5.16554030e-02  1.67222262e-02  0.00000000e+00 -1.75269941e-01\n",
      "  9.19424882e-02  0.00000000e+00 -2.36448075e-01  3.55242335e-02\n",
      " -7.24270356e-05 -4.50239861e-02 -2.66219836e-03  1.26011279e-02\n",
      "  2.41074436e-01 -5.44497917e-04 -7.94454030e-02 -4.90431541e-02\n",
      " -1.87151009e-02 -4.12811183e-02  1.89254835e-01  8.67344454e-04\n",
      " -4.12811183e-02 -1.89231371e-01 -2.39523619e-02  5.55111512e-17\n",
      " -1.10398945e-01  2.46328213e-02  2.04279584e-03 -6.51239647e-02\n",
      "  0.00000000e+00 -6.58965192e-04 -1.14377062e-01  0.00000000e+00\n",
      " -2.49440513e-02 -1.15818007e-01  0.00000000e+00 -1.85395121e-02\n",
      "  1.59777814e-01  0.00000000e+00]\n",
      "[ 0.00000000e+00 -2.59171542e-02 -7.24291418e-05  0.00000000e+00\n",
      "  5.16540455e-02  1.67221009e-02  0.00000000e+00 -1.75265659e-01\n",
      "  9.19420062e-02  0.00000000e+00 -2.36443591e-01  3.55242038e-02\n",
      " -7.24291418e-05 -4.50235490e-02 -2.66218723e-03  1.26010222e-02\n",
      "  2.41070757e-01 -5.44497732e-04 -7.94450016e-02 -4.90417032e-02\n",
      " -1.87149619e-02 -4.12810088e-02  1.89251685e-01  8.67334421e-04\n",
      " -4.12810088e-02 -1.89227358e-01 -2.39522710e-02  4.44089210e-14\n",
      " -1.10396086e-01  2.46327558e-02  2.04278603e-03 -6.51228105e-02\n",
      "  0.00000000e+00 -6.58962566e-04 -1.14375056e-01  0.00000000e+00\n",
      " -2.49438774e-02 -1.15815957e-01  0.00000000e+00 -1.85394517e-02\n",
      "  1.59774698e-01  0.00000000e+00]\n"
     ]
    }
   ],
   "source": [
    "g1 = bm.gradient(theta_list)\n",
    "print(g1)\n",
    "g2 = bm.gradient_numerical(theta_list)\n",
    "print(g2)"
   ]
  },
  {
   "cell_type": "markdown",
   "metadata": {},
   "source": [
    "# Different Training Strategies"
   ]
  },
  {
   "cell_type": "code",
   "execution_count": 51,
   "metadata": {
    "collapsed": true
   },
   "outputs": [],
   "source": [
    "def train(bm, theta_list, method, max_iter=1000, popsize=50, step_rate=0.1):\n",
    "    '''train a Born Machine.'''\n",
    "    theta_list = np.array(theta_list)\n",
    "    if method == 'DE':\n",
    "        from scipy.optimize import differential_evolution\n",
    "        res = differential_evolution(bm.mmd_loss,\n",
    "                                     maxiter=max_iter, popsize=popsize,\n",
    "                                     options={'disp': 2, 'iprint': 2})\n",
    "    elif method == 'Adam':\n",
    "        from climin import Adam\n",
    "        optimizer = Adam(wrt=theta_list, fprime=bm.gradient,step_rate=step_rate)\n",
    "        for info in optimizer:\n",
    "            step = info['n_iter']\n",
    "            loss = bm.mmd_loss(theta_list)\n",
    "            print('step = %d, loss = %s'%(step, loss))\n",
    "            if step == max_iter:\n",
    "                break\n",
    "        return bm.mmd_loss(theta_list), theta_list\n",
    "    else:\n",
    "        from scipy.optimize import minimize\n",
    "        res = minimize(bm.mmd_loss, x0=theta_list,\n",
    "                       method=method, jac = bm.gradient, tol=1e-12,\n",
    "                       options={'maxiter': max_iter, 'disp': 2, 'gtol':1e-10, 'ftol':0},\n",
    "                       )\n",
    "        return res.fun, res.x"
   ]
  },
  {
   "cell_type": "code",
   "execution_count": 53,
   "metadata": {},
   "outputs": [
    {
     "ename": "KeyboardInterrupt",
     "evalue": "",
     "output_type": "error",
     "traceback": [
      "\u001b[0;31m---------------------------------------------------------------------------\u001b[0m",
      "\u001b[0;31mKeyboardInterrupt\u001b[0m                         Traceback (most recent call last)",
      "\u001b[0;32m<ipython-input-53-24f51376692c>\u001b[0m in \u001b[0;36m<module>\u001b[0;34m()\u001b[0m\n\u001b[1;32m      4\u001b[0m \u001b[0mbm\u001b[0m \u001b[0;34m=\u001b[0m \u001b[0mload_gaussian\u001b[0m\u001b[0;34m(\u001b[0m\u001b[0;36m6\u001b[0m\u001b[0;34m,\u001b[0m \u001b[0mdepth\u001b[0m\u001b[0;34m)\u001b[0m\u001b[0;34m\u001b[0m\u001b[0m\n\u001b[1;32m      5\u001b[0m \u001b[0mtheta_list\u001b[0m \u001b[0;34m=\u001b[0m \u001b[0mnp\u001b[0m\u001b[0;34m.\u001b[0m\u001b[0mrandom\u001b[0m\u001b[0;34m.\u001b[0m\u001b[0mrandom\u001b[0m\u001b[0;34m(\u001b[0m\u001b[0mbm\u001b[0m\u001b[0;34m.\u001b[0m\u001b[0mcircuit\u001b[0m\u001b[0;34m.\u001b[0m\u001b[0mnum_param\u001b[0m\u001b[0;34m)\u001b[0m\u001b[0;34m*\u001b[0m\u001b[0;36m2\u001b[0m\u001b[0;34m*\u001b[0m\u001b[0mnp\u001b[0m\u001b[0;34m.\u001b[0m\u001b[0mpi\u001b[0m\u001b[0;34m\u001b[0m\u001b[0m\n\u001b[0;32m----> 6\u001b[0;31m \u001b[0mloss\u001b[0m\u001b[0;34m,\u001b[0m \u001b[0mtheta_list\u001b[0m \u001b[0;34m=\u001b[0m \u001b[0mtrain\u001b[0m\u001b[0;34m(\u001b[0m\u001b[0mbm\u001b[0m\u001b[0;34m,\u001b[0m \u001b[0mtheta_list\u001b[0m\u001b[0;34m,\u001b[0m \u001b[0;34m'L-BFGS-B'\u001b[0m\u001b[0;34m,\u001b[0m \u001b[0mmax_iter\u001b[0m\u001b[0;34m=\u001b[0m\u001b[0;36m20\u001b[0m\u001b[0;34m)\u001b[0m\u001b[0;34m\u001b[0m\u001b[0m\n\u001b[0m\u001b[1;32m      7\u001b[0m \u001b[0mpl\u001b[0m \u001b[0;34m=\u001b[0m \u001b[0mbm\u001b[0m\u001b[0;34m.\u001b[0m\u001b[0mpdf\u001b[0m\u001b[0;34m(\u001b[0m\u001b[0mtheta_list\u001b[0m\u001b[0;34m)\u001b[0m\u001b[0;34m\u001b[0m\u001b[0m\n\u001b[1;32m      8\u001b[0m \u001b[0;34m\u001b[0m\u001b[0m\n",
      "\u001b[0;32m<ipython-input-51-03113f6ca4c2>\u001b[0m in \u001b[0;36mtrain\u001b[0;34m(bm, theta_list, method, max_iter, popsize, step_rate)\u001b[0m\n\u001b[1;32m     21\u001b[0m         res = minimize(bm.mmd_loss, x0=theta_list,\n\u001b[1;32m     22\u001b[0m                        \u001b[0mmethod\u001b[0m\u001b[0;34m=\u001b[0m\u001b[0mmethod\u001b[0m\u001b[0;34m,\u001b[0m \u001b[0mjac\u001b[0m \u001b[0;34m=\u001b[0m \u001b[0mbm\u001b[0m\u001b[0;34m.\u001b[0m\u001b[0mgradient\u001b[0m\u001b[0;34m,\u001b[0m \u001b[0mtol\u001b[0m\u001b[0;34m=\u001b[0m\u001b[0;36m1e-12\u001b[0m\u001b[0;34m,\u001b[0m\u001b[0;34m\u001b[0m\u001b[0m\n\u001b[0;32m---> 23\u001b[0;31m                        \u001b[0moptions\u001b[0m\u001b[0;34m=\u001b[0m\u001b[0;34m{\u001b[0m\u001b[0;34m'maxiter'\u001b[0m\u001b[0;34m:\u001b[0m \u001b[0mmax_iter\u001b[0m\u001b[0;34m,\u001b[0m \u001b[0;34m'disp'\u001b[0m\u001b[0;34m:\u001b[0m \u001b[0;36m2\u001b[0m\u001b[0;34m,\u001b[0m \u001b[0;34m'gtol'\u001b[0m\u001b[0;34m:\u001b[0m\u001b[0;36m1e-10\u001b[0m\u001b[0;34m,\u001b[0m \u001b[0;34m'ftol'\u001b[0m\u001b[0;34m:\u001b[0m\u001b[0;36m0\u001b[0m\u001b[0;34m}\u001b[0m\u001b[0;34m,\u001b[0m\u001b[0;34m\u001b[0m\u001b[0m\n\u001b[0m\u001b[1;32m     24\u001b[0m                        )\n\u001b[1;32m     25\u001b[0m         \u001b[0;32mreturn\u001b[0m \u001b[0mres\u001b[0m\u001b[0;34m.\u001b[0m\u001b[0mfun\u001b[0m\u001b[0;34m,\u001b[0m \u001b[0mres\u001b[0m\u001b[0;34m.\u001b[0m\u001b[0mx\u001b[0m\u001b[0;34m\u001b[0m\u001b[0m\n",
      "\u001b[0;32m/home/leo/anaconda3/lib/python3.6/site-packages/scipy/optimize/_minimize.py\u001b[0m in \u001b[0;36mminimize\u001b[0;34m(fun, x0, args, method, jac, hess, hessp, bounds, constraints, tol, callback, options)\u001b[0m\n\u001b[1;32m    485\u001b[0m     \u001b[0;32melif\u001b[0m \u001b[0mmeth\u001b[0m \u001b[0;34m==\u001b[0m \u001b[0;34m'l-bfgs-b'\u001b[0m\u001b[0;34m:\u001b[0m\u001b[0;34m\u001b[0m\u001b[0m\n\u001b[1;32m    486\u001b[0m         return _minimize_lbfgsb(fun, x0, args, jac, bounds,\n\u001b[0;32m--> 487\u001b[0;31m                                 callback=callback, **options)\n\u001b[0m\u001b[1;32m    488\u001b[0m     \u001b[0;32melif\u001b[0m \u001b[0mmeth\u001b[0m \u001b[0;34m==\u001b[0m \u001b[0;34m'tnc'\u001b[0m\u001b[0;34m:\u001b[0m\u001b[0;34m\u001b[0m\u001b[0m\n\u001b[1;32m    489\u001b[0m         return _minimize_tnc(fun, x0, args, jac, bounds, callback=callback,\n",
      "\u001b[0;32m/home/leo/anaconda3/lib/python3.6/site-packages/scipy/optimize/lbfgsb.py\u001b[0m in \u001b[0;36m_minimize_lbfgsb\u001b[0;34m(fun, x0, args, jac, bounds, disp, maxcor, ftol, gtol, eps, maxfun, maxiter, iprint, callback, maxls, **unknown_options)\u001b[0m\n\u001b[1;32m    333\u001b[0m             \u001b[0;31m# until the completion of the current minimization iteration.\u001b[0m\u001b[0;34m\u001b[0m\u001b[0;34m\u001b[0m\u001b[0m\n\u001b[1;32m    334\u001b[0m             \u001b[0;31m# Overwrite f and g:\u001b[0m\u001b[0;34m\u001b[0m\u001b[0;34m\u001b[0m\u001b[0m\n\u001b[0;32m--> 335\u001b[0;31m             \u001b[0mf\u001b[0m\u001b[0;34m,\u001b[0m \u001b[0mg\u001b[0m \u001b[0;34m=\u001b[0m \u001b[0mfunc_and_grad\u001b[0m\u001b[0;34m(\u001b[0m\u001b[0mx\u001b[0m\u001b[0;34m)\u001b[0m\u001b[0;34m\u001b[0m\u001b[0m\n\u001b[0m\u001b[1;32m    336\u001b[0m         \u001b[0;32melif\u001b[0m \u001b[0mtask_str\u001b[0m\u001b[0;34m.\u001b[0m\u001b[0mstartswith\u001b[0m\u001b[0;34m(\u001b[0m\u001b[0;34mb'NEW_X'\u001b[0m\u001b[0;34m)\u001b[0m\u001b[0;34m:\u001b[0m\u001b[0;34m\u001b[0m\u001b[0m\n\u001b[1;32m    337\u001b[0m             \u001b[0;31m# new iteration\u001b[0m\u001b[0;34m\u001b[0m\u001b[0;34m\u001b[0m\u001b[0m\n",
      "\u001b[0;32m/home/leo/anaconda3/lib/python3.6/site-packages/scipy/optimize/lbfgsb.py\u001b[0m in \u001b[0;36mfunc_and_grad\u001b[0;34m(x)\u001b[0m\n\u001b[1;32m    284\u001b[0m         \u001b[0;32mdef\u001b[0m \u001b[0mfunc_and_grad\u001b[0m\u001b[0;34m(\u001b[0m\u001b[0mx\u001b[0m\u001b[0;34m)\u001b[0m\u001b[0;34m:\u001b[0m\u001b[0;34m\u001b[0m\u001b[0m\n\u001b[1;32m    285\u001b[0m             \u001b[0mf\u001b[0m \u001b[0;34m=\u001b[0m \u001b[0mfun\u001b[0m\u001b[0;34m(\u001b[0m\u001b[0mx\u001b[0m\u001b[0;34m,\u001b[0m \u001b[0;34m*\u001b[0m\u001b[0margs\u001b[0m\u001b[0;34m)\u001b[0m\u001b[0;34m\u001b[0m\u001b[0m\n\u001b[0;32m--> 286\u001b[0;31m             \u001b[0mg\u001b[0m \u001b[0;34m=\u001b[0m \u001b[0mjac\u001b[0m\u001b[0;34m(\u001b[0m\u001b[0mx\u001b[0m\u001b[0;34m,\u001b[0m \u001b[0;34m*\u001b[0m\u001b[0margs\u001b[0m\u001b[0;34m)\u001b[0m\u001b[0;34m\u001b[0m\u001b[0m\n\u001b[0m\u001b[1;32m    287\u001b[0m             \u001b[0;32mreturn\u001b[0m \u001b[0mf\u001b[0m\u001b[0;34m,\u001b[0m \u001b[0mg\u001b[0m\u001b[0;34m\u001b[0m\u001b[0m\n\u001b[1;32m    288\u001b[0m \u001b[0;34m\u001b[0m\u001b[0m\n",
      "\u001b[0;32m<ipython-input-46-18387b2d71a7>\u001b[0m in \u001b[0;36mgradient\u001b[0;34m(self, theta_list)\u001b[0m\n\u001b[1;32m     54\u001b[0m             \u001b[0;31m# -pi/2 phase\u001b[0m\u001b[0;34m\u001b[0m\u001b[0;34m\u001b[0m\u001b[0m\n\u001b[1;32m     55\u001b[0m             \u001b[0mtheta_list\u001b[0m\u001b[0;34m[\u001b[0m\u001b[0mi\u001b[0m\u001b[0;34m]\u001b[0m \u001b[0;34m-=\u001b[0m \u001b[0mnp\u001b[0m\u001b[0;34m.\u001b[0m\u001b[0mpi\u001b[0m\u001b[0;34m\u001b[0m\u001b[0m\n\u001b[0;32m---> 56\u001b[0;31m             \u001b[0mprob_neg\u001b[0m \u001b[0;34m=\u001b[0m \u001b[0mself\u001b[0m\u001b[0;34m.\u001b[0m\u001b[0mpdf\u001b[0m\u001b[0;34m(\u001b[0m\u001b[0mtheta_list\u001b[0m\u001b[0;34m)\u001b[0m\u001b[0;34m\u001b[0m\u001b[0m\n\u001b[0m\u001b[1;32m     57\u001b[0m             \u001b[0;31m# recover\u001b[0m\u001b[0;34m\u001b[0m\u001b[0;34m\u001b[0m\u001b[0m\n\u001b[1;32m     58\u001b[0m             \u001b[0mtheta_list\u001b[0m\u001b[0;34m[\u001b[0m\u001b[0mi\u001b[0m\u001b[0;34m]\u001b[0m \u001b[0;34m+=\u001b[0m \u001b[0mnp\u001b[0m\u001b[0;34m.\u001b[0m\u001b[0mpi\u001b[0m\u001b[0;34m/\u001b[0m\u001b[0;36m2.\u001b[0m\u001b[0;34m\u001b[0m\u001b[0m\n",
      "\u001b[0;32m<ipython-input-46-18387b2d71a7>\u001b[0m in \u001b[0;36mpdf\u001b[0;34m(self, theta_list)\u001b[0m\n\u001b[1;32m     27\u001b[0m         \u001b[0;34m'''get probability distribution function'''\u001b[0m\u001b[0;34m\u001b[0m\u001b[0m\n\u001b[1;32m     28\u001b[0m         \u001b[0;32mwith\u001b[0m \u001b[0mCircuitContext\u001b[0m\u001b[0;34m(\u001b[0m\u001b[0;34m'simulate'\u001b[0m\u001b[0;34m,\u001b[0m \u001b[0mself\u001b[0m\u001b[0;34m.\u001b[0m\u001b[0mcircuit\u001b[0m\u001b[0;34m.\u001b[0m\u001b[0mnum_bit\u001b[0m\u001b[0;34m)\u001b[0m \u001b[0;32mas\u001b[0m \u001b[0mcc\u001b[0m\u001b[0;34m:\u001b[0m\u001b[0;34m\u001b[0m\u001b[0m\n\u001b[0;32m---> 29\u001b[0;31m             \u001b[0mself\u001b[0m\u001b[0;34m.\u001b[0m\u001b[0mcircuit\u001b[0m\u001b[0;34m(\u001b[0m\u001b[0mcc\u001b[0m\u001b[0;34m.\u001b[0m\u001b[0mqureg\u001b[0m\u001b[0;34m,\u001b[0m \u001b[0mtheta_list\u001b[0m\u001b[0;34m)\u001b[0m\u001b[0;34m\u001b[0m\u001b[0m\n\u001b[0m\u001b[1;32m     30\u001b[0m         \u001b[0mpl\u001b[0m \u001b[0;34m=\u001b[0m \u001b[0mnp\u001b[0m\u001b[0;34m.\u001b[0m\u001b[0mabs\u001b[0m\u001b[0;34m(\u001b[0m\u001b[0mcc\u001b[0m\u001b[0;34m.\u001b[0m\u001b[0mwf\u001b[0m\u001b[0;34m)\u001b[0m\u001b[0;34m**\u001b[0m\u001b[0;36m2\u001b[0m\u001b[0;34m\u001b[0m\u001b[0m\n\u001b[1;32m     31\u001b[0m         \u001b[0;31m# introducing sampling error\u001b[0m\u001b[0;34m\u001b[0m\u001b[0;34m\u001b[0m\u001b[0m\n",
      "\u001b[0;32m<ipython-input-24-a8821978f040>\u001b[0m in \u001b[0;36m__exit__\u001b[0;34m(self, *args)\u001b[0m\n\u001b[1;32m     73\u001b[0m             \u001b[0mself\u001b[0m\u001b[0;34m.\u001b[0m\u001b[0m_viz_circuit\u001b[0m\u001b[0;34m(\u001b[0m\u001b[0;34m)\u001b[0m\u001b[0;34m\u001b[0m\u001b[0m\n\u001b[1;32m     74\u001b[0m         \u001b[0;32melif\u001b[0m \u001b[0mself\u001b[0m\u001b[0;34m.\u001b[0m\u001b[0mtask\u001b[0m \u001b[0;34m==\u001b[0m \u001b[0;34m'simulate'\u001b[0m\u001b[0;34m:\u001b[0m\u001b[0;34m\u001b[0m\u001b[0m\n\u001b[0;32m---> 75\u001b[0;31m             \u001b[0mself\u001b[0m\u001b[0;34m.\u001b[0m\u001b[0meng\u001b[0m\u001b[0;34m.\u001b[0m\u001b[0mflush\u001b[0m\u001b[0;34m(\u001b[0m\u001b[0;34m)\u001b[0m\u001b[0;34m\u001b[0m\u001b[0m\n\u001b[0m\u001b[1;32m     76\u001b[0m             \u001b[0morder\u001b[0m\u001b[0;34m,\u001b[0m \u001b[0mqvec\u001b[0m \u001b[0;34m=\u001b[0m \u001b[0mself\u001b[0m\u001b[0;34m.\u001b[0m\u001b[0mbackend\u001b[0m\u001b[0;34m.\u001b[0m\u001b[0mcheat\u001b[0m\u001b[0;34m(\u001b[0m\u001b[0;34m)\u001b[0m\u001b[0;34m\u001b[0m\u001b[0m\n\u001b[1;32m     77\u001b[0m             \u001b[0mself\u001b[0m\u001b[0;34m.\u001b[0m\u001b[0mwf\u001b[0m \u001b[0;34m=\u001b[0m \u001b[0mnp\u001b[0m\u001b[0;34m.\u001b[0m\u001b[0marray\u001b[0m\u001b[0;34m(\u001b[0m\u001b[0mqvec\u001b[0m\u001b[0;34m)\u001b[0m\u001b[0;34m\u001b[0m\u001b[0m\n",
      "\u001b[0;32m/home/leo/anaconda3/lib/python3.6/site-packages/projectq-0.3.5-py3.6-linux-x86_64.egg/projectq/cengines/_main.py\u001b[0m in \u001b[0;36mflush\u001b[0;34m(self, deallocate_qubits)\u001b[0m\n\u001b[1;32m    240\u001b[0m                 \u001b[0mqb\u001b[0m\u001b[0;34m.\u001b[0m\u001b[0m__del__\u001b[0m\u001b[0;34m(\u001b[0m\u001b[0;34m)\u001b[0m\u001b[0;34m\u001b[0m\u001b[0m\n\u001b[1;32m    241\u001b[0m             \u001b[0mself\u001b[0m\u001b[0;34m.\u001b[0m\u001b[0mactive_qubits\u001b[0m \u001b[0;34m=\u001b[0m \u001b[0mweakref\u001b[0m\u001b[0;34m.\u001b[0m\u001b[0mWeakSet\u001b[0m\u001b[0;34m(\u001b[0m\u001b[0;34m)\u001b[0m\u001b[0;34m\u001b[0m\u001b[0m\n\u001b[0;32m--> 242\u001b[0;31m         \u001b[0mself\u001b[0m\u001b[0;34m.\u001b[0m\u001b[0mreceive\u001b[0m\u001b[0;34m(\u001b[0m\u001b[0;34m[\u001b[0m\u001b[0mCommand\u001b[0m\u001b[0;34m(\u001b[0m\u001b[0mself\u001b[0m\u001b[0;34m,\u001b[0m \u001b[0mFlushGate\u001b[0m\u001b[0;34m(\u001b[0m\u001b[0;34m)\u001b[0m\u001b[0;34m,\u001b[0m \u001b[0;34m(\u001b[0m\u001b[0;34m[\u001b[0m\u001b[0mWeakQubitRef\u001b[0m\u001b[0;34m(\u001b[0m\u001b[0mself\u001b[0m\u001b[0;34m,\u001b[0m \u001b[0;34m-\u001b[0m\u001b[0;36m1\u001b[0m\u001b[0;34m)\u001b[0m\u001b[0;34m]\u001b[0m\u001b[0;34m,\u001b[0m\u001b[0;34m)\u001b[0m\u001b[0;34m)\u001b[0m\u001b[0;34m]\u001b[0m\u001b[0;34m)\u001b[0m\u001b[0;34m\u001b[0m\u001b[0m\n\u001b[0m",
      "\u001b[0;32m/home/leo/anaconda3/lib/python3.6/site-packages/projectq-0.3.5-py3.6-linux-x86_64.egg/projectq/cengines/_main.py\u001b[0m in \u001b[0;36mreceive\u001b[0;34m(self, command_list)\u001b[0m\n\u001b[1;32m    224\u001b[0m                 then send on)\n\u001b[1;32m    225\u001b[0m         \"\"\"\n\u001b[0;32m--> 226\u001b[0;31m         \u001b[0mself\u001b[0m\u001b[0;34m.\u001b[0m\u001b[0msend\u001b[0m\u001b[0;34m(\u001b[0m\u001b[0mcommand_list\u001b[0m\u001b[0;34m)\u001b[0m\u001b[0;34m\u001b[0m\u001b[0m\n\u001b[0m\u001b[1;32m    227\u001b[0m \u001b[0;34m\u001b[0m\u001b[0m\n\u001b[1;32m    228\u001b[0m     \u001b[0;32mdef\u001b[0m \u001b[0mflush\u001b[0m\u001b[0;34m(\u001b[0m\u001b[0mself\u001b[0m\u001b[0;34m,\u001b[0m \u001b[0mdeallocate_qubits\u001b[0m\u001b[0;34m=\u001b[0m\u001b[0;32mFalse\u001b[0m\u001b[0;34m)\u001b[0m\u001b[0;34m:\u001b[0m\u001b[0;34m\u001b[0m\u001b[0m\n",
      "\u001b[0;32m/home/leo/anaconda3/lib/python3.6/site-packages/projectq-0.3.5-py3.6-linux-x86_64.egg/projectq/cengines/_basics.py\u001b[0m in \u001b[0;36msend\u001b[0;34m(self, command_list)\u001b[0m\n\u001b[1;32m    184\u001b[0m         \u001b[0mForward\u001b[0m \u001b[0mthe\u001b[0m \u001b[0mlist\u001b[0m \u001b[0mof\u001b[0m \u001b[0mcommands\u001b[0m \u001b[0mto\u001b[0m \u001b[0mthe\u001b[0m \u001b[0mnext\u001b[0m \u001b[0mengine\u001b[0m \u001b[0;32min\u001b[0m \u001b[0mthe\u001b[0m \u001b[0mpipeline\u001b[0m\u001b[0;34m.\u001b[0m\u001b[0;34m\u001b[0m\u001b[0m\n\u001b[1;32m    185\u001b[0m         \"\"\"\n\u001b[0;32m--> 186\u001b[0;31m         \u001b[0mself\u001b[0m\u001b[0;34m.\u001b[0m\u001b[0mnext_engine\u001b[0m\u001b[0;34m.\u001b[0m\u001b[0mreceive\u001b[0m\u001b[0;34m(\u001b[0m\u001b[0mcommand_list\u001b[0m\u001b[0;34m)\u001b[0m\u001b[0;34m\u001b[0m\u001b[0m\n\u001b[0m\u001b[1;32m    187\u001b[0m \u001b[0;34m\u001b[0m\u001b[0m\n\u001b[1;32m    188\u001b[0m \u001b[0;34m\u001b[0m\u001b[0m\n",
      "\u001b[0;32m/home/leo/anaconda3/lib/python3.6/site-packages/projectq-0.3.5-py3.6-linux-x86_64.egg/projectq/cengines/_tagremover.py\u001b[0m in \u001b[0;36mreceive\u001b[0;34m(self, command_list)\u001b[0m\n\u001b[1;32m     56\u001b[0m             \u001b[0;32mfor\u001b[0m \u001b[0mtag\u001b[0m \u001b[0;32min\u001b[0m \u001b[0mself\u001b[0m\u001b[0;34m.\u001b[0m\u001b[0m_tags\u001b[0m\u001b[0;34m:\u001b[0m\u001b[0;34m\u001b[0m\u001b[0m\n\u001b[1;32m     57\u001b[0m                 \u001b[0mcmd\u001b[0m\u001b[0;34m.\u001b[0m\u001b[0mtags\u001b[0m \u001b[0;34m=\u001b[0m \u001b[0;34m[\u001b[0m\u001b[0mt\u001b[0m \u001b[0;32mfor\u001b[0m \u001b[0mt\u001b[0m \u001b[0;32min\u001b[0m \u001b[0mcmd\u001b[0m\u001b[0;34m.\u001b[0m\u001b[0mtags\u001b[0m \u001b[0;32mif\u001b[0m \u001b[0;32mnot\u001b[0m \u001b[0misinstance\u001b[0m\u001b[0;34m(\u001b[0m\u001b[0mt\u001b[0m\u001b[0;34m,\u001b[0m \u001b[0mtag\u001b[0m\u001b[0;34m)\u001b[0m\u001b[0;34m]\u001b[0m\u001b[0;34m\u001b[0m\u001b[0m\n\u001b[0;32m---> 58\u001b[0;31m             \u001b[0mself\u001b[0m\u001b[0;34m.\u001b[0m\u001b[0msend\u001b[0m\u001b[0;34m(\u001b[0m\u001b[0;34m[\u001b[0m\u001b[0mcmd\u001b[0m\u001b[0;34m]\u001b[0m\u001b[0;34m)\u001b[0m\u001b[0;34m\u001b[0m\u001b[0m\n\u001b[0m",
      "\u001b[0;32m/home/leo/anaconda3/lib/python3.6/site-packages/projectq-0.3.5-py3.6-linux-x86_64.egg/projectq/cengines/_basics.py\u001b[0m in \u001b[0;36msend\u001b[0;34m(self, command_list)\u001b[0m\n\u001b[1;32m    184\u001b[0m         \u001b[0mForward\u001b[0m \u001b[0mthe\u001b[0m \u001b[0mlist\u001b[0m \u001b[0mof\u001b[0m \u001b[0mcommands\u001b[0m \u001b[0mto\u001b[0m \u001b[0mthe\u001b[0m \u001b[0mnext\u001b[0m \u001b[0mengine\u001b[0m \u001b[0;32min\u001b[0m \u001b[0mthe\u001b[0m \u001b[0mpipeline\u001b[0m\u001b[0;34m.\u001b[0m\u001b[0;34m\u001b[0m\u001b[0m\n\u001b[1;32m    185\u001b[0m         \"\"\"\n\u001b[0;32m--> 186\u001b[0;31m         \u001b[0mself\u001b[0m\u001b[0;34m.\u001b[0m\u001b[0mnext_engine\u001b[0m\u001b[0;34m.\u001b[0m\u001b[0mreceive\u001b[0m\u001b[0;34m(\u001b[0m\u001b[0mcommand_list\u001b[0m\u001b[0;34m)\u001b[0m\u001b[0;34m\u001b[0m\u001b[0m\n\u001b[0m\u001b[1;32m    187\u001b[0m \u001b[0;34m\u001b[0m\u001b[0m\n\u001b[1;32m    188\u001b[0m \u001b[0;34m\u001b[0m\u001b[0m\n",
      "\u001b[0;32m/home/leo/anaconda3/lib/python3.6/site-packages/projectq-0.3.5-py3.6-linux-x86_64.egg/projectq/cengines/_optimize.py\u001b[0m in \u001b[0;36mreceive\u001b[0;34m(self, command_list)\u001b[0m\n\u001b[1;32m    234\u001b[0m                 \u001b[0;32mfor\u001b[0m \u001b[0mi\u001b[0m \u001b[0;32min\u001b[0m \u001b[0mrange\u001b[0m\u001b[0;34m(\u001b[0m\u001b[0mlen\u001b[0m\u001b[0;34m(\u001b[0m\u001b[0mself\u001b[0m\u001b[0;34m.\u001b[0m\u001b[0m_l\u001b[0m\u001b[0;34m)\u001b[0m\u001b[0;34m)\u001b[0m\u001b[0;34m:\u001b[0m\u001b[0;34m\u001b[0m\u001b[0m\n\u001b[1;32m    235\u001b[0m                     \u001b[0mself\u001b[0m\u001b[0;34m.\u001b[0m\u001b[0m_optimize\u001b[0m\u001b[0;34m(\u001b[0m\u001b[0mi\u001b[0m\u001b[0;34m)\u001b[0m\u001b[0;34m\u001b[0m\u001b[0m\n\u001b[0;32m--> 236\u001b[0;31m                     \u001b[0mself\u001b[0m\u001b[0;34m.\u001b[0m\u001b[0m_send_qubit_pipeline\u001b[0m\u001b[0;34m(\u001b[0m\u001b[0mi\u001b[0m\u001b[0;34m,\u001b[0m \u001b[0mlen\u001b[0m\u001b[0;34m(\u001b[0m\u001b[0mself\u001b[0m\u001b[0;34m.\u001b[0m\u001b[0m_l\u001b[0m\u001b[0;34m[\u001b[0m\u001b[0mi\u001b[0m\u001b[0;34m]\u001b[0m\u001b[0;34m)\u001b[0m\u001b[0;34m)\u001b[0m\u001b[0;34m\u001b[0m\u001b[0m\n\u001b[0m\u001b[1;32m    237\u001b[0m                 \u001b[0mself\u001b[0m\u001b[0;34m.\u001b[0m\u001b[0msend\u001b[0m\u001b[0;34m(\u001b[0m\u001b[0;34m[\u001b[0m\u001b[0mcmd\u001b[0m\u001b[0;34m]\u001b[0m\u001b[0;34m)\u001b[0m\u001b[0;34m\u001b[0m\u001b[0m\n\u001b[1;32m    238\u001b[0m             \u001b[0;32melse\u001b[0m\u001b[0;34m:\u001b[0m\u001b[0;34m\u001b[0m\u001b[0m\n",
      "\u001b[0;32m/home/leo/anaconda3/lib/python3.6/site-packages/projectq-0.3.5-py3.6-linux-x86_64.egg/projectq/cengines/_optimize.py\u001b[0m in \u001b[0;36m_send_qubit_pipeline\u001b[0;34m(self, idx, n)\u001b[0m\n\u001b[1;32m     80\u001b[0m             \u001b[0;31m# all qubits that need to be flushed have been flushed\u001b[0m\u001b[0;34m\u001b[0m\u001b[0;34m\u001b[0m\u001b[0m\n\u001b[1;32m     81\u001b[0m             \u001b[0;31m# --> send on the n-qubit gate\u001b[0m\u001b[0;34m\u001b[0m\u001b[0;34m\u001b[0m\u001b[0m\n\u001b[0;32m---> 82\u001b[0;31m             \u001b[0mself\u001b[0m\u001b[0;34m.\u001b[0m\u001b[0msend\u001b[0m\u001b[0;34m(\u001b[0m\u001b[0;34m[\u001b[0m\u001b[0mil\u001b[0m\u001b[0;34m[\u001b[0m\u001b[0mi\u001b[0m\u001b[0;34m]\u001b[0m\u001b[0;34m]\u001b[0m\u001b[0;34m)\u001b[0m\u001b[0;34m\u001b[0m\u001b[0m\n\u001b[0m\u001b[1;32m     83\u001b[0m         \u001b[0;31m# n operations have been sent on --> resize our gate list\u001b[0m\u001b[0;34m\u001b[0m\u001b[0;34m\u001b[0m\u001b[0m\n\u001b[1;32m     84\u001b[0m         \u001b[0mself\u001b[0m\u001b[0;34m.\u001b[0m\u001b[0m_l\u001b[0m\u001b[0;34m[\u001b[0m\u001b[0midx\u001b[0m\u001b[0;34m]\u001b[0m \u001b[0;34m=\u001b[0m \u001b[0mself\u001b[0m\u001b[0;34m.\u001b[0m\u001b[0m_l\u001b[0m\u001b[0;34m[\u001b[0m\u001b[0midx\u001b[0m\u001b[0;34m]\u001b[0m\u001b[0;34m[\u001b[0m\u001b[0mn\u001b[0m\u001b[0;34m:\u001b[0m\u001b[0;34m]\u001b[0m\u001b[0;34m\u001b[0m\u001b[0m\n",
      "\u001b[0;32m/home/leo/anaconda3/lib/python3.6/site-packages/projectq-0.3.5-py3.6-linux-x86_64.egg/projectq/cengines/_basics.py\u001b[0m in \u001b[0;36msend\u001b[0;34m(self, command_list)\u001b[0m\n\u001b[1;32m    184\u001b[0m         \u001b[0mForward\u001b[0m \u001b[0mthe\u001b[0m \u001b[0mlist\u001b[0m \u001b[0mof\u001b[0m \u001b[0mcommands\u001b[0m \u001b[0mto\u001b[0m \u001b[0mthe\u001b[0m \u001b[0mnext\u001b[0m \u001b[0mengine\u001b[0m \u001b[0;32min\u001b[0m \u001b[0mthe\u001b[0m \u001b[0mpipeline\u001b[0m\u001b[0;34m.\u001b[0m\u001b[0;34m\u001b[0m\u001b[0m\n\u001b[1;32m    185\u001b[0m         \"\"\"\n\u001b[0;32m--> 186\u001b[0;31m         \u001b[0mself\u001b[0m\u001b[0;34m.\u001b[0m\u001b[0mnext_engine\u001b[0m\u001b[0;34m.\u001b[0m\u001b[0mreceive\u001b[0m\u001b[0;34m(\u001b[0m\u001b[0mcommand_list\u001b[0m\u001b[0;34m)\u001b[0m\u001b[0;34m\u001b[0m\u001b[0m\n\u001b[0m\u001b[1;32m    187\u001b[0m \u001b[0;34m\u001b[0m\u001b[0m\n\u001b[1;32m    188\u001b[0m \u001b[0;34m\u001b[0m\u001b[0m\n",
      "\u001b[0;32m/home/leo/anaconda3/lib/python3.6/site-packages/projectq-0.3.5-py3.6-linux-x86_64.egg/projectq/cengines/_replacer/_replacer.py\u001b[0m in \u001b[0;36mreceive\u001b[0;34m(self, command_list)\u001b[0m\n\u001b[1;32m    212\u001b[0m         \u001b[0;32mfor\u001b[0m \u001b[0mcmd\u001b[0m \u001b[0;32min\u001b[0m \u001b[0mcommand_list\u001b[0m\u001b[0;34m:\u001b[0m\u001b[0;34m\u001b[0m\u001b[0m\n\u001b[1;32m    213\u001b[0m             \u001b[0;32mif\u001b[0m \u001b[0;32mnot\u001b[0m \u001b[0misinstance\u001b[0m\u001b[0;34m(\u001b[0m\u001b[0mcmd\u001b[0m\u001b[0;34m.\u001b[0m\u001b[0mgate\u001b[0m\u001b[0;34m,\u001b[0m \u001b[0mFlushGate\u001b[0m\u001b[0;34m)\u001b[0m\u001b[0;34m:\u001b[0m\u001b[0;34m\u001b[0m\u001b[0m\n\u001b[0;32m--> 214\u001b[0;31m                 \u001b[0mself\u001b[0m\u001b[0;34m.\u001b[0m\u001b[0m_process_command\u001b[0m\u001b[0;34m(\u001b[0m\u001b[0mcmd\u001b[0m\u001b[0;34m)\u001b[0m\u001b[0;34m\u001b[0m\u001b[0m\n\u001b[0m\u001b[1;32m    215\u001b[0m             \u001b[0;32melse\u001b[0m\u001b[0;34m:\u001b[0m\u001b[0;34m\u001b[0m\u001b[0m\n\u001b[1;32m    216\u001b[0m                 \u001b[0mself\u001b[0m\u001b[0;34m.\u001b[0m\u001b[0msend\u001b[0m\u001b[0;34m(\u001b[0m\u001b[0;34m[\u001b[0m\u001b[0mcmd\u001b[0m\u001b[0;34m]\u001b[0m\u001b[0;34m)\u001b[0m\u001b[0;34m\u001b[0m\u001b[0m\n",
      "\u001b[0;32m/home/leo/anaconda3/lib/python3.6/site-packages/projectq-0.3.5-py3.6-linux-x86_64.egg/projectq/cengines/_replacer/_replacer.py\u001b[0m in \u001b[0;36m_process_command\u001b[0;34m(self, cmd)\u001b[0m\n\u001b[1;32m    124\u001b[0m         \"\"\"\n\u001b[1;32m    125\u001b[0m         \u001b[0;32mif\u001b[0m \u001b[0mself\u001b[0m\u001b[0;34m.\u001b[0m\u001b[0mis_available\u001b[0m\u001b[0;34m(\u001b[0m\u001b[0mcmd\u001b[0m\u001b[0;34m)\u001b[0m\u001b[0;34m:\u001b[0m\u001b[0;34m\u001b[0m\u001b[0m\n\u001b[0;32m--> 126\u001b[0;31m             \u001b[0mself\u001b[0m\u001b[0;34m.\u001b[0m\u001b[0msend\u001b[0m\u001b[0;34m(\u001b[0m\u001b[0;34m[\u001b[0m\u001b[0mcmd\u001b[0m\u001b[0;34m]\u001b[0m\u001b[0;34m)\u001b[0m\u001b[0;34m\u001b[0m\u001b[0m\n\u001b[0m\u001b[1;32m    127\u001b[0m         \u001b[0;32melse\u001b[0m\u001b[0;34m:\u001b[0m\u001b[0;34m\u001b[0m\u001b[0m\n\u001b[1;32m    128\u001b[0m             \u001b[0;31m# check for decomposition rules\u001b[0m\u001b[0;34m\u001b[0m\u001b[0;34m\u001b[0m\u001b[0m\n",
      "\u001b[0;32m/home/leo/anaconda3/lib/python3.6/site-packages/projectq-0.3.5-py3.6-linux-x86_64.egg/projectq/cengines/_basics.py\u001b[0m in \u001b[0;36msend\u001b[0;34m(self, command_list)\u001b[0m\n\u001b[1;32m    184\u001b[0m         \u001b[0mForward\u001b[0m \u001b[0mthe\u001b[0m \u001b[0mlist\u001b[0m \u001b[0mof\u001b[0m \u001b[0mcommands\u001b[0m \u001b[0mto\u001b[0m \u001b[0mthe\u001b[0m \u001b[0mnext\u001b[0m \u001b[0mengine\u001b[0m \u001b[0;32min\u001b[0m \u001b[0mthe\u001b[0m \u001b[0mpipeline\u001b[0m\u001b[0;34m.\u001b[0m\u001b[0;34m\u001b[0m\u001b[0m\n\u001b[1;32m    185\u001b[0m         \"\"\"\n\u001b[0;32m--> 186\u001b[0;31m         \u001b[0mself\u001b[0m\u001b[0;34m.\u001b[0m\u001b[0mnext_engine\u001b[0m\u001b[0;34m.\u001b[0m\u001b[0mreceive\u001b[0m\u001b[0;34m(\u001b[0m\u001b[0mcommand_list\u001b[0m\u001b[0;34m)\u001b[0m\u001b[0;34m\u001b[0m\u001b[0m\n\u001b[0m\u001b[1;32m    187\u001b[0m \u001b[0;34m\u001b[0m\u001b[0m\n\u001b[1;32m    188\u001b[0m \u001b[0;34m\u001b[0m\u001b[0m\n",
      "\u001b[0;32m/home/leo/anaconda3/lib/python3.6/site-packages/projectq-0.3.5-py3.6-linux-x86_64.egg/projectq/cengines/_tagremover.py\u001b[0m in \u001b[0;36mreceive\u001b[0;34m(self, command_list)\u001b[0m\n\u001b[1;32m     56\u001b[0m             \u001b[0;32mfor\u001b[0m \u001b[0mtag\u001b[0m \u001b[0;32min\u001b[0m \u001b[0mself\u001b[0m\u001b[0;34m.\u001b[0m\u001b[0m_tags\u001b[0m\u001b[0;34m:\u001b[0m\u001b[0;34m\u001b[0m\u001b[0m\n\u001b[1;32m     57\u001b[0m                 \u001b[0mcmd\u001b[0m\u001b[0;34m.\u001b[0m\u001b[0mtags\u001b[0m \u001b[0;34m=\u001b[0m \u001b[0;34m[\u001b[0m\u001b[0mt\u001b[0m \u001b[0;32mfor\u001b[0m \u001b[0mt\u001b[0m \u001b[0;32min\u001b[0m \u001b[0mcmd\u001b[0m\u001b[0;34m.\u001b[0m\u001b[0mtags\u001b[0m \u001b[0;32mif\u001b[0m \u001b[0;32mnot\u001b[0m \u001b[0misinstance\u001b[0m\u001b[0;34m(\u001b[0m\u001b[0mt\u001b[0m\u001b[0;34m,\u001b[0m \u001b[0mtag\u001b[0m\u001b[0;34m)\u001b[0m\u001b[0;34m]\u001b[0m\u001b[0;34m\u001b[0m\u001b[0m\n\u001b[0;32m---> 58\u001b[0;31m             \u001b[0mself\u001b[0m\u001b[0;34m.\u001b[0m\u001b[0msend\u001b[0m\u001b[0;34m(\u001b[0m\u001b[0;34m[\u001b[0m\u001b[0mcmd\u001b[0m\u001b[0;34m]\u001b[0m\u001b[0;34m)\u001b[0m\u001b[0;34m\u001b[0m\u001b[0m\n\u001b[0m",
      "\u001b[0;32m/home/leo/anaconda3/lib/python3.6/site-packages/projectq-0.3.5-py3.6-linux-x86_64.egg/projectq/cengines/_basics.py\u001b[0m in \u001b[0;36msend\u001b[0;34m(self, command_list)\u001b[0m\n\u001b[1;32m    184\u001b[0m         \u001b[0mForward\u001b[0m \u001b[0mthe\u001b[0m \u001b[0mlist\u001b[0m \u001b[0mof\u001b[0m \u001b[0mcommands\u001b[0m \u001b[0mto\u001b[0m \u001b[0mthe\u001b[0m \u001b[0mnext\u001b[0m \u001b[0mengine\u001b[0m \u001b[0;32min\u001b[0m \u001b[0mthe\u001b[0m \u001b[0mpipeline\u001b[0m\u001b[0;34m.\u001b[0m\u001b[0;34m\u001b[0m\u001b[0m\n\u001b[1;32m    185\u001b[0m         \"\"\"\n\u001b[0;32m--> 186\u001b[0;31m         \u001b[0mself\u001b[0m\u001b[0;34m.\u001b[0m\u001b[0mnext_engine\u001b[0m\u001b[0;34m.\u001b[0m\u001b[0mreceive\u001b[0m\u001b[0;34m(\u001b[0m\u001b[0mcommand_list\u001b[0m\u001b[0;34m)\u001b[0m\u001b[0;34m\u001b[0m\u001b[0m\n\u001b[0m\u001b[1;32m    187\u001b[0m \u001b[0;34m\u001b[0m\u001b[0m\n\u001b[1;32m    188\u001b[0m \u001b[0;34m\u001b[0m\u001b[0m\n",
      "\u001b[0;32m/home/leo/anaconda3/lib/python3.6/site-packages/projectq-0.3.5-py3.6-linux-x86_64.egg/projectq/cengines/_optimize.py\u001b[0m in \u001b[0;36mreceive\u001b[0;34m(self, command_list)\u001b[0m\n\u001b[1;32m    237\u001b[0m                 \u001b[0mself\u001b[0m\u001b[0;34m.\u001b[0m\u001b[0msend\u001b[0m\u001b[0;34m(\u001b[0m\u001b[0;34m[\u001b[0m\u001b[0mcmd\u001b[0m\u001b[0;34m]\u001b[0m\u001b[0;34m)\u001b[0m\u001b[0;34m\u001b[0m\u001b[0m\n\u001b[1;32m    238\u001b[0m             \u001b[0;32melse\u001b[0m\u001b[0;34m:\u001b[0m\u001b[0;34m\u001b[0m\u001b[0m\n\u001b[0;32m--> 239\u001b[0;31m                 \u001b[0mself\u001b[0m\u001b[0;34m.\u001b[0m\u001b[0m_cache_cmd\u001b[0m\u001b[0;34m(\u001b[0m\u001b[0mcmd\u001b[0m\u001b[0;34m)\u001b[0m\u001b[0;34m\u001b[0m\u001b[0m\n\u001b[0m",
      "\u001b[0;32m/home/leo/anaconda3/lib/python3.6/site-packages/projectq-0.3.5-py3.6-linux-x86_64.egg/projectq/cengines/_optimize.py\u001b[0m in \u001b[0;36m_cache_cmd\u001b[0;34m(self, cmd)\u001b[0m\n\u001b[1;32m    223\u001b[0m             \u001b[0mself\u001b[0m\u001b[0;34m.\u001b[0m\u001b[0m_l\u001b[0m\u001b[0;34m[\u001b[0m\u001b[0mID\u001b[0m\u001b[0;34m]\u001b[0m \u001b[0;34m+=\u001b[0m \u001b[0;34m[\u001b[0m\u001b[0mcmd\u001b[0m\u001b[0;34m]\u001b[0m\u001b[0;34m\u001b[0m\u001b[0m\n\u001b[1;32m    224\u001b[0m \u001b[0;34m\u001b[0m\u001b[0m\n\u001b[0;32m--> 225\u001b[0;31m         \u001b[0mself\u001b[0m\u001b[0;34m.\u001b[0m\u001b[0m_check_and_send\u001b[0m\u001b[0;34m(\u001b[0m\u001b[0;34m)\u001b[0m\u001b[0;34m\u001b[0m\u001b[0m\n\u001b[0m\u001b[1;32m    226\u001b[0m \u001b[0;34m\u001b[0m\u001b[0m\n\u001b[1;32m    227\u001b[0m     \u001b[0;32mdef\u001b[0m \u001b[0mreceive\u001b[0m\u001b[0;34m(\u001b[0m\u001b[0mself\u001b[0m\u001b[0;34m,\u001b[0m \u001b[0mcommand_list\u001b[0m\u001b[0;34m)\u001b[0m\u001b[0;34m:\u001b[0m\u001b[0;34m\u001b[0m\u001b[0m\n",
      "\u001b[0;32m/home/leo/anaconda3/lib/python3.6/site-packages/projectq-0.3.5-py3.6-linux-x86_64.egg/projectq/cengines/_optimize.py\u001b[0m in \u001b[0;36m_check_and_send\u001b[0;34m(self)\u001b[0m\n\u001b[1;32m    198\u001b[0m                         isinstance(self._l[i][-1].gate,\n\u001b[1;32m    199\u001b[0m                                    FastForwardingGate)):\n\u001b[0;32m--> 200\u001b[0;31m                     \u001b[0mself\u001b[0m\u001b[0;34m.\u001b[0m\u001b[0m_send_qubit_pipeline\u001b[0m\u001b[0;34m(\u001b[0m\u001b[0mi\u001b[0m\u001b[0;34m,\u001b[0m \u001b[0mlen\u001b[0m\u001b[0;34m(\u001b[0m\u001b[0mself\u001b[0m\u001b[0;34m.\u001b[0m\u001b[0m_l\u001b[0m\u001b[0;34m[\u001b[0m\u001b[0mi\u001b[0m\u001b[0;34m]\u001b[0m\u001b[0;34m)\u001b[0m \u001b[0;34m-\u001b[0m \u001b[0mself\u001b[0m\u001b[0;34m.\u001b[0m\u001b[0m_m\u001b[0m \u001b[0;34m+\u001b[0m \u001b[0;36m1\u001b[0m\u001b[0;34m)\u001b[0m\u001b[0;34m\u001b[0m\u001b[0m\n\u001b[0m\u001b[1;32m    201\u001b[0m                 elif (len(self._l[i]) > 0 and\n\u001b[1;32m    202\u001b[0m                       isinstance(self._l[i][-1].gate, FastForwardingGate)):\n",
      "\u001b[0;32m/home/leo/anaconda3/lib/python3.6/site-packages/projectq-0.3.5-py3.6-linux-x86_64.egg/projectq/cengines/_optimize.py\u001b[0m in \u001b[0;36m_send_qubit_pipeline\u001b[0;34m(self, idx, n)\u001b[0m\n\u001b[1;32m     70\u001b[0m \u001b[0;34m\u001b[0m\u001b[0m\n\u001b[1;32m     71\u001b[0m                     \u001b[0;31m# flush the gates before the n-qubit gate\u001b[0m\u001b[0;34m\u001b[0m\u001b[0;34m\u001b[0m\u001b[0m\n\u001b[0;32m---> 72\u001b[0;31m                     \u001b[0mself\u001b[0m\u001b[0;34m.\u001b[0m\u001b[0m_send_qubit_pipeline\u001b[0m\u001b[0;34m(\u001b[0m\u001b[0mId\u001b[0m\u001b[0;34m,\u001b[0m \u001b[0mgateloc\u001b[0m\u001b[0;34m)\u001b[0m\u001b[0;34m\u001b[0m\u001b[0m\n\u001b[0m\u001b[1;32m     73\u001b[0m                     \u001b[0;31m# delete the n-qubit gate, we're taking care of it\u001b[0m\u001b[0;34m\u001b[0m\u001b[0;34m\u001b[0m\u001b[0m\n\u001b[1;32m     74\u001b[0m                     \u001b[0;31m# and don't want the other qubit to do so\u001b[0m\u001b[0;34m\u001b[0m\u001b[0;34m\u001b[0m\u001b[0m\n",
      "\u001b[0;32m/home/leo/anaconda3/lib/python3.6/site-packages/projectq-0.3.5-py3.6-linux-x86_64.egg/projectq/cengines/_optimize.py\u001b[0m in \u001b[0;36m_send_qubit_pipeline\u001b[0;34m(self, idx, n)\u001b[0m\n\u001b[1;32m     70\u001b[0m \u001b[0;34m\u001b[0m\u001b[0m\n\u001b[1;32m     71\u001b[0m                     \u001b[0;31m# flush the gates before the n-qubit gate\u001b[0m\u001b[0;34m\u001b[0m\u001b[0;34m\u001b[0m\u001b[0m\n\u001b[0;32m---> 72\u001b[0;31m                     \u001b[0mself\u001b[0m\u001b[0;34m.\u001b[0m\u001b[0m_send_qubit_pipeline\u001b[0m\u001b[0;34m(\u001b[0m\u001b[0mId\u001b[0m\u001b[0;34m,\u001b[0m \u001b[0mgateloc\u001b[0m\u001b[0;34m)\u001b[0m\u001b[0;34m\u001b[0m\u001b[0m\n\u001b[0m\u001b[1;32m     73\u001b[0m                     \u001b[0;31m# delete the n-qubit gate, we're taking care of it\u001b[0m\u001b[0;34m\u001b[0m\u001b[0;34m\u001b[0m\u001b[0m\n\u001b[1;32m     74\u001b[0m                     \u001b[0;31m# and don't want the other qubit to do so\u001b[0m\u001b[0;34m\u001b[0m\u001b[0;34m\u001b[0m\u001b[0m\n",
      "\u001b[0;32m/home/leo/anaconda3/lib/python3.6/site-packages/projectq-0.3.5-py3.6-linux-x86_64.egg/projectq/cengines/_optimize.py\u001b[0m in \u001b[0;36m_send_qubit_pipeline\u001b[0;34m(self, idx, n)\u001b[0m\n\u001b[1;32m     80\u001b[0m             \u001b[0;31m# all qubits that need to be flushed have been flushed\u001b[0m\u001b[0;34m\u001b[0m\u001b[0;34m\u001b[0m\u001b[0m\n\u001b[1;32m     81\u001b[0m             \u001b[0;31m# --> send on the n-qubit gate\u001b[0m\u001b[0;34m\u001b[0m\u001b[0;34m\u001b[0m\u001b[0m\n\u001b[0;32m---> 82\u001b[0;31m             \u001b[0mself\u001b[0m\u001b[0;34m.\u001b[0m\u001b[0msend\u001b[0m\u001b[0;34m(\u001b[0m\u001b[0;34m[\u001b[0m\u001b[0mil\u001b[0m\u001b[0;34m[\u001b[0m\u001b[0mi\u001b[0m\u001b[0;34m]\u001b[0m\u001b[0;34m]\u001b[0m\u001b[0;34m)\u001b[0m\u001b[0;34m\u001b[0m\u001b[0m\n\u001b[0m\u001b[1;32m     83\u001b[0m         \u001b[0;31m# n operations have been sent on --> resize our gate list\u001b[0m\u001b[0;34m\u001b[0m\u001b[0;34m\u001b[0m\u001b[0m\n\u001b[1;32m     84\u001b[0m         \u001b[0mself\u001b[0m\u001b[0;34m.\u001b[0m\u001b[0m_l\u001b[0m\u001b[0;34m[\u001b[0m\u001b[0midx\u001b[0m\u001b[0;34m]\u001b[0m \u001b[0;34m=\u001b[0m \u001b[0mself\u001b[0m\u001b[0;34m.\u001b[0m\u001b[0m_l\u001b[0m\u001b[0;34m[\u001b[0m\u001b[0midx\u001b[0m\u001b[0;34m]\u001b[0m\u001b[0;34m[\u001b[0m\u001b[0mn\u001b[0m\u001b[0;34m:\u001b[0m\u001b[0;34m]\u001b[0m\u001b[0;34m\u001b[0m\u001b[0m\n",
      "\u001b[0;32m/home/leo/anaconda3/lib/python3.6/site-packages/projectq-0.3.5-py3.6-linux-x86_64.egg/projectq/cengines/_basics.py\u001b[0m in \u001b[0;36msend\u001b[0;34m(self, command_list)\u001b[0m\n\u001b[1;32m    184\u001b[0m         \u001b[0mForward\u001b[0m \u001b[0mthe\u001b[0m \u001b[0mlist\u001b[0m \u001b[0mof\u001b[0m \u001b[0mcommands\u001b[0m \u001b[0mto\u001b[0m \u001b[0mthe\u001b[0m \u001b[0mnext\u001b[0m \u001b[0mengine\u001b[0m \u001b[0;32min\u001b[0m \u001b[0mthe\u001b[0m \u001b[0mpipeline\u001b[0m\u001b[0;34m.\u001b[0m\u001b[0;34m\u001b[0m\u001b[0m\n\u001b[1;32m    185\u001b[0m         \"\"\"\n\u001b[0;32m--> 186\u001b[0;31m         \u001b[0mself\u001b[0m\u001b[0;34m.\u001b[0m\u001b[0mnext_engine\u001b[0m\u001b[0;34m.\u001b[0m\u001b[0mreceive\u001b[0m\u001b[0;34m(\u001b[0m\u001b[0mcommand_list\u001b[0m\u001b[0;34m)\u001b[0m\u001b[0;34m\u001b[0m\u001b[0m\n\u001b[0m\u001b[1;32m    187\u001b[0m \u001b[0;34m\u001b[0m\u001b[0m\n\u001b[1;32m    188\u001b[0m \u001b[0;34m\u001b[0m\u001b[0m\n",
      "\u001b[0;32m/home/leo/anaconda3/lib/python3.6/site-packages/projectq-0.3.5-py3.6-linux-x86_64.egg/projectq/backends/_sim/_simulator.py\u001b[0m in \u001b[0;36mreceive\u001b[0;34m(self, command_list)\u001b[0m\n\u001b[1;32m    359\u001b[0m         \u001b[0;32mfor\u001b[0m \u001b[0mcmd\u001b[0m \u001b[0;32min\u001b[0m \u001b[0mcommand_list\u001b[0m\u001b[0;34m:\u001b[0m\u001b[0;34m\u001b[0m\u001b[0m\n\u001b[1;32m    360\u001b[0m             \u001b[0;32mif\u001b[0m \u001b[0;32mnot\u001b[0m \u001b[0mcmd\u001b[0m\u001b[0;34m.\u001b[0m\u001b[0mgate\u001b[0m \u001b[0;34m==\u001b[0m \u001b[0mFlushGate\u001b[0m\u001b[0;34m(\u001b[0m\u001b[0;34m)\u001b[0m\u001b[0;34m:\u001b[0m\u001b[0;34m\u001b[0m\u001b[0m\n\u001b[0;32m--> 361\u001b[0;31m                 \u001b[0mself\u001b[0m\u001b[0;34m.\u001b[0m\u001b[0m_handle\u001b[0m\u001b[0;34m(\u001b[0m\u001b[0mcmd\u001b[0m\u001b[0;34m)\u001b[0m\u001b[0;34m\u001b[0m\u001b[0m\n\u001b[0m\u001b[1;32m    362\u001b[0m             \u001b[0;32melse\u001b[0m\u001b[0;34m:\u001b[0m\u001b[0;34m\u001b[0m\u001b[0m\n\u001b[1;32m    363\u001b[0m                 \u001b[0mself\u001b[0m\u001b[0;34m.\u001b[0m\u001b[0m_simulator\u001b[0m\u001b[0;34m.\u001b[0m\u001b[0mrun\u001b[0m\u001b[0;34m(\u001b[0m\u001b[0;34m)\u001b[0m  \u001b[0;31m# flush gate --> run all saved gates\u001b[0m\u001b[0;34m\u001b[0m\u001b[0m\n",
      "\u001b[0;32m/home/leo/anaconda3/lib/python3.6/site-packages/projectq-0.3.5-py3.6-linux-x86_64.egg/projectq/backends/_sim/_simulator.py\u001b[0m in \u001b[0;36m_handle\u001b[0;34m(self, cmd)\u001b[0m\n\u001b[1;32m    341\u001b[0m                                                    cmd.control_qubits])\n\u001b[1;32m    342\u001b[0m             \u001b[0;32mif\u001b[0m \u001b[0;32mnot\u001b[0m \u001b[0mself\u001b[0m\u001b[0;34m.\u001b[0m\u001b[0m_gate_fusion\u001b[0m\u001b[0;34m:\u001b[0m\u001b[0;34m\u001b[0m\u001b[0m\n\u001b[0;32m--> 343\u001b[0;31m                 \u001b[0mself\u001b[0m\u001b[0;34m.\u001b[0m\u001b[0m_simulator\u001b[0m\u001b[0;34m.\u001b[0m\u001b[0mrun\u001b[0m\u001b[0;34m(\u001b[0m\u001b[0;34m)\u001b[0m\u001b[0;34m\u001b[0m\u001b[0m\n\u001b[0m\u001b[1;32m    344\u001b[0m         \u001b[0;32melse\u001b[0m\u001b[0;34m:\u001b[0m\u001b[0;34m\u001b[0m\u001b[0m\n\u001b[1;32m    345\u001b[0m             raise Exception(\"This simulator only supports controlled k-qubit\"\n",
      "\u001b[0;31mKeyboardInterrupt\u001b[0m: "
     ]
    }
   ],
   "source": [
    "depth = 6\n",
    "np.random.seed(2)\n",
    "\n",
    "bm = load_gaussian(6, depth)\n",
    "theta_list = np.random.random(bm.circuit.num_param)*2*np.pi\n",
    "loss, theta_list = train(bm, theta_list, 'L-BFGS-B', max_iter=20)\n",
    "pl = bm.pdf(theta_list)\n",
    "\n",
    "# display\n",
    "plt.ion()\n",
    "plt.plot(bm.p_data)\n",
    "plt.plot(pl)\n",
    "plt.legend(['Data', 'Gradient Born Machine'])\n",
    "pdb.set_trace()"
   ]
  },
  {
   "cell_type": "code",
   "execution_count": null,
   "metadata": {
    "collapsed": true
   },
   "outputs": [],
   "source": [
    "def load_barstripe(geometry, depth):\n",
    "    '''3 x 3 bar and stripes.'''\n",
    "    num_bit = np.prod(geometry)\n",
    "\n",
    "    # standard circuit\n",
    "    pairs = get_nn_pairs(geometry)\n",
    "    circuit = get_demo_circuit(num_bit, depth, pairs)\n",
    "\n",
    "    # bar and stripe\n",
    "    p_bs = barstripe_pdf(geometry)\n",
    "\n",
    "    # mmd loss\n",
    "    mmd = RBFMMD2(sigma_list=[0.5,1,2,4], basis=binary_basis((num_bit,)))\n",
    "\n",
    "    # Born Machine\n",
    "    bm = BornMachine(circuit, mmd, p_bs)\n",
    "    return bm"
   ]
  },
  {
   "cell_type": "code",
   "execution_count": null,
   "metadata": {
    "collapsed": true
   },
   "outputs": [],
   "source": [
    "np.random.seed(2)\n",
    "depth = 4\n",
    "\n",
    "bm = load_barstripe((2, 2), depth)\n",
    "theta_list = np.random.random(bm.circuit.num_param)*2*np.pi\n",
    "loss, theta_list = train(bm, theta_list, 'L-BFGS-B', max_iter=20)\n",
    "pl = bm.pdf(theta_list)\n",
    "\n",
    "# display\n",
    "plt.ion()\n",
    "plt.plot(bm.p_data)\n",
    "plt.plot(pl)\n",
    "plt.legend(['Data', 'Gradient Born Machine'])\n",
    "pdb.set_trace()"
   ]
  }
 ],
 "metadata": {
  "kernelspec": {
   "display_name": "Python 3",
   "language": "python",
   "name": "python3"
  },
  "language_info": {
   "codemirror_mode": {
    "name": "ipython",
    "version": 3
   },
   "file_extension": ".py",
   "mimetype": "text/x-python",
   "name": "python",
   "nbconvert_exporter": "python",
   "pygments_lexer": "ipython3",
   "version": "3.6.4"
  }
 },
 "nbformat": 4,
 "nbformat_minor": 2
}
