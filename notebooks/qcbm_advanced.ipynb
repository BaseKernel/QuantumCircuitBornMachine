{
 "cells": [
  {
   "cell_type": "code",
   "execution_count": 1,
   "metadata": {
    "collapsed": true
   },
   "outputs": [],
   "source": [
    "import numpy as np\n",
    "import matplotlib.pyplot as plt\n",
    "import scipy.sparse as sps"
   ]
  },
  {
   "cell_type": "markdown",
   "metadata": {},
   "source": [
    "# Dataset, binary data and continuous data"
   ]
  },
  {
   "cell_type": "code",
   "execution_count": 143,
   "metadata": {
    "collapsed": true
   },
   "outputs": [],
   "source": [
    "def digit_basis(geometry):\n",
    "    num_bit = np.prod(geometry)\n",
    "    M = 2**num_bit\n",
    "    x = np.arange(M)\n",
    "    return x\n",
    "\n",
    "def binary_basis(geometry):\n",
    "    num_bit = np.prod(geometry)\n",
    "    M = 2**num_bit\n",
    "    x = np.arange(M)\n",
    "    return unpacknbits(x[:,None], num_bit).reshape((-1,)+geometry)\n",
    "\n",
    "def unpacknbits(arr, nbit, axis=-1):\n",
    "    '''unpack numbers to bits.'''\n",
    "    nd = np.ndim(arr)\n",
    "    if axis < 0:\n",
    "        axis = nd + axis\n",
    "    return (((arr & (1 << np.arange(nbit - 1, -1, -1)).reshape([-1] + [1] * (nd - axis - 1)))) > 0).astype('int8')\n",
    "\n",
    "\n",
    "def packnbits(arr, axis=-1):\n",
    "    '''pack bits to numbers.'''\n",
    "    nd = np.ndim(arr)\n",
    "    nbit = np.shape(arr)[axis]\n",
    "    if axis < 0:\n",
    "        axis = nd + axis\n",
    "    return (arr * (1 << np.arange(nbit - 1, -1, -1)).reshape([-1] + [1] * (nd - axis - 1))\\\n",
    "           ).sum(axis=axis, keepdims=True).astype('int')"
   ]
  },
  {
   "cell_type": "code",
   "execution_count": 144,
   "metadata": {
    "collapsed": true
   },
   "outputs": [],
   "source": [
    "def gaussian_pdf(geometry, mu, sigma):\n",
    "    '''get gaussian distribution function'''\n",
    "    x = digit_basis(geometry)\n",
    "    pl = 1. / np.sqrt(2 * np.pi * sigma**2) * \\\n",
    "        np.exp(-(x - mu)**2 / (2. * sigma**2))\n",
    "    return pl/pl.sum()"
   ]
  },
  {
   "cell_type": "code",
   "execution_count": 145,
   "metadata": {
    "collapsed": true
   },
   "outputs": [],
   "source": [
    "def barstripe_pdf(geometry):\n",
    "    '''get bar and stripes PDF'''\n",
    "    x = binary_basis(geometry)\n",
    "    pl = is_bs(x)\n",
    "    return pl/pl.sum()\n",
    "\n",
    "def is_bs(samples):\n",
    "    '''a sample is a bar or a stripe.'''\n",
    "    return (np.abs(np.diff(samples,axis=-1)).sum(axis=(1,2))==0\\\n",
    "           )|((np.abs(np.diff(samples, axis=1)).sum(axis=(1,2)))==0)"
   ]
  },
  {
   "cell_type": "code",
   "execution_count": 146,
   "metadata": {},
   "outputs": [
    {
     "data": {
      "image/png": "[encoded data removed]",
      "text/plain": [
       "<Figure size 432x288 with 1 Axes>"
      ]
     },
     "metadata": {},
     "output_type": "display_data"
    }
   ],
   "source": [
    "geometry = (6,)\n",
    "pl1 = gaussian_pdf(geometry, mu=2**5-0.5, sigma=2**4)\n",
    "plt.plot(pl1)\n",
    "plt.show()"
   ]
  },
  {
   "cell_type": "code",
   "execution_count": 147,
   "metadata": {},
   "outputs": [
    {
     "data": {
      "image/png": "[encoded data removed]",
      "text/plain": [
       "<Figure size 432x288 with 1 Axes>"
      ]
     },
     "metadata": {},
     "output_type": "display_data"
    }
   ],
   "source": [
    "geometry = (3,3)\n",
    "pl2 = barstripe_pdf(geometry)\n",
    "plt.plot(pl2)\n",
    "plt.show()"
   ]
  },
  {
   "cell_type": "markdown",
   "metadata": {},
   "source": [
    "# Build Circuits\n",
    "## Building Blocks"
   ]
  },
  {
   "cell_type": "code",
   "execution_count": 148,
   "metadata": {
    "collapsed": true
   },
   "outputs": [],
   "source": [
    "######  Pauli Matrices  ########\n",
    "\n",
    "I2 = sps.eye(2).tocsr()\n",
    "sx = sps.csr_matrix([[0,1],[1,0.]])\n",
    "sy = sps.csr_matrix([[0,-1j],[1j,0.]])\n",
    "sz = sps.csr_matrix([[1,0],[0,-1.]])\n",
    "\n",
    "p0 = (sz + I2) / 2\n",
    "p1 = (-sz + I2) / 2\n",
    "h = (sx + sz) / np.sqrt(2.)\n",
    "sxyz = [I2, sx, sy, sz]\n",
    "\n",
    "# single bit rotation matrices\n",
    "\n",
    "def _ri(si, theta):\n",
    "    return np.cos(theta/2.)*I2 - 1j*np.sin(theta/2.)*si\n",
    "\n",
    "def rx(theta):\n",
    "    return _ri(sx, theta)\n",
    "\n",
    "def ry(theta):\n",
    "    return _ri(sy, theta)\n",
    "\n",
    "def rz(theta):\n",
    "    return _ri(sz, theta)\n",
    "\n",
    "def rot(t1, t2, t3):\n",
    "    '''\n",
    "    a general rotation gate rz(t3)rx(r2)rz(t1).\n",
    "\n",
    "    Args:\n",
    "        t1, t2, t3 (float): three angles.\n",
    "\n",
    "    Returns:\n",
    "        2x2 csr_matrix: rotation matrix.\n",
    "    '''\n",
    "    return rz(t3).dot(rx(t2)).dot(rz(t1))\n",
    "\n",
    "# multiple bit construction\n",
    "\n",
    "def CNOT(ibit, jbit, n):\n",
    "    res = _([p0, I2], [ibit, jbit], n)\n",
    "    res = res + _([p1, sx], [ibit, jbit], n)\n",
    "    return res\n",
    "\n",
    "def _(ops, locs, n):\n",
    "    '''\n",
    "    Put operators in a circuit and compile them.\n",
    "\n",
    "    notice the big end are high loc bits!\n",
    "\n",
    "    Args:\n",
    "        ops (list): list of single bit operators.\n",
    "        locs (list): list of positions.\n",
    "        n (int): total number of bits.\n",
    "\n",
    "    Returns:\n",
    "        csr_matrix: resulting matrix.\n",
    "    '''\n",
    "    if np.ndim(locs) == 0:\n",
    "        locs = [locs]\n",
    "    if not isinstance(ops, (list, tuple)):\n",
    "        ops = [ops]\n",
    "    locs = np.asarray(locs)\n",
    "    locs = n - locs\n",
    "    order = np.argsort(locs)\n",
    "    locs = np.concatenate([[0], locs[order], [n + 1]])\n",
    "    return _wrap_identity([ops[i] for i in order], np.diff(locs) - 1)\n",
    "\n",
    "\n",
    "def _wrap_identity(data_list, num_bit_list):\n",
    "    if len(num_bit_list) != len(data_list) + 1:\n",
    "        raise Exception()\n",
    "\n",
    "    res = sps.eye(2**num_bit_list[0])\n",
    "    for data, nbit in zip(data_list, num_bit_list[1:]):\n",
    "        res = sps.kron(res, data)\n",
    "        res = sps.kron(res, sps.eye(2**nbit, dtype='complex128'))\n",
    "    return res\n",
    "\n",
    "def initial_wf(num_bit):\n",
    "    wf = np.zeros(2**num_bit, dtype='complex128')\n",
    "    wf[0] = 1.\n",
    "    return wf"
   ]
  },
  {
   "cell_type": "code",
   "execution_count": 149,
   "metadata": {
    "collapsed": true
   },
   "outputs": [],
   "source": [
    "class ArbitraryRotation(object):\n",
    "    def __init__(self, num_bit):\n",
    "        self.num_bit = num_bit\n",
    "        self.mask = np.array([True] * (3*num_bit), dtype='bool')\n",
    "\n",
    "    def __str__(self):\n",
    "        return 'Rotate[%d]'%(self.num_param)\n",
    "\n",
    "    @property\n",
    "    def num_param(self):\n",
    "        return self.mask.sum()\n",
    "\n",
    "    def tocsr(self, theta_list):\n",
    "        '''transform this block to csr_matrix.'''\n",
    "        theta_list_ = np.zeros(3*self.num_bit)\n",
    "        theta_list_[self.mask] = theta_list\n",
    "        rots = [rot(*ths) for ths in theta_list_.reshape([self.num_bit,3])]\n",
    "        res = [_([r], [i], self.num_bit) for i,r in enumerate(rots)]\n",
    "        return res\n",
    "\n",
    "class CNOTEntangler(object):\n",
    "    def __init__(self, num_bit, pairs):\n",
    "        self.num_bit = num_bit\n",
    "        self.pairs = pairs\n",
    "\n",
    "    def __str__(self):\n",
    "        pair_str = ','.join(['%d-%d'%(i,j) for i,j in self.pairs])\n",
    "        return 'CNOT(%s)'%(pair_str)\n",
    "\n",
    "    @property\n",
    "    def num_param(self):\n",
    "        return 0\n",
    "\n",
    "    def tocsr(self, theta_list):\n",
    "        '''transform this block to csr_matrix.'''\n",
    "        i, j = self.pairs[0]\n",
    "        res = CNOT(i, j, self.num_bit)\n",
    "        for i, j in self.pairs[1:]:\n",
    "            res = CNOT(i,j,self.num_bit).dot(res)\n",
    "        res.eliminate_zeros()\n",
    "        return [res]"
   ]
  },
  {
   "cell_type": "code",
   "execution_count": 1,
   "metadata": {
    "collapsed": true
   },
   "outputs": [],
   "source": [
    "class BlockQueue(list):\n",
    "    '''\n",
    "    Block Queue that keep track of theta_list changing history, for fast update.\n",
    "    '''\n",
    "    def __init__(self, *args):\n",
    "        list.__init__(self, *args)\n",
    "        self.theta_last = None\n",
    "        self.memo = None\n",
    "\n",
    "    def __call__(self, qureg, theta_list):\n",
    "        # cache? if theta_list change <= 1 parameters, then don't touch memory.\n",
    "        remember = self.theta_last is None or (abs(self.theta_last-theta_list)>1e-12).sum() > 1\n",
    "\n",
    "        mats = []\n",
    "        theta_last = self.theta_last\n",
    "        if remember:\n",
    "            self.theta_last = theta_list.copy()\n",
    "\n",
    "        qureg_ = qureg\n",
    "        for iblock, block in enumerate(self):\n",
    "            # generate or use a block matrix\n",
    "            num_param = block.num_param\n",
    "            theta_i, theta_list = np.split(theta_list, [num_param])\n",
    "            if theta_last is not None:\n",
    "                theta_o, theta_last = np.split(theta_last, [num_param])\n",
    "            if self.memo is not None and (num_param==0 or np.abs(theta_i-theta_o).max()<1e-12):\n",
    "                # use data cached in memory\n",
    "                mat = self.memo[iblock]\n",
    "            else:\n",
    "                if self.memo is not None and not remember:\n",
    "                    # update the changed gate, but not touching memory.\n",
    "                    mat = _rot_tocsr_update1(block, self.memo[iblock], theta_o, theta_i)\n",
    "                else:\n",
    "                    # regenerate one\n",
    "                    mat = block.tocsr(theta_i)\n",
    "            for mat_i in mat:\n",
    "                qureg_ = mat_i.dot(qureg_)\n",
    "            mats.append(mat)\n",
    "\n",
    "        if remember:\n",
    "            # cache data\n",
    "            self.memo = mats\n",
    "        # update register\n",
    "        qureg[...] = qureg_\n",
    "        np.testing.assert_(len(theta_list)==0)\n",
    "        \n",
    "    @property\n",
    "    def num_bit(self):\n",
    "        return self[0].num_bit\n",
    "\n",
    "    @property\n",
    "    def num_param(self):\n",
    "        return sum([b.num_param for b in self])\n",
    "\n",
    "    def __str__(self):\n",
    "        return '\\n'.join([str(b) for b in self])\n",
    "\n",
    "def _rot_tocsr_update1(layer, old, theta_old, theta_new):\n",
    "    '''\n",
    "    rotation layer csr_matrix update method.\n",
    "    \n",
    "    Args:\n",
    "        layer (ArbitraryRotation): rotatio layer.\n",
    "        old (csr_matrix): old matrices.\n",
    "        theta_old (1darray): old parameters.\n",
    "        theta_new (1darray): new parameters.\n",
    "\n",
    "    Returns:\n",
    "        csr_matrix: new rotation matrices after the theta changed.\n",
    "    '''\n",
    "    idiff_param = np.where(abs(theta_old-theta_new)>1e-12)[0].item()\n",
    "    idiff = np.where(layer.mask)[0][idiff_param]\n",
    "\n",
    "    # get rotation parameters\n",
    "    isite = idiff//3\n",
    "    theta_list_ = np.zeros(3*layer.num_bit)\n",
    "    theta_list_[layer.mask] = theta_new\n",
    "    \n",
    "    new = old[:]\n",
    "    new[isite] = _(rot(*theta_list_[isite*3:isite*3+3]), isite, layer.num_bit)\n",
    "    return new\n",
    "    \n",
    "def get_demo_circuit(num_bit, depth, pairs):\n",
    "    blocks = []\n",
    "    # build circuit\n",
    "    for idepth in range(depth+1):\n",
    "        blocks.append(ArbitraryRotation(num_bit))\n",
    "        if idepth!=depth:\n",
    "            blocks.append(CNOTEntangler(num_bit, pairs))\n",
    "\n",
    "    # set leading and trailing Rz to disabled\n",
    "    blocks[0].mask[::3] = False\n",
    "    blocks[-1].mask[2::3] = False\n",
    "    return BlockQueue(blocks)"
   ]
  },
  {
   "cell_type": "code",
   "execution_count": 151,
   "metadata": {
    "collapsed": true
   },
   "outputs": [],
   "source": [
    "def get_nn_pairs(geometry):\n",
    "    '''define pairs that cnot gates will apply.'''\n",
    "    num_bit = np.prod(geometry)\n",
    "    if len(geometry) == 2:\n",
    "        nrow, ncol = geometry\n",
    "        res = []\n",
    "        for ij in range(num_bit):\n",
    "            i, j = ij // ncol, ij % ncol\n",
    "            res.extend([(ij, i_ * ncol + j_)\n",
    "                        for i_, j_ in [((i + 1) % nrow, j), (i, (j + 1) % ncol)]])\n",
    "        return res\n",
    "    elif len(geometry) == 1:\n",
    "        res = []\n",
    "        for inth in range(2):\n",
    "            for i in range(inth, num_bit, 2):\n",
    "                res = res + [(i, i_ % num_bit) for i_ in range(i + 1, i + 2)]\n",
    "        return res\n",
    "    else:\n",
    "       raise NotImplementedError('')"
   ]
  },
  {
   "cell_type": "code",
   "execution_count": 152,
   "metadata": {},
   "outputs": [
    {
     "name": "stdout",
     "output_type": "stream",
     "text": [
      "Rotate[12]\n",
      "CNOT(0-1,2-3,4-5,1-2,3-4,5-0)\n",
      "Rotate[18]\n",
      "CNOT(0-1,2-3,4-5,1-2,3-4,5-0)\n",
      "Rotate[12]\n"
     ]
    }
   ],
   "source": [
    "depth = 2\n",
    "geometry = (6,)\n",
    "\n",
    "num_bit = np.prod(geometry)\n",
    "pairs = get_nn_pairs(geometry)\n",
    "circuit = get_demo_circuit(num_bit, depth, pairs)\n",
    "print(circuit)"
   ]
  },
  {
   "cell_type": "code",
   "execution_count": 153,
   "metadata": {
    "scrolled": true
   },
   "outputs": [
    {
     "name": "stdout",
     "output_type": "stream",
     "text": [
      "[6.123234e-17-1.j 0.000000e+00+0.j 0.000000e+00+0.j 0.000000e+00+0.j\n",
      " 0.000000e+00+0.j 0.000000e+00+0.j 0.000000e+00+0.j 0.000000e+00+0.j\n",
      " 0.000000e+00+0.j 0.000000e+00+0.j 0.000000e+00+0.j 0.000000e+00+0.j\n",
      " 0.000000e+00+0.j 0.000000e+00+0.j 0.000000e+00+0.j 0.000000e+00+0.j\n",
      " 0.000000e+00+0.j 0.000000e+00+0.j 0.000000e+00+0.j 0.000000e+00+0.j\n",
      " 0.000000e+00+0.j 0.000000e+00+0.j 0.000000e+00+0.j 0.000000e+00+0.j\n",
      " 0.000000e+00+0.j 0.000000e+00+0.j 0.000000e+00+0.j 0.000000e+00+0.j\n",
      " 0.000000e+00+0.j 0.000000e+00+0.j 0.000000e+00+0.j 0.000000e+00+0.j\n",
      " 0.000000e+00+0.j 0.000000e+00+0.j 0.000000e+00+0.j 0.000000e+00+0.j\n",
      " 0.000000e+00+0.j 0.000000e+00+0.j 0.000000e+00+0.j 0.000000e+00+0.j\n",
      " 0.000000e+00+0.j 0.000000e+00+0.j 0.000000e+00+0.j 0.000000e+00+0.j\n",
      " 0.000000e+00+0.j 0.000000e+00+0.j 0.000000e+00+0.j 0.000000e+00+0.j\n",
      " 0.000000e+00+0.j 0.000000e+00+0.j 0.000000e+00+0.j 0.000000e+00+0.j\n",
      " 0.000000e+00+0.j 0.000000e+00+0.j 0.000000e+00+0.j 0.000000e+00+0.j\n",
      " 0.000000e+00+0.j 0.000000e+00+0.j 0.000000e+00+0.j 0.000000e+00+0.j\n",
      " 0.000000e+00+0.j 0.000000e+00+0.j 0.000000e+00+0.j 0.000000e+00+0.j]\n"
     ]
    }
   ],
   "source": [
    "theta_list = np.zeros(circuit.num_param)\n",
    "theta_list[1] = np.pi\n",
    "wf = initial_wf(num_bit)\n",
    "circuit(wf, theta_list)\n",
    "\n",
    "print(wf)"
   ]
  },
  {
   "cell_type": "markdown",
   "metadata": {},
   "source": [
    "# Build The Gradient training framework for Born Machine"
   ]
  },
  {
   "cell_type": "code",
   "execution_count": 207,
   "metadata": {
    "collapsed": true
   },
   "outputs": [],
   "source": [
    "class BornMachine(object):\n",
    "    '''\n",
    "    Born Machine,\n",
    "\n",
    "    Args:\n",
    "        circuit (BlockQueue): the circuit architechture.\n",
    "        batch_size (int|None): introducing sampling error, None for no sampling error.\n",
    "    '''\n",
    "    def __init__(self, circuit, mmd, p_data, batch_size=None):\n",
    "        self.circuit = circuit\n",
    "        self.mmd = mmd\n",
    "        self.p_data = p_data\n",
    "        self.batch_size = batch_size\n",
    "\n",
    "    @property\n",
    "    def depth(self):\n",
    "        return (len(self.circuit)-1)//2\n",
    "\n",
    "    def pdf(self, theta_list):\n",
    "        '''get probability distribution function'''\n",
    "        wf = initial_wf(self.circuit.num_bit)\n",
    "        self.circuit(wf, theta_list)\n",
    "        pl = np.abs(wf)**2\n",
    "        # introducing sampling error\n",
    "        if self.batch_size is not None:\n",
    "            pl = prob_from_sample(sample_from_prob(np.arange(len(pl)), pl, self.batch_size),\n",
    "                    len(pl), False)\n",
    "        return pl\n",
    "\n",
    "    def mmd_loss(self, theta_list):\n",
    "        '''get the loss'''\n",
    "        # get and cahe probability distritbution of Born Machine\n",
    "        self._prob = self.pdf(theta_list)\n",
    "        # use wave function to get mmd loss\n",
    "        return self.mmd(self._prob, self.p_data)\n",
    "\n",
    "    def gradient(self, theta_list):\n",
    "        '''\n",
    "        cheat and get gradient.\n",
    "        '''\n",
    "        prob = self.pdf(theta_list)\n",
    "        grad = []\n",
    "        for i in range(len(theta_list)):\n",
    "            # pi/2 phase\n",
    "            theta_list[i] += np.pi/2.\n",
    "            prob_pos = self.pdf(theta_list)\n",
    "            # -pi/2 phase\n",
    "            theta_list[i] -= np.pi\n",
    "            prob_neg = self.pdf(theta_list)\n",
    "            # recover\n",
    "            theta_list[i] += np.pi/2.\n",
    "\n",
    "            grad_pos = self.mmd.kernel_expect(prob, prob_pos) - self.mmd.kernel_expect(prob, prob_neg)\n",
    "            grad_neg = self.mmd.kernel_expect(self.p_data, prob_pos) - self.mmd.kernel_expect(self.p_data, prob_neg)\n",
    "            grad.append(grad_pos - grad_neg)\n",
    "        return np.array(grad)\n",
    "\n",
    "    def gradient_numerical(self, theta_list, delta=1e-2):\n",
    "        '''\n",
    "        numerical differenciation.\n",
    "        '''\n",
    "        grad = []\n",
    "        for i in range(len(theta_list)):\n",
    "            theta_list[i] += delta/2.\n",
    "            loss_pos = self.mmd_loss(theta_list)\n",
    "            theta_list[i] -= delta\n",
    "            loss_neg = self.mmd_loss(theta_list)\n",
    "            theta_list[i] += delta/2.\n",
    "\n",
    "            grad_i = (loss_pos - loss_neg)/delta\n",
    "            grad.append(grad_i)\n",
    "        return np.array(grad)\n",
    "    \n",
    "def sample_from_prob(x, pl, num_sample):\n",
    "    '''\n",
    "    sample x from probability.\n",
    "    '''\n",
    "    pl = 1. / pl.sum() * pl\n",
    "    indices = np.arange(len(x))\n",
    "    res = np.random.choice(indices, num_sample, p=pl)\n",
    "    return np.array([x[r] for r in res])\n",
    "\n",
    "\n",
    "def prob_from_sample(dataset, hndim, packbits):\n",
    "    '''\n",
    "    emperical probability from data.\n",
    "    '''\n",
    "    if packbits:\n",
    "        dataset = packnbits(dataset).ravel()\n",
    "    p_data = np.bincount(dataset, minlength=hndim)\n",
    "    p_data = p_data / float(np.sum(p_data))\n",
    "    return p_data"
   ]
  },
  {
   "cell_type": "markdown",
   "metadata": {},
   "source": [
    "# MMD Loss Function"
   ]
  },
  {
   "cell_type": "code",
   "execution_count": 194,
   "metadata": {
    "collapsed": true
   },
   "outputs": [],
   "source": [
    "class RBFMMD2(object):\n",
    "    def __init__(self, sigma_list, basis):\n",
    "        self.sigma_list = sigma_list\n",
    "        self.basis = basis\n",
    "        self.K = mix_rbf_kernel(basis, basis, self.sigma_list)\n",
    "\n",
    "    def __call__(self, px, py):\n",
    "        '''\n",
    "        Args:\n",
    "            px (1darray, default=None): probability for data set x, used only when self.is_exact==True.\n",
    "            py (1darray, default=None): same as px, but for data set y.\n",
    "\n",
    "        Returns:\n",
    "            float, loss.\n",
    "        '''\n",
    "        pxy = px-py\n",
    "        return self.kernel_expect(pxy, pxy)\n",
    "\n",
    "    def kernel_expect(self, px, py):\n",
    "        return px.dot(self.K).dot(py)\n",
    "\n",
    "def mix_rbf_kernel(x, y, sigma_list):\n",
    "    ndim = x.ndim\n",
    "    if ndim == 1:\n",
    "        exponent = np.abs(x[:, None] - y[None, :])**2\n",
    "    elif ndim == 2:\n",
    "        exponent = ((x[:, None, :] - y[None, :, :])**2).sum(axis=2)\n",
    "    else:\n",
    "        raise\n",
    "    K = 0.0\n",
    "    for sigma in sigma_list:\n",
    "        gamma = 1.0 / (2 * sigma)\n",
    "        K = K + np.exp(-gamma * exponent)\n",
    "    return K"
   ]
  },
  {
   "cell_type": "code",
   "execution_count": 227,
   "metadata": {
    "collapsed": true
   },
   "outputs": [],
   "source": [
    "def load_gaussian(num_bit, depth, batch_size=None):\n",
    "    '''gaussian distribution.'''\n",
    "    geometry = (num_bit,)\n",
    "    hndim = 2**num_bit\n",
    "\n",
    "    # standard circuit\n",
    "    pairs = get_nn_pairs(geometry)\n",
    "    circuit = get_demo_circuit(num_bit, depth, pairs)\n",
    "\n",
    "    # bar and stripe\n",
    "    p_bs = gaussian_pdf(geometry, mu=hndim/2., sigma=hndim/4.)\n",
    "\n",
    "    # mmd loss\n",
    "    mmd = RBFMMD2(sigma_list=[0.25,0.5,1,2,4], basis=digit_basis(geometry))\n",
    "\n",
    "    # Born Machine\n",
    "    bm = BornMachine(circuit, mmd, p_bs, batch_size=batch_size)\n",
    "    return bm"
   ]
  },
  {
   "cell_type": "code",
   "execution_count": 196,
   "metadata": {},
   "outputs": [
    {
     "name": "stdout",
     "output_type": "stream",
     "text": [
      "0.1950877853722754\n"
     ]
    }
   ],
   "source": [
    "depth = 2\n",
    "np.random.seed(2)\n",
    "\n",
    "bm = load_gaussian(6, depth)\n",
    "theta_list = np.random.random(bm.circuit.num_param)*2*np.pi\n",
    "\n",
    "print(bm.mmd_loss(theta_list))"
   ]
  },
  {
   "cell_type": "code",
   "execution_count": 197,
   "metadata": {},
   "outputs": [
    {
     "name": "stdout",
     "output_type": "stream",
     "text": [
      "[ 3.47241648e-02 -3.69048017e-03 -4.45256934e-02  2.04609258e-03\n",
      "  1.56415309e-02  4.45402102e-02 -1.74030083e-01 -9.91701340e-02\n",
      "  1.24791449e-02 -5.56144661e-02  4.18737036e-02 -8.20496886e-02\n",
      "  5.29219647e-03 -3.00476644e-03 -5.58229708e-03  5.75692853e-03\n",
      " -3.53870599e-02  3.86812961e-03  3.70645325e-02 -5.27774325e-02\n",
      "  3.22366884e-02  7.98334382e-02  5.02299379e-02 -6.10278252e-02\n",
      "  1.37223176e-02  2.40979968e-02  5.47932243e-02 -5.26204442e-03\n",
      " -1.57142330e-03  8.84528014e-03 -8.89998341e-03  1.39747648e-02\n",
      " -2.65590783e-04  2.68444547e-02  6.05716651e-03  6.75632952e-02\n",
      "  2.47044488e-02  3.65935325e-02 -4.28170178e-02  2.71317811e-02\n",
      " -5.25955908e-07 -1.71431860e-02]\n",
      "[ 3.47235117e-02 -3.69045333e-03 -4.45249878e-02  2.04606653e-03\n",
      "  1.56412534e-02  4.45399698e-02 -1.74027695e-01 -9.91692710e-02\n",
      "  1.24785470e-02 -5.56143032e-02  4.18732178e-02 -8.20490984e-02\n",
      "  5.29218524e-03 -3.00483524e-03 -5.58228081e-03  5.75688738e-03\n",
      " -3.53867716e-02  3.86807519e-03  3.70643585e-02 -5.27767211e-02\n",
      "  3.22364026e-02  7.98327059e-02  5.02293889e-02 -6.10270392e-02\n",
      "  1.37223500e-02  2.40980013e-02  5.47928001e-02 -5.26202766e-03\n",
      " -1.57155741e-03  8.84493622e-03 -8.89986889e-03  1.39746272e-02\n",
      " -2.65589013e-04  2.68440975e-02  6.05711882e-03  6.75623345e-02\n",
      "  2.47040901e-02  3.65926646e-02 -4.28164164e-02  2.71314227e-02\n",
      " -5.25953708e-07 -1.71429277e-02]\n"
     ]
    }
   ],
   "source": [
    "g1 = bm.gradient(theta_list)\n",
    "print(g1)\n",
    "g2 = bm.gradient_numerical(theta_list)\n",
    "print(g2)"
   ]
  },
  {
   "cell_type": "markdown",
   "metadata": {},
   "source": [
    "# Different Training Strategies"
   ]
  },
  {
   "cell_type": "code",
   "execution_count": 225,
   "metadata": {
    "collapsed": true
   },
   "outputs": [],
   "source": [
    "from scipy.optimize import OptimizeResult\n",
    "\n",
    "def spsa(fun, x0,  args=(), bounds=None, ac=(0.2, 0.5), alpha=0.602,\n",
    "         A=None, gamma=0.101, maxiter=5000, callback=None):\n",
    "    '''\n",
    "    simultaneous perturbation stochastic approximation.\n",
    "    \n",
    "    Spall, J. C. (1998).\n",
    "    Implementation of the simultaneous perturbation algorithm for stochastic optimization.\n",
    "    IEEE Transactions on Aerospace and Electronic Systems.\n",
    "    https://doi.org/10.1109/7.705889\n",
    "\n",
    "    Args:\n",
    "        fun (func): loss function.\n",
    "        x0 (ndarray): initial variables.\n",
    "        args (tuple, default=()): additional input parameters for func.\n",
    "        bounds (tuple|None, default=None): lower bound and higher bound for variables, None for no bounds.\n",
    "        ac (tuple, default=(0.2,0.5)): initial learning rate and initial perturbation stength.\n",
    "        A (number, default=0.1*maxiter): statbility constant.\n",
    "        alpha (float, default=0.602): decay rate for learning speed.\n",
    "        gamma (float, default=0.101): decay rate for perturbation strength.\n",
    "        maxiter (int, default=5000): maximum number of iteration.\n",
    "        callback (func): func(iiter, x) called after each update, with `iiter` the iteration step and `x` the value of variables.\n",
    "\n",
    "    Note:\n",
    "        The choice of parameters,\n",
    "        * `alpha` and `gamma` have thoretically valid default values 0.602 and 0.101.\n",
    "        * in hight noise setting, pick smaller `a` and larger `c`.\n",
    "    '''\n",
    "    if A is None:\n",
    "        A = 0.1 * maxiter\n",
    "    a, c = ac\n",
    "\n",
    "    p = len(x0)\n",
    "    for k in range(maxiter):\n",
    "        ak = a / (k + 1 + A)**alpha\n",
    "        ck = c / (k + 1)**gamma\n",
    "        g = _get_g(fun, x0, args, ck, return_hessian=False)\n",
    "        x0 -= ak * g\n",
    "        if bounds is not None:\n",
    "            np.clip(x0, *bounds, out=x0)\n",
    "        if callback is not None:\n",
    "            callback(x0)\n",
    "    return OptimizeResult(x=x0, fun=fun(x0, *args), success=True)\n",
    "\n",
    "def _get_g(fun, x0, args, ck, return_hessian):\n",
    "    '''calculate gradient'''\n",
    "    p = len(x0)\n",
    "    delta = (2 * np.random.randint(0, 2, p) - 1) * ck\n",
    "    xpos, xneg = x0 + delta, x0 - delta\n",
    "    fpos, fneg = fun(xpos, *args), fun(xneg, *args)\n",
    "    g = (fpos - fneg) / (2 * delta)\n",
    "    if return_hessian:\n",
    "        delta1 = (2 * np.random.randint(0, 2, p) - 1) * ck\n",
    "        fneg_ = fun(xneg + delta1, *args)\n",
    "        fpos_ = fun(xpos + delta1, *args)\n",
    "        g1n = (fneg_ - fneg) / delta1\n",
    "        g1p = (fpos_ - fpos) / delta1\n",
    "        hessian = (g1p - g1n) / 4. / delta[:, None]\n",
    "        hessian += hessian.T\n",
    "        return g, hessian\n",
    "    return g"
   ]
  },
  {
   "cell_type": "code",
   "execution_count": 221,
   "metadata": {
    "collapsed": true
   },
   "outputs": [],
   "source": [
    "  def train(bm, theta_list, method, max_iter=1000, popsize=50, step_rate=0.1):\n",
    "    '''train a Born Machine.'''\n",
    "    step = [0]\n",
    "    def callback(x, *args, **kwargs):\n",
    "        step[0] += 1\n",
    "        print('step = %d, loss = %s'%(step[0], bm.mmd_loss(x)))\n",
    "        \n",
    "    theta_list = np.array(theta_list)\n",
    "    if method == 'SPSA':\n",
    "        res = spsa(bm.mmd_loss, x0=theta_list,\n",
    "                       maxiter=max_iter, callback=callback,\n",
    "                       )\n",
    "        return res.fun, res.x\n",
    "    elif method == 'Adam':\n",
    "        from climin import Adam\n",
    "        optimizer = Adam(wrt=theta_list, fprime=bm.gradient,step_rate=step_rate)\n",
    "        for info in optimizer:\n",
    "            callback(theta_list)\n",
    "            if step[0] == max_iter:\n",
    "                break\n",
    "        return bm.mmd_loss(theta_list), theta_list\n",
    "    else:\n",
    "        from scipy.optimize import minimize\n",
    "        res = minimize(bm.mmd_loss, x0=theta_list,\n",
    "                       method=method, jac = bm.gradient, tol=1e-12,\n",
    "                       options={'maxiter': max_iter, 'disp': 0, 'gtol':1e-10, 'ftol':0},\n",
    "                       callback=callback,\n",
    "                       )\n",
    "        return res.fun, res.x"
   ]
  },
  {
   "cell_type": "code",
   "execution_count": 230,
   "metadata": {
    "scrolled": false
   },
   "outputs": [
    {
     "name": "stdout",
     "output_type": "stream",
     "text": [
      "step = 1, loss = 0.04340453487423113\n",
      "step = 2, loss = 0.022656513576501218\n",
      "step = 3, loss = 0.015556847414408591\n",
      "step = 4, loss = 0.008792146211766631\n",
      "step = 5, loss = 0.006061514515992783\n",
      "step = 6, loss = 0.0043241762792339536\n",
      "step = 7, loss = 0.0031885894082968\n",
      "step = 8, loss = 0.0025882680009249905\n",
      "step = 9, loss = 0.0017572598398354455\n",
      "step = 10, loss = 0.0014833295582753992\n",
      "step = 11, loss = 0.001249948030944027\n",
      "step = 12, loss = 0.001088404117807242\n",
      "step = 13, loss = 0.0009724658619494026\n",
      "step = 14, loss = 0.0008079134388218156\n",
      "step = 15, loss = 0.0006843512068402241\n",
      "step = 16, loss = 0.000598749264087444\n",
      "step = 17, loss = 0.0005103544537945799\n",
      "step = 18, loss = 0.00042598248083488665\n",
      "step = 19, loss = 0.0003531969411517539\n",
      "step = 20, loss = 0.00029354462874733964\n",
      "step = 21, loss = 0.00026458079280902713\n"
     ]
    },
    {
     "data": {
      "image/png": "[encoded data removed]",
      "text/plain": [
       "<Figure size 432x288 with 1 Axes>"
      ]
     },
     "metadata": {},
     "output_type": "display_data"
    }
   ],
   "source": [
    "depth = 6\n",
    "np.random.seed(2)\n",
    "\n",
    "bm = load_gaussian(6, depth)\n",
    "theta_list = np.random.random(bm.circuit.num_param)*2*np.pi\n",
    "loss, theta_list = train(bm, theta_list, 'L-BFGS-B', max_iter=20)\n",
    "pl = bm.pdf(theta_list)\n",
    "\n",
    "# display\n",
    "plt.plot(bm.p_data)\n",
    "plt.plot(pl)\n",
    "plt.legend(['Data', 'Gradient Born Machine'])\n",
    "plt.show()"
   ]
  },
  {
   "cell_type": "code",
   "execution_count": null,
   "metadata": {
    "collapsed": true
   },
   "outputs": [],
   "source": [
    "def load_barstripe(geometry, depth):\n",
    "    '''3 x 3 bar and stripes.'''\n",
    "    num_bit = np.prod(geometry)\n",
    "\n",
    "    # standard circuit\n",
    "    pairs = get_nn_pairs(geometry)\n",
    "    circuit = get_demo_circuit(num_bit, depth, pairs)\n",
    "\n",
    "    # bar and stripe\n",
    "    p_bs = barstripe_pdf(geometry)\n",
    "\n",
    "    # mmd loss\n",
    "    mmd = RBFMMD2(sigma_list=[0.5,1,2,4], basis=binary_basis((num_bit,)))\n",
    "\n",
    "    # Born Machine\n",
    "    bm = BornMachine(circuit, mmd, p_bs)\n",
    "    return bm"
   ]
  },
  {
   "cell_type": "code",
   "execution_count": 232,
   "metadata": {},
   "outputs": [
    {
     "name": "stdout",
     "output_type": "stream",
     "text": [
      "step = 1, loss = 0.10410307459020851\n",
      "step = 2, loss = 0.06897019105672574\n",
      "step = 3, loss = 0.04222586254443849\n",
      "step = 4, loss = 0.03284743822048028\n",
      "step = 5, loss = 0.027237673773339785\n",
      "step = 6, loss = 0.02464354921007052\n",
      "step = 7, loss = 0.025303318499330152\n",
      "step = 8, loss = 0.024555338475011547\n",
      "step = 9, loss = 0.02251583808565402\n",
      "step = 10, loss = 0.022069936409519243\n",
      "step = 11, loss = 0.01828876525524541\n",
      "step = 12, loss = 0.0147723320966942\n",
      "step = 13, loss = 0.014029790461659898\n",
      "step = 14, loss = 0.011841890651948954\n",
      "step = 15, loss = 0.010085661787978898\n",
      "step = 16, loss = 0.009034061866717812\n",
      "step = 17, loss = 0.007430397398382133\n",
      "step = 18, loss = 0.00598909853142913\n",
      "step = 19, loss = 0.00530047089300462\n",
      "step = 20, loss = 0.0039923126555776395\n",
      "step = 21, loss = 0.0019624133712522014\n",
      "step = 22, loss = 0.0020948463039470776\n",
      "step = 23, loss = 0.003005811235186332\n",
      "step = 24, loss = 0.0018845235110273816\n",
      "step = 25, loss = 0.0014494037265585023\n",
      "step = 26, loss = 0.002179230779443523\n",
      "step = 27, loss = 0.0016658133581357103\n",
      "step = 28, loss = 0.0010418496597001227\n",
      "step = 29, loss = 0.0009874808041356968\n",
      "step = 30, loss = 0.0012936230247968402\n",
      "step = 31, loss = 0.001354968307521074\n",
      "step = 32, loss = 0.0008810221430468831\n",
      "step = 33, loss = 0.0010123298052499684\n",
      "step = 34, loss = 0.0012853033797744088\n",
      "step = 35, loss = 0.0007180280461062372\n",
      "step = 36, loss = 0.000589259562880731\n",
      "step = 37, loss = 0.0007081260797479878\n",
      "step = 38, loss = 0.0004414772828318442\n",
      "step = 39, loss = 0.00046151840075588405\n",
      "step = 40, loss = 0.0004514602427856472\n",
      "step = 41, loss = 0.00034787915296767254\n",
      "step = 42, loss = 0.0004160546639388556\n",
      "step = 43, loss = 0.0003616111206823533\n",
      "step = 44, loss = 0.0002564494508164434\n",
      "step = 45, loss = 0.0001751502035935938\n",
      "step = 46, loss = 0.0002500883673044344\n",
      "step = 47, loss = 0.0001879783838655119\n",
      "step = 48, loss = 9.708961151350753e-05\n",
      "step = 49, loss = 0.00024218264826259496\n",
      "step = 50, loss = 0.00018966339037937408\n",
      "step = 51, loss = 0.00010565518601060841\n",
      "step = 52, loss = 0.00015594646091707305\n",
      "step = 53, loss = 0.00010295852649556161\n",
      "step = 54, loss = 7.22417456958282e-05\n",
      "step = 55, loss = 9.21878787824311e-05\n",
      "step = 56, loss = 9.920275786247956e-05\n",
      "step = 57, loss = 8.661401397761862e-05\n",
      "step = 58, loss = 9.097894621298169e-05\n",
      "step = 59, loss = 7.056354146177092e-05\n",
      "step = 60, loss = 3.910449633278138e-05\n"
     ]
    },
    {
     "data": {
      "image/png": "[encoded data removed]",
      "text/plain": [
       "<Figure size 432x288 with 1 Axes>"
      ]
     },
     "metadata": {},
     "output_type": "display_data"
    }
   ],
   "source": [
    "np.random.seed(2)\n",
    "depth = 4\n",
    "\n",
    "bm = load_barstripe((2, 2), depth)\n",
    "theta_list = np.random.random(bm.circuit.num_param)*2*np.pi\n",
    "loss, theta_list = train(bm, theta_list, 'Adam', max_iter=60, popsize=10)\n",
    "pl = bm.pdf(theta_list)\n",
    "\n",
    "# display\n",
    "plt.plot(bm.p_data)\n",
    "plt.plot(pl)\n",
    "plt.legend(['Data', 'Gradient Born Machine'])\n",
    "plt.show()"
   ]
  },
  {
   "cell_type": "code",
   "execution_count": null,
   "metadata": {
    "collapsed": true
   },
   "outputs": [],
   "source": []
  }
 ],
 "metadata": {
  "kernelspec": {
   "display_name": "Python 3",
   "language": "python",
   "name": "python3"
  },
  "language_info": {
   "codemirror_mode": {
    "name": "ipython",
    "version": 3
   },
   "file_extension": ".py",
   "mimetype": "text/x-python",
   "name": "python",
   "nbconvert_exporter": "python",
   "pygments_lexer": "ipython3",
   "version": "3.6.4"
  }
 },
 "nbformat": 4,
 "nbformat_minor": 2
}
