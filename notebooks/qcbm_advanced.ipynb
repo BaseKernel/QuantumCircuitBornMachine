{
  "nbformat": 4,
  "nbformat_minor": 0,
  "metadata": {
    "colab": {
      "name": "nc_qcbm_advanced.ipynb",
      "version": "0.3.2",
      "views": {},
      "default_view": {},
      "provenance": [
        {
          "file_id": "1cA5niJga7aLcJqIdBtpGV9i0vyOen1Aq",
          "timestamp": 1525588809356
        }
      ],
      "collapsed_sections": []
    },
    "kernelspec": {
      "display_name": "Python 3",
      "language": "python",
      "name": "python3"
    }
  },
  "cells": [
    {
      "metadata": {
        "id": "_PGjHY0otWWi",
        "colab_type": "code",
        "colab": {
          "autoexec": {
            "startup": false,
            "wait_interval": 0
          }
        }
      },
      "cell_type": "code",
      "source": [
        "import numpy as np\n",
        "import matplotlib.pyplot as plt\n",
        "import scipy.sparse as sps"
      ],
      "execution_count": 0,
      "outputs": []
    },
    {
      "metadata": {
        "id": "ZyiGMZMrtWWx",
        "colab_type": "text"
      },
      "cell_type": "markdown",
      "source": [
        "# Dataset, binary data and continuous data"
      ]
    },
    {
      "metadata": {
        "id": "0VCZR0e1tWW0",
        "colab_type": "code",
        "colab": {
          "autoexec": {
            "startup": false,
            "wait_interval": 0
          }
        }
      },
      "cell_type": "code",
      "source": [
        "def digit_basis(geometry):\n",
        "    num_bit = np.prod(geometry)\n",
        "    M = 2**num_bit\n",
        "    x = np.arange(M)\n",
        "    return x\n",
        "\n",
        "def binary_basis(geometry):\n",
        "    num_bit = np.prod(geometry)\n",
        "    M = 2**num_bit\n",
        "    x = np.arange(M)\n",
        "    return unpacknbits(x[:,None], num_bit).reshape((-1,)+geometry)\n",
        "\n",
        "def unpacknbits(arr, nbit, axis=-1):\n",
        "    '''unpack numbers to bitstrings.'''\n",
        "    nd = np.ndim(arr)\n",
        "    if axis < 0:\n",
        "        axis = nd + axis\n",
        "    return (((arr & (1 << np.arange(nbit - 1, -1, -1)).reshape([-1] + [1] * (nd - axis - 1)))) > 0).astype('int8')\n",
        "\n",
        "\n",
        "def packnbits(arr, axis=-1):\n",
        "    '''pack bitstrings to numbers.'''\n",
        "    nd = np.ndim(arr)\n",
        "    nbit = np.shape(arr)[axis]\n",
        "    if axis < 0:\n",
        "        axis = nd + axis\n",
        "    return (arr * (1 << np.arange(nbit - 1, -1, -1)).reshape([-1] + [1] * (nd - axis - 1))\\\n",
        "           ).sum(axis=axis, keepdims=True).astype('int')"
      ],
      "execution_count": 0,
      "outputs": []
    },
    {
      "metadata": {
        "id": "P2hc58LmtWW-",
        "colab_type": "code",
        "colab": {
          "autoexec": {
            "startup": false,
            "wait_interval": 0
          }
        }
      },
      "cell_type": "code",
      "source": [
        "def gaussian_pdf(geometry, mu, sigma):\n",
        "    '''get gaussian distribution function'''\n",
        "    x = digit_basis(geometry)\n",
        "    pl = 1. / np.sqrt(2 * np.pi * sigma**2) * \\\n",
        "        np.exp(-(x - mu)**2 / (2. * sigma**2))\n",
        "    return pl/pl.sum()"
      ],
      "execution_count": 0,
      "outputs": []
    },
    {
      "metadata": {
        "id": "EEz0-AL0tWXG",
        "colab_type": "code",
        "colab": {
          "autoexec": {
            "startup": false,
            "wait_interval": 0
          }
        }
      },
      "cell_type": "code",
      "source": [
        "def barstripe_pdf(geometry):\n",
        "    '''get bar and stripes PDF'''\n",
        "    x = binary_basis(geometry)\n",
        "    pl = is_bs(x)\n",
        "    return pl/pl.sum()\n",
        "\n",
        "def is_bs(samples):\n",
        "    '''a sample is a bar or a stripe.'''\n",
        "    return (np.abs(np.diff(samples,axis=-1)).sum(axis=(1,2))==0\\\n",
        "           )|((np.abs(np.diff(samples, axis=1)).sum(axis=(1,2)))==0)"
      ],
      "execution_count": 0,
      "outputs": []
    },
    {
      "metadata": {
        "id": "9vUhXN3qtWXP",
        "colab_type": "code",
        "colab": {
          "autoexec": {
            "startup": false,
            "wait_interval": 0
          },
          "base_uri": "https://localhost:8080/",
          "height": 347
        },
        "outputId": "2b41c692-af4e-4316-a4e2-440bd8d680ed",
        "executionInfo": {
          "status": "ok",
          "timestamp": 1526017746481,
          "user_tz": -480,
          "elapsed": 913,
          "user": {
            "displayName": "刘金国",
            "photoUrl": "//lh3.googleusercontent.com/-lDAT81T3HSE/AAAAAAAAAAI/AAAAAAAAAgw/eH3JEob7M1Y/s50-c-k-no/photo.jpg",
            "userId": "116824001998056121289"
          }
        }
      },
      "cell_type": "code",
      "source": [
        "num_bit = 9\n",
        "pl1 = gaussian_pdf((num_bit,), mu=2**(num_bit-1)-0.5, sigma=2**(num_bit-2))\n",
        "plt.plot(pl1)\n",
        "plt.show()"
      ],
      "execution_count": 5,
      "outputs": [
        {
          "output_type": "display_data",
          "data": {
            "image/png": "[encoded data removed]",
            "text/plain": [
              "<matplotlib.figure.Figure at 0x7f8334830978>"
            ]
          },
          "metadata": {
            "tags": []
          }
        }
      ]
    },
    {
      "metadata": {
        "id": "r5ga46YmtWXh",
        "colab_type": "code",
        "colab": {
          "autoexec": {
            "startup": false,
            "wait_interval": 0
          },
          "base_uri": "https://localhost:8080/",
          "height": 701
        },
        "outputId": "d3cf3c0a-95ed-4263-ce13-7796da3a4375",
        "executionInfo": {
          "status": "ok",
          "timestamp": 1526017748927,
          "user_tz": -480,
          "elapsed": 1561,
          "user": {
            "displayName": "刘金国",
            "photoUrl": "//lh3.googleusercontent.com/-lDAT81T3HSE/AAAAAAAAAAI/AAAAAAAAAgw/eH3JEob7M1Y/s50-c-k-no/photo.jpg",
            "userId": "116824001998056121289"
          }
        }
      },
      "cell_type": "code",
      "source": [
        "geometry = (3,3)\n",
        "pl2 = barstripe_pdf(geometry)\n",
        "plt.plot(pl2)\n",
        "\n",
        "# show ticks\n",
        "basis = binary_basis(geometry)\n",
        "plt.xticks([0, 511], [basis[0], basis[511]])\n",
        "plt.show()\n",
        "\n",
        "# generate samples\n",
        "samples = basis[pl2>1e-2]\n",
        "\n",
        "# show bar and stripes\n",
        "def plot_bs(samples, size):\n",
        "    plt.figure(facecolor='#777777')\n",
        "    gs = plt.GridSpec(*size)\n",
        "\n",
        "    for i in range(size[0]):\n",
        "        for j in range(size[1]):\n",
        "            if i*size[1]+j == len(samples): break\n",
        "            plt.subplot(gs[i,j]).imshow(samples[i*size[1]+j], vmin=0, vmax=1)\n",
        "            plt.axis('equal')\n",
        "            plt.axis('off')\n",
        "    plt.show()\n",
        "\n",
        "size = (4, 4)\n",
        "plot_bs(samples, size)"
      ],
      "execution_count": 6,
      "outputs": [
        {
          "output_type": "display_data",
          "data": {
            "image/png": "[encoded data removed]",
            "text/plain": [
              "<matplotlib.figure.Figure at 0x7f8331f495c0>"
            ]
          },
          "metadata": {
            "tags": []
          }
        },
        {
          "output_type": "display_data",
          "data": {
            "image/png": "[encoded data removed]",
            "text/plain": [
              "<matplotlib.figure.Figure at 0x7f8331eff6d8>"
            ]
          },
          "metadata": {
            "tags": []
          }
        }
      ]
    },
    {
      "metadata": {
        "id": "4DpbQjncLsD2",
        "colab_type": "text"
      },
      "cell_type": "markdown",
      "source": [
        "# Kernel Two Sample Test\n",
        "## Kernel Method\n",
        "Given a vector $x$ in $n$-dimensional space, we perform the mapping to reproducing kernel Hilbert space (RKHS) $x\\rightarrow \\phi(x)$.\n",
        "Define the inner product as $\\phi(x)^T\\phi = K(x,x')$, this is the kernel function.\n",
        "Good let's see a simple example of polynomial kernel function $K(x,y)=(x^T y)^2=\\sum_{ij} x_i y_i x_j y_j$\n",
        "The mapping should be $\\phi(x)=x\\otimes x$.\n",
        "\n",
        "#### Ref\n",
        "Hofmann, T., Scholkopf, B., & Smola, A. J. (2008). Kernel methods in machine learning. Annals of Statistics, 36(3), 1171–1220. https://doi.org/10.1214/009053607000000677"
      ]
    },
    {
      "metadata": {
        "id": "KU7Nc9hrM0TU",
        "colab_type": "code",
        "colab": {
          "autoexec": {
            "startup": false,
            "wait_interval": 0
          },
          "base_uri": "https://localhost:8080/",
          "height": 53
        },
        "outputId": "1cf14f6c-c106-4aa8-d93e-84ad2cb08a06",
        "executionInfo": {
          "status": "ok",
          "timestamp": 1526017750024,
          "user_tz": -480,
          "elapsed": 1027,
          "user": {
            "displayName": "刘金国",
            "photoUrl": "//lh3.googleusercontent.com/-lDAT81T3HSE/AAAAAAAAAAI/AAAAAAAAAgw/eH3JEob7M1Y/s50-c-k-no/photo.jpg",
            "userId": "116824001998056121289"
          }
        }
      },
      "cell_type": "code",
      "source": [
        "# define the kernel and mapping\n",
        "K = lambda x, y: x.dot(y)**2\n",
        "phi = lambda x: (x[:,None]*x).ravel()\n",
        "\n",
        "# randomly generate some vectors\n",
        "num_sample = 10\n",
        "num_dim = 100\n",
        "x = np.random.randn(num_sample, num_dim)\n",
        "\n",
        "print(\"Size of x = %d\"%x[0].size)\n",
        "print(\"Size of phi(x) = %d\"%phi(x[0]).size)\n",
        "\n",
        "kmat = np.zeros([num_sample, num_sample])\n",
        "\n",
        "for i in range(num_sample):\n",
        "    for j in range(num_sample):\n",
        "        kmat[i, j] = K(x[i], x[j])\n",
        "        np.testing.assert_almost_equal(kmat[i, j], phi(x[i]).dot(phi(x[j])))"
      ],
      "execution_count": 7,
      "outputs": [
        {
          "output_type": "stream",
          "text": [
            "Size of x = 100\n",
            "Size of phi(x) = 10000\n"
          ],
          "name": "stdout"
        }
      ]
    },
    {
      "metadata": {
        "id": "EwhCR4JWNxNq",
        "colab_type": "text"
      },
      "cell_type": "markdown",
      "source": [
        "## Properties\n",
        "* K is ususally chosen as **positive definite**, the Moore–Aronszajn theorem states that, for every positive definite kernel, there exists a unique RKHS and vice versa.\n",
        "* sometimes RKHS can be $\\infty$-dimensional, e.g. RBF kernel $K(x,y) = \\exp(\\frac{\\|x-y\\|}{2\\sigma})$"
      ]
    },
    {
      "metadata": {
        "id": "E4FZZdycVk6j",
        "colab_type": "code",
        "colab": {
          "autoexec": {
            "startup": false,
            "wait_interval": 0
          },
          "base_uri": "https://localhost:8080/",
          "height": 71
        },
        "outputId": "068835c4-d8d2-48a9-f296-06194be36d3a",
        "executionInfo": {
          "status": "ok",
          "timestamp": 1526017752020,
          "user_tz": -480,
          "elapsed": 929,
          "user": {
            "displayName": "刘金国",
            "photoUrl": "//lh3.googleusercontent.com/-lDAT81T3HSE/AAAAAAAAAAI/AAAAAAAAAgw/eH3JEob7M1Y/s50-c-k-no/photo.jpg",
            "userId": "116824001998056121289"
          }
        }
      },
      "cell_type": "code",
      "source": [
        "# get all eigen values\n",
        "print(np.linalg.eigvalsh(kmat), \"are all positive!\")"
      ],
      "execution_count": 8,
      "outputs": [
        {
          "output_type": "stream",
          "text": [
            "[ 6705.47440995  8237.20293944  9835.08782136 10220.3915002\n",
            " 11378.71166636 11835.40403696 13443.38452008 13744.29091067\n",
            " 15806.48534292 16826.94894898] are all positive!\n"
          ],
          "name": "stdout"
        }
      ]
    },
    {
      "metadata": {
        "id": "kkIQnUvagX6k",
        "colab_type": "text"
      },
      "cell_type": "markdown",
      "source": [
        "## Kernel Two Sample Test (MMD)\n",
        "Defined as the distance in RKHS between two mean embeddings\n",
        "\\begin{align}\n",
        "    \\mathcal{L} =&  \\left\\|\\sum_{x} p_\\theta(x) \\phi(x)- \\sum_{x} \\pi(x) \\phi(x)  \\right\\|^2 \\\\\n",
        "    =&\\langle K(x,y)\\rangle_{x\\sim p_\\theta, y\\sim p_\\theta}-2\\langle K(x,y)\\rangle_{x\\sim p_\\theta,y\\sim \\pi}+\\langle K(x, y)\\rangle_{x\\sim \\pi,y\\sim \\pi}\n",
        "\\end{align}\n",
        "\n",
        "#### Ref\n",
        "Gretton, A. (2012). A Kernel Two-Sample Test. Journal of Machine Learning Research, 13, 723–773. Retrieved from http://kyb.tuebingen.mpg.de/publications/attachments/NIPS2009-Gretton_[0].pdf"
      ]
    },
    {
      "metadata": {
        "id": "5Y07_RQoXF5q",
        "colab_type": "text"
      },
      "cell_type": "markdown",
      "source": [
        "## Probability embedding\n",
        "\n",
        "We next extend the notion of feature map to the embedding of a probability distribution: we will define an element $\\mu(p)\\in \\mathcal H$ such that $E_x(f) = f^T \\mu_p$ for all $f \\in \\mathcal H$.\n",
        "\n",
        "**Theorem 5**\n",
        "Let $\\mathcal F$ be a unit ball in a **universal** RKHS $\\mathcal{H}$, defined on the compact metric space $\\mathcal X$, with associated continuous kernel $k(·, ·)$. Then MMD$[\\mathcal F, p,q]=0$ if and only if $p=q$.\n",
        "\n",
        "* universal RKHS: By the universality of $\\mathcal H$, for any given $\\epsilon > 0$ and $f \\in C(X)$ (bounded continuous function) there exists a $g \\in \\mathcal H$ such that $\\|f-g\\|_\\infty\\leq \\epsilon$. e.g. Gaussian and Laplace kernels (I. Steinwart. On the influence of the kernel on the consistency of support vector machines. Journal of Machine Learning Research, 2:67–93, 2001.).\n",
        "\n",
        "#### Ref\n",
        "A.Berlinet and C. Thomas-Agnan. Reproducing KernelHilbert Spaces in Probability and Statistics. Kluwer, 2004. Chapter 4."
      ]
    },
    {
      "metadata": {
        "id": "c54lKlcVtWYY",
        "colab_type": "code",
        "colab": {
          "autoexec": {
            "startup": false,
            "wait_interval": 0
          }
        }
      },
      "cell_type": "code",
      "source": [
        "class RBFMMD2(object):\n",
        "    def __init__(self, sigma_list, basis):\n",
        "        self.sigma_list = sigma_list\n",
        "        self.basis = basis\n",
        "        self.K = mix_rbf_kernel(self.basis, self.basis, self.sigma_list)\n",
        "\n",
        "    def __call__(self, px, py):\n",
        "        '''\n",
        "        Args:\n",
        "            px (1darray, default=None): probability for data set x, used only when self.is_exact==True.\n",
        "            py (1darray, default=None): same as px, but for data set y.\n",
        "\n",
        "        Returns:\n",
        "            float, loss.\n",
        "        '''\n",
        "        pxy = px-py\n",
        "        return self.kernel_expect(pxy, pxy)\n",
        "\n",
        "    def kernel_expect(self, px, py):\n",
        "        return px.dot(self.K.dot(py))\n",
        "\n",
        "    def witness(self, px, py):\n",
        "        '''witness function of this kernel.'''\n",
        "        return self.K.dot(px-py)\n",
        "\n",
        "\n",
        "def mix_rbf_kernel(x, y, sigma_list):\n",
        "    ndim = x.ndim\n",
        "    if ndim == 1:\n",
        "        exponent = np.abs(x[:, None] - y[None, :])**2\n",
        "    elif ndim == 2:\n",
        "        exponent = ((x[:, None, :] - y[None, :, :])**2).sum(axis=2)\n",
        "    else:\n",
        "        raise\n",
        "    K = 0.0\n",
        "    for sigma in sigma_list:\n",
        "        gamma = 1.0 / (2 * sigma)\n",
        "        K = K + np.exp(-gamma * exponent)\n",
        "    return K"
      ],
      "execution_count": 0,
      "outputs": []
    },
    {
      "metadata": {
        "id": "sg7tUmVfswv7",
        "colab_type": "text"
      },
      "cell_type": "markdown",
      "source": [
        "### Witness Function\n",
        "To see how sensitive the MMD loss to the probability difference defined as $\\delta (x) = p(x)-\\pi(x)$. We define\n",
        "$$W_\\pi(x)\\propto \\langle \\phi(x), \\mu_p-\\mu_\\pi \\rangle_{\\rm RKHS}=E_y[K(y\\sim p,x)]-E_y[K(y\\sim\\pi, x)]$$\n",
        "So that $\\mathcal{L}=\\delta (x)^TW_\\pi(x)$.\n",
        "\n",
        "Give a target empirical distribution $\\hat{\\pi}(x) = \\sum\\limits_{d_i \\in \\mathcal{D}} \\delta(x-d_i)$, see witness function."
      ]
    },
    {
      "metadata": {
        "id": "rjJSOE0Ksvge",
        "colab_type": "code",
        "colab": {
          "autoexec": {
            "startup": false,
            "wait_interval": 0
          },
          "base_uri": "https://localhost:8080/",
          "height": 1055
        },
        "outputId": "856e5bc9-3d4e-46ab-a725-53f59ffcabf3",
        "executionInfo": {
          "status": "ok",
          "timestamp": 1526018035258,
          "user_tz": -480,
          "elapsed": 2010,
          "user": {
            "displayName": "刘金国",
            "photoUrl": "//lh3.googleusercontent.com/-lDAT81T3HSE/AAAAAAAAAAI/AAAAAAAAAgw/eH3JEob7M1Y/s50-c-k-no/photo.jpg",
            "userId": "116824001998056121289"
          }
        }
      },
      "cell_type": "code",
      "source": [
        "basis = digit_basis(num_bit)\n",
        "mmd = RBFMMD2([20], basis)\n",
        "print(\"If p = q, then mmd = %.4f\"%mmd(pl1, pl1))\n",
        "print(\"If p != q, then mmd = %.4f\"%mmd(pl1, pl2))\n",
        "\n",
        "def show_witness(p, pi):\n",
        "    wit = mmd.witness(p, pi)\n",
        "    plt.plot(basis, np.transpose([pi, p, wit/20]))\n",
        "    plt.legend(['$\\pi$', 'p', 'witness'])\n",
        "    plt.ylim(-0.008,0.008)\n",
        "    plt.show()\n",
        "    \n",
        "def _empirical(pi, num_sample):\n",
        "    '''turn a distribution function to empirical distribution function.'''\n",
        "    samples = np.random.choice(np.arange(2**num_bit), (num_sample,), p=pl1)\n",
        "    px = np.bincount(samples, minlength=2**num_bit)\n",
        "    px = px / float(np.sum(px))\n",
        "    return px\n",
        "\n",
        "# witness function using band-width 20\n",
        "show_witness(pl1, pl2)\n",
        "\n",
        "# witness function using empirical (spiky) distribution\n",
        "pl1_ = _empirical(pl1, 100)\n",
        "show_witness(pl2, pl1_)\n",
        "\n",
        "# witness function using narrower bandwidth\n",
        "mmd = RBFMMD2([1], basis)\n",
        "show_witness(pl1, pl2)"
      ],
      "execution_count": 15,
      "outputs": [
        {
          "output_type": "stream",
          "text": [
            "If p = q, then mmd = 0.0000\n",
            "If p != q, then mmd = 0.0822\n"
          ],
          "name": "stdout"
        },
        {
          "output_type": "display_data",
          "data": {
            "image/png": "[encoded data removed]",
            "text/plain": [
              "<matplotlib.figure.Figure at 0x7f8331bfd828>"
            ]
          },
          "metadata": {
            "tags": []
          }
        },
        {
          "output_type": "display_data",
          "data": {
            "image/png": "[encoded data removed]",
            "text/plain": [
              "<matplotlib.figure.Figure at 0x7f8331ebed68>"
            ]
          },
          "metadata": {
            "tags": []
          }
        },
        {
          "output_type": "display_data",
          "data": {
            "image/png": "[encoded data removed]",
            "text/plain": [
              "<matplotlib.figure.Figure at 0x7f8331e8add8>"
            ]
          },
          "metadata": {
            "tags": []
          }
        }
      ]
    },
    {
      "metadata": {
        "id": "FhXrf5mnfWYF",
        "colab_type": "text"
      },
      "cell_type": "markdown",
      "source": [
        "# Building Differentiable Circuits\n",
        "\n",
        "<div>\n",
        "$$\n",
        "\\newcommand{\\dataset}{{\\mathcal{D}}}\n",
        "\\newcommand{\\wfunc}{{\\psi}}\n",
        "\\newcommand{\\thetav}{{\\boldsymbol{\\theta}}}\n",
        "\\newcommand{\\gammav}{{\\boldsymbol{\\gamma}}}\n",
        "\\newcommand{\\thetai}{{\\theta^\\alpha_l}}\n",
        "\\newcommand{\\Expect}{{\\mathbb{E}}}\n",
        "\\newcommand{\\etc}{{\\it etc~}}\n",
        "\\newcommand{\\etal}{{\\it etal~}}\n",
        "\\newcommand{\\xset}{\\mathbf{X}}\n",
        "\\newcommand{\\gammaset}{\\boldsymbol{\\Gamma}}\n",
        "\\newcommand{\\ei}{\\mathbf{e}_l^\\alpha}\n",
        "\\newcommand{\\sigmag}{{\\nu}}\n",
        "\\newcommand{\\BAS}{Bars-and-Stripes}\n",
        "\\newcommand{\\qexpect}[1]{{\\left\\langle #1\\right\\rangle}}\n",
        "\\newcommand{\\expect}[2]{{\\mathop{\\mathbb{E}}\\limits_{\\substack{#2}}\\left[#1\\right]}}\n",
        "\\newcommand{\\pshift}[1]{{p_{\\thetav+#1}}}\n",
        "$$\n",
        "</div>\n",
        "\n",
        "### For an Obserable\n",
        "\n",
        "Consider the expect of $B$ on state <span>$\\vert\\psi_N\\rangle = U_{N:k+1} U_k(\\eta)U_{k-1:1}\\vert\\psi_0\\rangle$</span> with $U_k(\\eta)=e^{i\\Xi(\\eta)}$,\n",
        "The first task is to get the derivation of the graident of an expectation value that appear in Ref. [2-4] briefly, the gradient\n",
        "<div>$$\\begin{align}\\frac{\\partial \\langle B\\rangle_\\eta}{\\partial \\eta} &=i\\langle \\psi_0\\vert U_{N:1}^\\dagger BU_{N:k+1} \\frac{\\partial \\Xi(\\eta)}{\\partial \\eta} U_{k:1}\\vert \\psi_0\\rangle-i\\langle \\psi_0\\vert U_{k:1}^\\dagger \\frac{\\partial \\Xi(\\eta)}{\\partial \\eta} U_{N:k+1}^\\dagger BU_{N:1}\\vert \\psi_0\\rangle\\end{align}$$</div>\n",
        "Here, we have used the fact that $\\Xi(\\eta)$ is Hermitian. Define $O_{k+1}\\equiv U_{N:k+1}^\\dagger BU_{N:k+1}$ and $\\vert \\psi_{k}\\rangle\\equiv U_{k:1}\\vert \\psi_0\\rangle$, we have\n",
        "<div>$$\\begin{equation}\\frac{\\partial \\langle B\\rangle_\\eta}{\\partial \\eta} =\\langle\\psi_{k}\\vert  i\\left[O_{k+1}, \\frac{\\partial \\Xi(\\eta)}{\\partial \\eta}\\right]\\vert \\psi_{k}\\rangle.\\end{equation}$$</div>\n",
        "Define $A_\\pm\\equiv\\frac{1}{\\sqrt{2}} (1\\pm i\\frac{\\partial \\Xi(\\eta)}{\\partial \\eta})$, we can easily verify that $ i\\left[O_{k+1}, \\frac{\\partial \\Xi(\\eta)}{\\partial \\eta}\\right]= A^\\dagger_+ O_{k+1}A_+-A_-^\\dagger O_{k+1}A_-$,\n",
        "which can be estimated unbiasedly by constructing $\\vert \\psi_N\\rangle_\\pm = U_{N:k+1}A_\\pm U_{k:1}\\vert \\psi_0\\rangle$.\n",
        "Noticing for a non-dissipative system, we further require $A$ being unitary, which means $\\frac{\\partial \\Xi(\\eta)}{\\partial \\eta}^2=1$ (e.g. Pauli operators, CNOT and SWAP).\n"
      ]
    },
    {
      "metadata": {
        "id": "8AzPpQpatWXw",
        "colab_type": "code",
        "colab": {
          "autoexec": {
            "startup": false,
            "wait_interval": 0
          }
        }
      },
      "cell_type": "code",
      "source": [
        "######  Pauli Matrices  ########\n",
        "\n",
        "I2 = sps.eye(2).tocsr()\n",
        "sx = sps.csr_matrix([[0,1],[1,0.]])\n",
        "sy = sps.csr_matrix([[0,-1j],[1j,0.]])\n",
        "sz = sps.csr_matrix([[1,0],[0,-1.]])\n",
        "\n",
        "p0 = (sz + I2) / 2\n",
        "p1 = (-sz + I2) / 2\n",
        "h = (sx + sz) / np.sqrt(2.)\n",
        "sxyz = [I2, sx, sy, sz]\n",
        "\n",
        "# single bit rotation matrices\n",
        "\n",
        "def _ri(si, theta):\n",
        "    return np.cos(theta/2.)*I2 - 1j*np.sin(theta/2.)*si\n",
        "\n",
        "def rx(theta):\n",
        "    return _ri(sx, theta)\n",
        "\n",
        "def ry(theta):\n",
        "    return _ri(sy, theta)\n",
        "\n",
        "def rz(theta):\n",
        "    return _ri(sz, theta)\n",
        "\n",
        "def rot(t1, t2, t3):\n",
        "    '''\n",
        "    a general rotation gate rz(t3)rx(r2)rz(t1).\n",
        "\n",
        "    Args:\n",
        "        t1, t2, t3 (float): three angles.\n",
        "\n",
        "    Returns:\n",
        "        2x2 csr_matrix: rotation matrix.\n",
        "    '''\n",
        "    return rz(t3).dot(rx(t2)).dot(rz(t1))\n",
        "\n",
        "# multiple bit construction\n",
        "\n",
        "def CNOT(ibit, jbit, n):\n",
        "    res = _([p0, I2], [ibit, jbit], n)\n",
        "    res = res + _([p1, sx], [ibit, jbit], n)\n",
        "    return res\n",
        "\n",
        "def _(ops, locs, n):\n",
        "    '''\n",
        "    Put operators in a circuit and compile them.\n",
        "\n",
        "    notice the big end are high loc bits!\n",
        "\n",
        "    Args:\n",
        "        ops (list): list of single bit operators.\n",
        "        locs (list): list of positions.\n",
        "        n (int): total number of bits.\n",
        "\n",
        "    Returns:\n",
        "        csr_matrix: resulting matrix.\n",
        "    '''\n",
        "    if np.ndim(locs) == 0:\n",
        "        locs = [locs]\n",
        "    if not isinstance(ops, (list, tuple)):\n",
        "        ops = [ops]\n",
        "    locs = np.asarray(locs)\n",
        "    locs = n - locs\n",
        "    order = np.argsort(locs)\n",
        "    locs = np.concatenate([[0], locs[order], [n + 1]])\n",
        "    return _wrap_identity([ops[i] for i in order], np.diff(locs) - 1)\n",
        "\n",
        "\n",
        "def _wrap_identity(data_list, num_bit_list):\n",
        "    if len(num_bit_list) != len(data_list) + 1:\n",
        "        raise Exception()\n",
        "\n",
        "    res = sps.eye(2**num_bit_list[0])\n",
        "    for data, nbit in zip(data_list, num_bit_list[1:]):\n",
        "        res = sps.kron(res, data)\n",
        "        res = sps.kron(res, sps.eye(2**nbit, dtype='complex128'))\n",
        "    return res\n",
        "\n",
        "def initial_wf(num_bit):\n",
        "    wf = np.zeros(2**num_bit, dtype='complex128')\n",
        "    wf[0] = 1.\n",
        "    return wf"
      ],
      "execution_count": 0,
      "outputs": []
    },
    {
      "metadata": {
        "id": "Td25MwJNtWX3",
        "colab_type": "code",
        "colab": {
          "autoexec": {
            "startup": false,
            "wait_interval": 0
          }
        }
      },
      "cell_type": "code",
      "source": [
        "class ArbitraryRotation(object):\n",
        "    def __init__(self, num_bit):\n",
        "        self.num_bit = num_bit\n",
        "        self.mask = np.array([True] * (3*num_bit), dtype='bool')\n",
        "\n",
        "    def __str__(self):\n",
        "        return 'Rotate[%d]'%(self.num_param)\n",
        "\n",
        "    @property\n",
        "    def num_param(self):\n",
        "        return self.mask.sum()\n",
        "\n",
        "    def tocsr(self, theta_list):\n",
        "        '''transform this block to csr_matrix.'''\n",
        "        theta_list_ = np.zeros(3*self.num_bit)\n",
        "        theta_list_[self.mask] = theta_list\n",
        "        rots = [rot(*ths) for ths in theta_list_.reshape([self.num_bit,3])]\n",
        "        res = [_([r], [i], self.num_bit) for i,r in enumerate(rots)]\n",
        "        return res\n",
        "\n",
        "class CNOTEntangler(object):\n",
        "    def __init__(self, num_bit, pairs):\n",
        "        self.num_bit = num_bit\n",
        "        self.pairs = pairs\n",
        "\n",
        "    def __str__(self):\n",
        "        pair_str = ','.join(['%d-%d'%(i,j) for i,j in self.pairs])\n",
        "        return 'CNOT(%s)'%(pair_str)\n",
        "\n",
        "    @property\n",
        "    def num_param(self):\n",
        "        return 0\n",
        "\n",
        "    def tocsr(self, theta_list):\n",
        "        '''transform this block to csr_matrix.'''\n",
        "        i, j = self.pairs[0]\n",
        "        res = CNOT(i, j, self.num_bit)\n",
        "        for i, j in self.pairs[1:]:\n",
        "            res = CNOT(i,j,self.num_bit).dot(res)\n",
        "        res.eliminate_zeros()\n",
        "        return [res]"
      ],
      "execution_count": 0,
      "outputs": []
    },
    {
      "metadata": {
        "id": "GPOVLVrhtWX-",
        "colab_type": "code",
        "colab": {
          "autoexec": {
            "startup": false,
            "wait_interval": 0
          }
        }
      },
      "cell_type": "code",
      "source": [
        "class BlockQueue(list):\n",
        "    '''\n",
        "    Block Queue that keep track of theta_list changing history, for fast update.\n",
        "    '''\n",
        "    def __init__(self, *args):\n",
        "        list.__init__(self, *args)\n",
        "        self.theta_last = None\n",
        "        self.memo = None\n",
        "\n",
        "    def __call__(self, qureg, theta_list):\n",
        "        # cache? if theta_list change <= 1 parameters, then don't touch memory.\n",
        "        remember = self.theta_last is None or (abs(self.theta_last-theta_list)>1e-12).sum() > 1\n",
        "\n",
        "        mats = []\n",
        "        theta_last = self.theta_last\n",
        "        if remember:\n",
        "            self.theta_last = theta_list.copy()\n",
        "\n",
        "        qureg_ = qureg\n",
        "        for iblock, block in enumerate(self):\n",
        "            # generate or use a block matrix\n",
        "            num_param = block.num_param\n",
        "            theta_i, theta_list = np.split(theta_list, [num_param])\n",
        "            if theta_last is not None:\n",
        "                theta_o, theta_last = np.split(theta_last, [num_param])\n",
        "            if self.memo is not None and (num_param==0 or np.abs(theta_i-theta_o).max()<1e-12):\n",
        "                # use data cached in memory\n",
        "                mat = self.memo[iblock]\n",
        "            else:\n",
        "                if self.memo is not None and not remember:\n",
        "                    # update the changed gate, but not touching memory.\n",
        "                    mat = _rot_tocsr_update1(block, self.memo[iblock], theta_o, theta_i)\n",
        "                else:\n",
        "                    # regenerate one\n",
        "                    mat = block.tocsr(theta_i)\n",
        "            for mat_i in mat:\n",
        "                qureg_ = mat_i.dot(qureg_)\n",
        "            mats.append(mat)\n",
        "\n",
        "        if remember:\n",
        "            # cache data\n",
        "            self.memo = mats\n",
        "        # update register\n",
        "        qureg[...] = qureg_\n",
        "        \n",
        "    @property\n",
        "    def num_bit(self):\n",
        "        return self[0].num_bit\n",
        "\n",
        "    @property\n",
        "    def num_param(self):\n",
        "        return sum([b.num_param for b in self])\n",
        "\n",
        "    def __str__(self):\n",
        "        return '\\n'.join([str(b) for b in self])\n",
        "\n",
        "def _rot_tocsr_update1(layer, old, theta_old, theta_new):\n",
        "    '''\n",
        "    rotation layer csr_matrix update method.\n",
        "    \n",
        "    Args:\n",
        "        layer (ArbitraryRotation): rotatio layer.\n",
        "        old (csr_matrix): old matrices.\n",
        "        theta_old (1darray): old parameters.\n",
        "        theta_new (1darray): new parameters.\n",
        "\n",
        "    Returns:\n",
        "        csr_matrix: new rotation matrices after the theta changed.\n",
        "    '''\n",
        "    idiff_param = np.where(abs(theta_old-theta_new)>1e-12)[0].item()\n",
        "    idiff = np.where(layer.mask)[0][idiff_param]\n",
        "\n",
        "    # get rotation parameters\n",
        "    isite = idiff//3\n",
        "    theta_list_ = np.zeros(3*layer.num_bit)\n",
        "    theta_list_[layer.mask] = theta_new\n",
        "    \n",
        "    new = old[:]\n",
        "    new[isite] = _(rot(*theta_list_[isite*3:isite*3+3]), isite, layer.num_bit)\n",
        "    return new"
      ],
      "execution_count": 0,
      "outputs": []
    },
    {
      "metadata": {
        "id": "hbkFWCGHtWYF",
        "colab_type": "code",
        "colab": {
          "autoexec": {
            "startup": false,
            "wait_interval": 0
          }
        }
      },
      "cell_type": "code",
      "source": [
        "def get_nn_pairs(geometry):\n",
        "    '''define pairs that cnot gates will apply.'''\n",
        "    num_bit = np.prod(geometry)\n",
        "    if len(geometry) == 2:\n",
        "        nrow, ncol = geometry\n",
        "        res = []\n",
        "        for ij in range(num_bit):\n",
        "            i, j = ij // ncol, ij % ncol\n",
        "            res.extend([(ij, i_ * ncol + j_)\n",
        "                        for i_, j_ in [((i + 1) % nrow, j), (i, (j + 1) % ncol)]])\n",
        "        return res\n",
        "    elif len(geometry) == 1:\n",
        "        res = []\n",
        "        for inth in range(2):\n",
        "            for i in range(inth, num_bit, 2):\n",
        "                res = res + [(i, i_ % num_bit) for i_ in range(i + 1, i + 2)]\n",
        "        return res\n",
        "    else:\n",
        "       raise NotImplementedError('')"
      ],
      "execution_count": 0,
      "outputs": []
    },
    {
      "metadata": {
        "id": "mK3fBq07nj00",
        "colab_type": "code",
        "colab": {
          "autoexec": {
            "startup": false,
            "wait_interval": 0
          }
        }
      },
      "cell_type": "code",
      "source": [
        "def get_diff_circuit(num_bit, depth, pairs):\n",
        "    '''\n",
        "    build a differentiable circuit\n",
        "    \n",
        "    Args:\n",
        "        num_bit (int): number of qubit.\n",
        "        depth (int): depth of circuit.\n",
        "        pairs (list): list of tuples that represent where CNOT gates applied.\n",
        "    '''\n",
        "    blocks = []\n",
        "    # build circuit\n",
        "    for idepth in range(depth+1):\n",
        "        blocks.append(ArbitraryRotation(num_bit))\n",
        "        if idepth!=depth:\n",
        "            blocks.append(CNOTEntangler(num_bit, pairs))\n",
        "\n",
        "    # set leading and trailing Rz to disabled\n",
        "    blocks[0].mask[::3] = False\n",
        "    blocks[-1].mask[2::3] = False\n",
        "    return BlockQueue(blocks)"
      ],
      "execution_count": 0,
      "outputs": []
    },
    {
      "metadata": {
        "id": "XnJVuUhZtWYJ",
        "colab_type": "code",
        "colab": {
          "autoexec": {
            "startup": false,
            "wait_interval": 0
          },
          "base_uri": "https://localhost:8080/",
          "height": 107
        },
        "outputId": "1b285b0b-37fa-4ae0-bdcd-db309f1985ea",
        "executionInfo": {
          "status": "ok",
          "timestamp": 1525967661224,
          "user_tz": -480,
          "elapsed": 701,
          "user": {
            "displayName": "刘金国",
            "photoUrl": "//lh3.googleusercontent.com/-lDAT81T3HSE/AAAAAAAAAAI/AAAAAAAAAgw/eH3JEob7M1Y/s50-c-k-no/photo.jpg",
            "userId": "116824001998056121289"
          }
        }
      },
      "cell_type": "code",
      "source": [
        "depth = 2\n",
        "geometry = (4,)\n",
        "num_bit = np.prod(geometry)\n",
        "pairs = get_nn_pairs(geometry)\n",
        "\n",
        "circuit = get_diff_circuit(num_bit, depth, pairs)\n",
        "print(circuit)"
      ],
      "execution_count": 20,
      "outputs": [
        {
          "output_type": "stream",
          "text": [
            "Rotate[8]\n",
            "CNOT(0-1,2-3,1-2,3-0)\n",
            "Rotate[12]\n",
            "CNOT(0-1,2-3,1-2,3-0)\n",
            "Rotate[8]\n"
          ],
          "name": "stdout"
        }
      ]
    },
    {
      "metadata": {
        "id": "dKzSeGQdtWYO",
        "colab_type": "code",
        "colab": {
          "autoexec": {
            "startup": false,
            "wait_interval": 0
          },
          "base_uri": "https://localhost:8080/",
          "height": 125
        },
        "outputId": "0de65362-113f-4a4b-a48f-fb52c1ca3878",
        "executionInfo": {
          "status": "ok",
          "timestamp": 1525967671758,
          "user_tz": -480,
          "elapsed": 1088,
          "user": {
            "displayName": "刘金国",
            "photoUrl": "//lh3.googleusercontent.com/-lDAT81T3HSE/AAAAAAAAAAI/AAAAAAAAAgw/eH3JEob7M1Y/s50-c-k-no/photo.jpg",
            "userId": "116824001998056121289"
          }
        }
      },
      "cell_type": "code",
      "source": [
        "theta_list = np.random.random(circuit.num_param)*np.pi*2\n",
        "wf = initial_wf(num_bit)\n",
        "circuit(wf, theta_list)\n",
        "\n",
        "print(wf)"
      ],
      "execution_count": 21,
      "outputs": [
        {
          "output_type": "stream",
          "text": [
            "[ 0.00056575+0.09888234j  0.19134579-0.30111828j -0.1689071 +0.31456431j\n",
            " -0.03176943+0.12489008j -0.0963301 +0.2707479j  -0.10215699-0.2329753j\n",
            " -0.25322989+0.02847686j -0.21620301-0.08289819j  0.1910678 -0.08112196j\n",
            " -0.12659273-0.319008j    0.16075672+0.14750737j -0.18150813+0.20632003j\n",
            " -0.17513398-0.16878919j -0.04635411-0.27225991j  0.14554747-0.00530493j\n",
            " -0.06474349+0.0903669j ]\n"
          ],
          "name": "stdout"
        }
      ]
    },
    {
      "metadata": {
        "id": "LBeiU_mPwbUn",
        "colab_type": "code",
        "colab": {
          "autoexec": {
            "startup": false,
            "wait_interval": 0
          },
          "base_uri": "https://localhost:8080/",
          "height": 521
        },
        "outputId": "7833c559-5203-490a-e41b-e87c34ca2a2b",
        "executionInfo": {
          "status": "ok",
          "timestamp": 1525967673686,
          "user_tz": -480,
          "elapsed": 968,
          "user": {
            "displayName": "刘金国",
            "photoUrl": "//lh3.googleusercontent.com/-lDAT81T3HSE/AAAAAAAAAAI/AAAAAAAAAgw/eH3JEob7M1Y/s50-c-k-no/photo.jpg",
            "userId": "116824001998056121289"
          }
        }
      },
      "cell_type": "code",
      "source": [
        "# construct an observable\n",
        "observable = np.random.randn(*[2**num_bit]*2)+1j*np.random.randn(*[2**num_bit]*2)\n",
        "observable += observable.T.conj()\n",
        "\n",
        "def expect_val(theta_list):\n",
        "    wf = initial_wf(num_bit)\n",
        "    circuit(wf, theta_list)\n",
        "    return wf.conj().dot(observable.dot(wf))\n",
        "  \n",
        "\n",
        "def gradient_numerical(theta_list, delta=1e-2):\n",
        "    '''\n",
        "    numerical differenciation.\n",
        "    '''\n",
        "    grad = []\n",
        "    for i in range(len(theta_list)):\n",
        "        theta_list[i] += delta/2.\n",
        "        loss_pos = expect_val(theta_list)\n",
        "        theta_list[i] -= delta\n",
        "        loss_neg = expect_val(theta_list)\n",
        "        theta_list[i] += delta/2.\n",
        "\n",
        "        grad_i = (loss_pos - loss_neg)/delta\n",
        "        grad.append(grad_i)\n",
        "    return np.array(grad)\n",
        "  \n",
        "\n",
        "def gradient(theta_list):\n",
        "    '''\n",
        "    cheat and get gradient.\n",
        "    '''\n",
        "    grad = []\n",
        "    for i in range(len(theta_list)):\n",
        "        # pi/2 phase\n",
        "        theta_list[i] += np.pi/2.\n",
        "        mean_pos = expect_val(theta_list)\n",
        "        # -pi/2 phase\n",
        "        theta_list[i] -= np.pi\n",
        "        mean_neg = expect_val(theta_list)\n",
        "        # recover\n",
        "        theta_list[i] += np.pi/2.\n",
        "\n",
        "        grad.append((mean_pos - mean_neg)/2.)\n",
        "    return np.array(grad)\n",
        "\n",
        "g1 = gradient(theta_list)\n",
        "print(\"Exact = \", g1)\n",
        "g2 = gradient_numerical(theta_list)\n",
        "print(\"Diff = \", g1 - g2)"
      ],
      "execution_count": 22,
      "outputs": [
        {
          "output_type": "stream",
          "text": [
            "Exact =  [-0.89463303-1.38777878e-16j -0.11217499-1.11022302e-16j\n",
            " -1.79280291-5.55111512e-17j -0.5864455 -1.11022302e-16j\n",
            "  1.26719505-1.52655666e-16j -0.09476827-3.88578059e-16j\n",
            "  0.72094707+1.45716772e-16j  1.93379526+5.55111512e-17j\n",
            " -2.4973808 -2.77555756e-17j  0.35375861+2.49800181e-16j\n",
            " -1.48451599+5.55111512e-17j -0.68485904-1.11022302e-16j\n",
            "  0.690804  -5.55111512e-17j -0.59058008-5.55111512e-17j\n",
            "  0.44002793-1.11022302e-16j -2.35894687+4.16333634e-17j\n",
            "  0.59581721+4.16333634e-17j -2.59120551-1.66533454e-16j\n",
            "  0.05863847+5.55111512e-17j -2.62490017+0.00000000e+00j\n",
            " -0.22833212+4.16333634e-17j  0.56197748-1.11022302e-16j\n",
            " -1.62767971-5.55111512e-17j -0.82558004+1.38777878e-16j\n",
            " -0.99766406-8.32667268e-17j  0.67353332-2.63677968e-16j\n",
            " -0.13788348+9.02056208e-17j  2.27469931+1.11022302e-16j]\n",
            "Diff =  [-3.72763313e-06+1.65145675e-14j -4.67395367e-07-1.95399252e-14j\n",
            " -7.47000269e-06-3.05866443e-14j -2.44351980e-06-1.39888101e-14j\n",
            "  5.27997280e-06-1.52655666e-16j -3.94867201e-07+2.38697950e-15j\n",
            "  3.00394229e-06+8.47238946e-15j  8.05747028e-06+2.22599716e-14j\n",
            " -1.04057402e-05-8.35442826e-15j  1.47399244e-06-3.02813330e-14j\n",
            " -6.18547567e-06+2.78110868e-14j -2.85357564e-06-1.95399252e-14j\n",
            "  2.87834626e-06+4.99045250e-14j -2.46074718e-06+4.43534098e-14j\n",
            "  1.83344727e-06-2.23154828e-14j -9.82893314e-06-1.93872696e-14j\n",
            "  2.48256844e-06-2.73392420e-15j -1.07966763e-05+2.20379270e-14j\n",
            "  2.44326573e-07-2.72004641e-15j -1.09370703e-05-6.38378239e-14j\n",
            " -9.51382633e-07+3.88994392e-14j  2.34156982e-06-1.12132525e-14j\n",
            " -6.78199028e-06+3.60267371e-14j -3.43991266e-06-2.63677968e-15j\n",
            " -4.15692840e-06+2.21211938e-14j  2.80638530e-06-1.41414658e-14j\n",
            " -5.74513745e-07+1.95191086e-14j  9.47790194e-06+1.39888101e-14j]\n"
          ],
          "name": "stdout"
        }
      ]
    },
    {
      "metadata": {
        "id": "zCr4hDE11GA8",
        "colab_type": "text"
      },
      "cell_type": "markdown",
      "source": [
        "### For statistic functional (MMD)\n",
        "\n",
        "Next, we describe a new class of differenciable loss which can not be written as an obserable easily, the statistic functionals, for simplicity, we consider an arbitrary statistic functional $f(\\xset)$, with a sequence of bit strings $\\xset\\equiv\\{x_1,x_2,\\ldots, x_r\\}$ as its arguments.\n",
        "Let's define the following expectation of this function\n",
        "<div>$$\\begin{equation}\\Expect_f(\\gammaset)\\equiv\\expect{f(\\xset)}{\\{x_i\\sim \\pshift{\\gammav_i}\\}_{i=1}^{r}}. \\end{equation}$$</div>\n",
        "Here, $\\gammaset=\\{\\gammav_1, \\gammav_2,\\ldots,\\gammav_r\\}$ is the offset angles applied to circuit parameters,\n",
        "%Its element $\\gammav_i$ is defined in the same parameter space as $\\thetav$ that represents a shift to $\\thetav$.\n",
        "which means the probability distributions of generated samples is\n",
        "$\\{\\pshift{\\gammav_1}, \\pshift{\\gammav_2},\\ldots ,\\pshift{\\gammav_r}\\}$.\n",
        "Writing out the above expectation explicitly, we have\n",
        "<div>$$\\begin{equation}\\Expect_f(\\gammaset)=\\sum\\limits_\\xset f(\\xset)\\prod\\limits_i \\pshift{\\gammav_i}(x_i),\\end{equation}$$</div>\n",
        "where index $i$ runs from $1$ to $r$. Its partial derivative with respect to $\\thetai$ is\n",
        "<div>$$\\begin{equation}\\frac{\\partial \\Expect_f(\\gammaset)}{\\partial \\thetai}=\\sum\\limits_\\xset f(\\xset)\\sum\\limits_j\\frac{\\partial \\pshift{\\gammav_j}(x_j)}{\\partial\\thetai}\\prod\\limits_{i\\neq j} \\pshift{\\gammav_i}(x_i)\\end{equation}$$</div>\n",
        "Again, using the gradient of probability, we have\n",
        "<div>$$\\begin{align}\\frac{\\partial \\Expect_f(\\gammaset)}{\\partial \\thetai}&=\\frac{1}{2}\\sum\\limits_{j,s=\\pm}\\sum\\limits_\\xset f(\\xset){\\pshift{\\gammav_j+s\\frac{\\pi}{2}\\ei}(x_j)}\\prod\\limits_{i\\neq j} \\pshift{\\gammav_i}(x_i)\\\\&=\\frac{1}{2}\\sum\\limits_{j,s=\\pm}\\Expect_f(\\{\\gammav_i+s\\delta_{ij}\\frac{\\pi}{2}\\ei\\}_{i=1}^{r})\\end{align}$$</div>\n",
        "\n",
        "If $f$ is symmetric, $\\Expect_f(\\mathbf{0})$ becomes a V-statistic, then the gradient can be further simplified to\n",
        "<div>$$\\begin{align}\\frac{\\partial \\Expect_f(\\gammaset)}{\\partial \\thetai}=\\frac{r}{2}\\sum\\limits_{s=\\pm}\\Expect_f\\left(\\{\\gammav_0+s\\frac{\\pi}{2}\\ei,\\gammav_1,\\ldots,\\gammav_r\\}\\right),\\end{align}$$</div>\n",
        "which contains only two terms. This result can be readily verified by calculating the gradient of MMD loss,\n",
        "noticing the expectation of a kernel function is a V-statistic of degree $2$.\n",
        "By repeatedly applying the gradient formula, we will be able to obtain higher order gradients."
      ]
    },
    {
      "metadata": {
        "id": "2wv_pxP2tWYT",
        "colab_type": "text"
      },
      "cell_type": "markdown",
      "source": [
        "# Build The Gradient training framework for Born Machine"
      ]
    },
    {
      "metadata": {
        "id": "F8NSUjdVtWYU",
        "colab_type": "code",
        "colab": {
          "autoexec": {
            "startup": false,
            "wait_interval": 0
          }
        }
      },
      "cell_type": "code",
      "source": [
        "class QCBM(object):\n",
        "    '''\n",
        "    Quantum Circuit Born Machine,\n",
        "\n",
        "    Args:\n",
        "        circuit (BlockQueue): the circuit architechture.\n",
        "        batch_size (int|None): introducing sampling error, None for no sampling error.\n",
        "    '''\n",
        "    def __init__(self, circuit, mmd, p_data, batch_size=None):\n",
        "        self.circuit = circuit\n",
        "        self.mmd = mmd\n",
        "        self.p_data = p_data\n",
        "        self.batch_size = batch_size\n",
        "\n",
        "    @property\n",
        "    def depth(self):\n",
        "        return (len(self.circuit)-1)//2\n",
        "\n",
        "    def pdf(self, theta_list):\n",
        "        '''get probability distribution function'''\n",
        "        wf = initial_wf(self.circuit.num_bit)\n",
        "        self.circuit(wf, theta_list)\n",
        "        pl = np.abs(wf)**2\n",
        "        # introducing sampling error\n",
        "        if self.batch_size is not None:\n",
        "            pl = prob_from_sample(sample_from_prob(np.arange(len(pl)), pl, self.batch_size),\n",
        "                    len(pl), False)\n",
        "        return pl\n",
        "\n",
        "    def mmd_loss(self, theta_list):\n",
        "        '''get the loss'''\n",
        "        # get and cahe probability distritbution of Born Machine\n",
        "        self._prob = self.pdf(theta_list)\n",
        "        # use wave function to get mmd loss\n",
        "        return self.mmd(self._prob, self.p_data)\n",
        "\n",
        "    def gradient(self, theta_list):\n",
        "        '''\n",
        "        cheat and get gradient.\n",
        "        '''\n",
        "        prob = self.pdf(theta_list)\n",
        "        grad = []\n",
        "        for i in range(len(theta_list)):\n",
        "            # pi/2 phase\n",
        "            theta_list[i] += np.pi/2.\n",
        "            prob_pos = self.pdf(theta_list)\n",
        "            # -pi/2 phase\n",
        "            theta_list[i] -= np.pi\n",
        "            prob_neg = self.pdf(theta_list)\n",
        "            # recover\n",
        "            theta_list[i] += np.pi/2.\n",
        "\n",
        "            grad_pos = self.mmd.kernel_expect(prob, prob_pos) - self.mmd.kernel_expect(prob, prob_neg)\n",
        "            grad_neg = self.mmd.kernel_expect(self.p_data, prob_pos) - self.mmd.kernel_expect(self.p_data, prob_neg)\n",
        "            grad.append(grad_pos - grad_neg)\n",
        "        return np.array(grad)\n",
        "\n",
        "    def gradient_numerical(self, theta_list, delta=1e-2):\n",
        "        '''\n",
        "        numerical differenciation.\n",
        "        '''\n",
        "        grad = []\n",
        "        for i in range(len(theta_list)):\n",
        "            theta_list[i] += delta/2.\n",
        "            loss_pos = self.mmd_loss(theta_list)\n",
        "            theta_list[i] -= delta\n",
        "            loss_neg = self.mmd_loss(theta_list)\n",
        "            theta_list[i] += delta/2.\n",
        "\n",
        "            grad_i = (loss_pos - loss_neg)/delta\n",
        "            grad.append(grad_i)\n",
        "        return np.array(grad)\n",
        "    \n",
        "def sample_from_prob(x, pl, num_sample):\n",
        "    '''\n",
        "    sample x from probability.\n",
        "    '''\n",
        "    pl = 1. / pl.sum() * pl\n",
        "    indices = np.arange(len(x))\n",
        "    res = np.random.choice(indices, num_sample, p=pl)\n",
        "    return np.array([x[r] for r in res])\n",
        "\n",
        "\n",
        "def prob_from_sample(dataset, hndim, packbits):\n",
        "    '''\n",
        "    emperical probability from data.\n",
        "    '''\n",
        "    if packbits:\n",
        "        dataset = packnbits(dataset).ravel()\n",
        "    p_data = np.bincount(dataset, minlength=hndim)\n",
        "    p_data = p_data / float(np.sum(p_data))\n",
        "    return p_data"
      ],
      "execution_count": 0,
      "outputs": []
    },
    {
      "metadata": {
        "id": "qvtUVmI7tWYa",
        "colab_type": "code",
        "colab": {
          "autoexec": {
            "startup": false,
            "wait_interval": 0
          }
        }
      },
      "cell_type": "code",
      "source": [
        "def load_gaussian(num_bit, depth, batch_size=None):\n",
        "    '''gaussian distribution.'''\n",
        "    geometry = (num_bit,)\n",
        "    hndim = 2**num_bit\n",
        "\n",
        "    # standard circuit\n",
        "    pairs = get_nn_pairs(geometry)\n",
        "    circuit = get_diff_circuit(num_bit, depth, pairs)\n",
        "\n",
        "    # bar and stripe\n",
        "    p_bs = gaussian_pdf(geometry, mu=hndim/2., sigma=hndim/4.)\n",
        "\n",
        "    # mmd loss\n",
        "    mmd = RBFMMD2(sigma_list=[0.25,4], basis=digit_basis(geometry))\n",
        "\n",
        "    # Born Machine\n",
        "    bm = QCBM(circuit, mmd, p_bs, batch_size=batch_size)\n",
        "    return bm"
      ],
      "execution_count": 0,
      "outputs": []
    },
    {
      "metadata": {
        "id": "d7GU4xZQtWYd",
        "colab_type": "code",
        "colab": {
          "autoexec": {
            "startup": false,
            "wait_interval": 0
          },
          "base_uri": "https://localhost:8080/",
          "height": 35
        },
        "outputId": "a8144dbe-aa6c-4c63-fba1-0e53c84cd06a",
        "executionInfo": {
          "status": "ok",
          "timestamp": 1525967679948,
          "user_tz": -480,
          "elapsed": 1002,
          "user": {
            "displayName": "刘金国",
            "photoUrl": "//lh3.googleusercontent.com/-lDAT81T3HSE/AAAAAAAAAAI/AAAAAAAAAgw/eH3JEob7M1Y/s50-c-k-no/photo.jpg",
            "userId": "116824001998056121289"
          }
        }
      },
      "cell_type": "code",
      "source": [
        "bm = load_gaussian(6, depth)\n",
        "theta_list = np.random.random(bm.circuit.num_param)*2*np.pi\n",
        "\n",
        "print(bm.mmd_loss(theta_list))"
      ],
      "execution_count": 25,
      "outputs": [
        {
          "output_type": "stream",
          "text": [
            "0.03315822936156594\n"
          ],
          "name": "stdout"
        }
      ]
    },
    {
      "metadata": {
        "id": "2WYvTZMLtWYh",
        "colab_type": "code",
        "colab": {
          "autoexec": {
            "startup": false,
            "wait_interval": 0
          },
          "base_uri": "https://localhost:8080/",
          "height": 413
        },
        "outputId": "626c7296-be7d-4343-f73b-d4fbc1b0b040",
        "executionInfo": {
          "status": "ok",
          "timestamp": 1525967681165,
          "user_tz": -480,
          "elapsed": 864,
          "user": {
            "displayName": "刘金国",
            "photoUrl": "//lh3.googleusercontent.com/-lDAT81T3HSE/AAAAAAAAAAI/AAAAAAAAAgw/eH3JEob7M1Y/s50-c-k-no/photo.jpg",
            "userId": "116824001998056121289"
          }
        }
      },
      "cell_type": "code",
      "source": [
        "g1 = bm.gradient(theta_list)\n",
        "print(g1)\n",
        "g2 = bm.gradient_numerical(theta_list)\n",
        "print(g1-g2)"
      ],
      "execution_count": 26,
      "outputs": [
        {
          "output_type": "stream",
          "text": [
            "[ 5.42728081e-03  9.10485946e-03 -1.30299761e-02 -7.05065456e-05\n",
            "  4.31816240e-03 -4.79203832e-05  3.56761090e-03  3.84413542e-03\n",
            " -4.35883820e-03  1.38246431e-03  3.58551616e-03  4.92344825e-03\n",
            "  2.20604531e-03 -5.04621581e-04  1.39651786e-02  1.90459756e-03\n",
            " -3.13879420e-03 -1.11116678e-02 -2.89498314e-03  2.55574896e-03\n",
            " -9.70312153e-04 -3.34279719e-03 -1.60688966e-02  2.08389163e-03\n",
            "  8.82359256e-03 -9.58209336e-03  2.78738079e-03 -2.52477728e-03\n",
            " -5.77484406e-03 -3.89837130e-03 -3.46751009e-03  2.82087082e-03\n",
            "  2.96495644e-04 -6.05037633e-03 -8.88916704e-05 -7.05716254e-03\n",
            "  1.12644988e-03  1.52902085e-04  8.85146949e-03  5.39032545e-03\n",
            " -1.66131241e-03  7.14929170e-04]\n",
            "[ 1.04943764e-07  2.65206660e-07 -1.97721522e-07 -8.47951755e-09\n",
            "  8.58076832e-08 -4.73371911e-10  8.58643784e-08  3.15749608e-08\n",
            " -1.46184334e-07 -5.40492179e-10  1.63113497e-07  5.62470692e-08\n",
            " -1.53586267e-08 -3.59366711e-08  1.50532489e-07  1.49675920e-07\n",
            " -1.19718795e-07  1.23396361e-07 -1.65125155e-07  9.87286134e-08\n",
            " -1.76287260e-09 -3.05225820e-08 -1.53085829e-07  2.56574020e-08\n",
            "  6.25544895e-08 -1.63353482e-07  7.40252018e-08 -4.93648129e-08\n",
            "  2.41868066e-08 -4.79960755e-08 -4.39826612e-08  5.15779414e-08\n",
            "  1.70194484e-10 -8.99080903e-08  1.81158089e-10 -1.31713408e-07\n",
            "  2.71245671e-08  9.93821506e-08  2.71624440e-08  1.51837504e-09\n",
            " -1.17952479e-07  1.17750322e-07]\n"
          ],
          "name": "stdout"
        }
      ]
    },
    {
      "metadata": {
        "id": "phmzTb73tWYk",
        "colab_type": "text"
      },
      "cell_type": "markdown",
      "source": [
        "# Different Training Strategies"
      ]
    },
    {
      "metadata": {
        "id": "ZKBnRc_wtWYm",
        "colab_type": "code",
        "colab": {
          "autoexec": {
            "startup": false,
            "wait_interval": 0
          }
        }
      },
      "cell_type": "code",
      "source": [
        "from scipy.optimize import OptimizeResult\n",
        "\n",
        "def spsa(fun, x0,  args=(), bounds=None, ac=(0.2, 0.5), alpha=0.602,\n",
        "         A=None, gamma=0.101, maxiter=5000, callback=None):\n",
        "    '''\n",
        "    simultaneous perturbation stochastic approximation.\n",
        "    \n",
        "    Spall, J. C. (1998).\n",
        "    Implementation of the simultaneous perturbation algorithm for stochastic optimization.\n",
        "    IEEE Transactions on Aerospace and Electronic Systems.\n",
        "    https://doi.org/10.1109/7.705889\n",
        "\n",
        "    Args:\n",
        "        fun (func): loss function.\n",
        "        x0 (ndarray): initial variables.\n",
        "        args (tuple, default=()): additional input parameters for func.\n",
        "        bounds (tuple|None, default=None): lower bound and higher bound for variables, None for no bounds.\n",
        "        ac (tuple, default=(0.2,0.5)): initial learning rate and initial perturbation stength.\n",
        "        A (number, default=0.1*maxiter): statbility constant.\n",
        "        alpha (float, default=0.602): decay rate for learning speed.\n",
        "        gamma (float, default=0.101): decay rate for perturbation strength.\n",
        "        maxiter (int, default=5000): maximum number of iteration.\n",
        "        callback (func): func(iiter, x) called after each update, with `iiter` the iteration step and `x` the value of variables.\n",
        "\n",
        "    Note:\n",
        "        The choice of parameters,\n",
        "        * `alpha` and `gamma` have thoretically valid default values 0.602 and 0.101.\n",
        "        * in hight noise setting, pick smaller `a` and larger `c`.\n",
        "    '''\n",
        "    if A is None:\n",
        "        A = 0.1 * maxiter\n",
        "    a, c = ac\n",
        "\n",
        "    p = len(x0)\n",
        "    for k in range(maxiter):\n",
        "        ak = a / (k + 1 + A)**alpha\n",
        "        ck = c / (k + 1)**gamma\n",
        "        g = _get_g(fun, x0, args, ck, return_hessian=False)\n",
        "        x0 -= ak * g\n",
        "        if bounds is not None:\n",
        "            np.clip(x0, *bounds, out=x0)\n",
        "        if callback is not None:\n",
        "            callback(x0)\n",
        "    return OptimizeResult(x=x0, fun=fun(x0, *args), success=True)\n",
        "\n",
        "def _get_g(fun, x0, args, ck, return_hessian):\n",
        "    '''calculate gradient'''\n",
        "    p = len(x0)\n",
        "    delta = (2 * np.random.randint(0, 2, p) - 1) * ck\n",
        "    xpos, xneg = x0 + delta, x0 - delta\n",
        "    fpos, fneg = fun(xpos, *args), fun(xneg, *args)\n",
        "    g = (fpos - fneg) / (2 * delta)\n",
        "    if return_hessian:\n",
        "        delta1 = (2 * np.random.randint(0, 2, p) - 1) * ck\n",
        "        fneg_ = fun(xneg + delta1, *args)\n",
        "        fpos_ = fun(xpos + delta1, *args)\n",
        "        g1n = (fneg_ - fneg) / delta1\n",
        "        g1p = (fpos_ - fpos) / delta1\n",
        "        hessian = (g1p - g1n) / 4. / delta[:, None]\n",
        "        hessian += hessian.T\n",
        "        return g, hessian\n",
        "    return g"
      ],
      "execution_count": 0,
      "outputs": []
    },
    {
      "metadata": {
        "id": "6pxhFD6ftWYp",
        "colab_type": "code",
        "colab": {
          "autoexec": {
            "startup": false,
            "wait_interval": 0
          }
        }
      },
      "cell_type": "code",
      "source": [
        "  def train(bm, theta_list, method, max_iter=1000, popsize=50, step_rate=0.1):\n",
        "    '''train a Born Machine.'''\n",
        "    step = [0]\n",
        "    def callback(x, *args, **kwargs):\n",
        "        step[0] += 1\n",
        "        if step[0]%(max_iter//10) == 1:\n",
        "            print('step = %d, loss = %s'%(step[0], bm.mmd_loss(x)))\n",
        "        \n",
        "    theta_list = np.array(theta_list)\n",
        "    if method == 'SPSA':\n",
        "        res = spsa(bm.mmd_loss, x0=theta_list,\n",
        "                       maxiter=max_iter, callback=callback,\n",
        "                       )\n",
        "        return res.fun, res.x\n",
        "    elif method == 'Adam':\n",
        "        try:\n",
        "            from climin import Adam\n",
        "        except:\n",
        "            !pip install git+https://github.com/BRML/climin.git\n",
        "            from climin import Adam\n",
        "        optimizer = Adam(wrt=theta_list, fprime=bm.gradient,step_rate=step_rate)\n",
        "        for info in optimizer:\n",
        "            callback(theta_list)\n",
        "            if step[0] == max_iter:\n",
        "                break\n",
        "        return bm.mmd_loss(theta_list), theta_list\n",
        "    else:\n",
        "        from scipy.optimize import minimize\n",
        "        res = minimize(bm.mmd_loss, x0=theta_list,\n",
        "                       method=method, jac = bm.gradient, tol=1e-12,\n",
        "                       options={'maxiter': max_iter, 'disp': 0, 'gtol':1e-10, 'ftol':0},\n",
        "                       callback=callback,\n",
        "                       )\n",
        "        return res.fun, res.x"
      ],
      "execution_count": 0,
      "outputs": []
    },
    {
      "metadata": {
        "id": "ACI2FPlxtWYt",
        "colab_type": "code",
        "colab": {
          "autoexec": {
            "startup": false,
            "wait_interval": 0
          },
          "base_uri": "https://localhost:8080/",
          "height": 545
        },
        "outputId": "334c82c7-5a0b-4d08-8568-e25f22396dc0",
        "executionInfo": {
          "status": "ok",
          "timestamp": 1525967707129,
          "user_tz": -480,
          "elapsed": 22131,
          "user": {
            "displayName": "刘金国",
            "photoUrl": "//lh3.googleusercontent.com/-lDAT81T3HSE/AAAAAAAAAAI/AAAAAAAAAgw/eH3JEob7M1Y/s50-c-k-no/photo.jpg",
            "userId": "116824001998056121289"
          }
        }
      },
      "cell_type": "code",
      "source": [
        "depth = 6\n",
        "np.random.seed(2)\n",
        "\n",
        "bm = load_gaussian(6, depth)\n",
        "theta_list = np.random.random(bm.circuit.num_param)*2*np.pi\n",
        "loss, theta_list = train(bm, theta_list, 'L-BFGS-B', max_iter=20)\n",
        "pl = bm.pdf(theta_list)\n",
        "\n",
        "# display\n",
        "plt.plot(bm.p_data)\n",
        "plt.plot(pl)\n",
        "plt.legend(['Data', 'Gradient Born Machine'])\n",
        "plt.show()"
      ],
      "execution_count": 29,
      "outputs": [
        {
          "output_type": "stream",
          "text": [
            "step = 1, loss = 0.016427783967487612\n",
            "step = 3, loss = 0.0064529064903426515\n",
            "step = 5, loss = 0.0026183160665845875\n",
            "step = 7, loss = 0.0013668029390471537\n",
            "step = 9, loss = 0.0007625854677832143\n",
            "step = 11, loss = 0.00048643170185752344\n",
            "step = 13, loss = 0.0003419183351048755\n",
            "step = 15, loss = 0.00023903360335530323\n",
            "step = 17, loss = 0.00016465406462604792\n",
            "step = 19, loss = 0.00011401090998728114\n",
            "step = 21, loss = 7.473382176907667e-05\n"
          ],
          "name": "stdout"
        },
        {
          "output_type": "display_data",
          "data": {
            "image/png": "[encoded data removed]",
            "text/plain": [
              "<matplotlib.figure.Figure at 0x7fe02c0b30f0>"
            ]
          },
          "metadata": {
            "tags": []
          }
        }
      ]
    },
    {
      "metadata": {
        "id": "PSXHEzfitWYw",
        "colab_type": "code",
        "colab": {
          "autoexec": {
            "startup": false,
            "wait_interval": 0
          }
        }
      },
      "cell_type": "code",
      "source": [
        "def load_barstripe(geometry, depth):\n",
        "    '''3 x 3 bar and stripes.'''\n",
        "    num_bit = np.prod(geometry)\n",
        "\n",
        "    # standard circuit\n",
        "    pairs = get_nn_pairs(geometry)\n",
        "    circuit = get_diff_circuit(num_bit, depth, pairs)\n",
        "\n",
        "    # bar and stripe\n",
        "    p_bs = barstripe_pdf(geometry)\n",
        "\n",
        "    # mmd loss\n",
        "    mmd = RBFMMD2(sigma_list=[2.], basis=binary_basis((num_bit,)))\n",
        "\n",
        "    # Born Machine\n",
        "    bm = QCBM(circuit, mmd, p_bs)\n",
        "    return bm"
      ],
      "execution_count": 0,
      "outputs": []
    },
    {
      "metadata": {
        "id": "xOpfEPluOAFl",
        "colab_type": "text"
      },
      "cell_type": "markdown",
      "source": [
        "# Training with Noisy Data\n",
        "\n",
        "Sample size $N=20000$ controls the noises.\n",
        "We compare training using Adam and SPSA"
      ]
    },
    {
      "metadata": {
        "id": "ft9LVR3ttWYy",
        "colab_type": "code",
        "colab": {
          "autoexec": {
            "startup": false,
            "wait_interval": 0
          },
          "base_uri": "https://localhost:8080/",
          "height": 665
        },
        "outputId": "2558db72-3808-471a-90c8-91d11f806128",
        "executionInfo": {
          "status": "ok",
          "timestamp": 1525684385795,
          "user_tz": -480,
          "elapsed": 60943,
          "user": {
            "displayName": "刘金国",
            "photoUrl": "//lh3.googleusercontent.com/-lDAT81T3HSE/AAAAAAAAAAI/AAAAAAAAAgw/eH3JEob7M1Y/s50-c-k-no/photo.jpg",
            "userId": "116824001998056121289"
          }
        }
      },
      "cell_type": "code",
      "source": [
        "np.random.seed(2)\n",
        "depth = 4\n",
        "geometry = (2, 3)\n",
        "\n",
        "bm = load_barstripe(geometry, depth)\n",
        "bm.batch_size = 2000\n",
        "theta_list = np.random.random(bm.circuit.num_param)*2*np.pi\n",
        "loss, theta_list = train(bm, theta_list, 'Adam', max_iter=100, popsize=10)\n",
        "pl = bm.pdf(theta_list)\n",
        "\n",
        "# display\n",
        "plt.plot(bm.p_data)\n",
        "plt.plot(pl)\n",
        "plt.legend(['Data', 'Gradient Born Machine'])\n",
        "plt.show()"
      ],
      "execution_count": 69,
      "outputs": [
        {
          "output_type": "stream",
          "text": [
            "Collecting git+https://github.com/BRML/climin.git\r\n",
            "  Cloning https://github.com/BRML/climin.git to /tmp/pip-req-build-f7nixw9a\n",
            "Building wheels for collected packages: climin\n",
            "  Running setup.py bdist_wheel for climin ... \u001b[?25l-\b \b\\\b \bdone\n",
            "\u001b[?25h  Stored in directory: /tmp/pip-ephem-wheel-cache-74zsd5f4/wheels/de/ad/32/31dd673fcf68b22210ee154d68e90c2f343aac5c48cdb677f9\n",
            "Successfully built climin\n",
            "Installing collected packages: climin\n",
            "Successfully installed climin-pre-0.1\n",
            "step = 1, loss = 0.01882085680084719\n",
            "step = 11, loss = 0.005300433636543207\n",
            "step = 21, loss = 0.0034814224965214174\n",
            "step = 31, loss = 0.0023963261111020497\n",
            "step = 41, loss = 0.001087935479401162\n",
            "step = 51, loss = 0.0009053162251359953\n",
            "step = 61, loss = 0.001948810443234281\n",
            "step = 71, loss = 0.0019092107733327751\n",
            "step = 81, loss = 0.0016138082780207666\n",
            "step = 91, loss = 0.0009623595977197391\n"
          ],
          "name": "stdout"
        },
        {
          "output_type": "display_data",
          "data": {
            "image/png": "[encoded data removed]",
            "text/plain": [
              "<matplotlib.figure.Figure at 0x7ff890499cf8>"
            ]
          },
          "metadata": {
            "tags": []
          }
        }
      ]
    },
    {
      "metadata": {
        "id": "ED-k56UEtWY2",
        "colab_type": "code",
        "colab": {
          "autoexec": {
            "startup": false,
            "wait_interval": 0
          },
          "base_uri": "https://localhost:8080/",
          "height": 239
        },
        "outputId": "8725f30a-854f-4029-cd3a-92a16e87797b",
        "executionInfo": {
          "status": "error",
          "timestamp": 1525702819800,
          "user_tz": -480,
          "elapsed": 1304,
          "user": {
            "displayName": "刘金国",
            "photoUrl": "//lh3.googleusercontent.com/-lDAT81T3HSE/AAAAAAAAAAI/AAAAAAAAAgw/eH3JEob7M1Y/s50-c-k-no/photo.jpg",
            "userId": "116824001998056121289"
          }
        }
      },
      "cell_type": "code",
      "source": [
        "# generate samples\n",
        "pl = bm.pdf(theta_list)\n",
        "indices = np.random.choice(np.arange(len(pl)), np.prod(size), p=pl)\n",
        "samples = binary_basis(geometry)[indices]\n",
        "\n",
        "# show\n",
        "size = (7,5)\n",
        "plot_bs(samples, size)"
      ],
      "execution_count": 16,
      "outputs": [
        {
          "output_type": "error",
          "ename": "NameError",
          "evalue": "ignored",
          "traceback": [
            "\u001b[0;31m---------------------------------------------------------------------------\u001b[0m",
            "\u001b[0;31mNameError\u001b[0m                                 Traceback (most recent call last)",
            "\u001b[0;32m<ipython-input-16-f41d19158236>\u001b[0m in \u001b[0;36m<module>\u001b[0;34m()\u001b[0m\n\u001b[0;32m----> 1\u001b[0;31m \u001b[0mpl\u001b[0m \u001b[0;34m=\u001b[0m \u001b[0mbm\u001b[0m\u001b[0;34m.\u001b[0m\u001b[0mpdf\u001b[0m\u001b[0;34m(\u001b[0m\u001b[0mtheta_list\u001b[0m\u001b[0;34m)\u001b[0m\u001b[0;34m\u001b[0m\u001b[0m\n\u001b[0m\u001b[1;32m      2\u001b[0m \u001b[0mindices\u001b[0m \u001b[0;34m=\u001b[0m \u001b[0mnp\u001b[0m\u001b[0;34m.\u001b[0m\u001b[0mrandom\u001b[0m\u001b[0;34m.\u001b[0m\u001b[0mchoice\u001b[0m\u001b[0;34m(\u001b[0m\u001b[0mnp\u001b[0m\u001b[0;34m.\u001b[0m\u001b[0marange\u001b[0m\u001b[0;34m(\u001b[0m\u001b[0mlen\u001b[0m\u001b[0;34m(\u001b[0m\u001b[0mpl\u001b[0m\u001b[0;34m)\u001b[0m\u001b[0;34m)\u001b[0m\u001b[0;34m,\u001b[0m \u001b[0mnp\u001b[0m\u001b[0;34m.\u001b[0m\u001b[0mprod\u001b[0m\u001b[0;34m(\u001b[0m\u001b[0msize\u001b[0m\u001b[0;34m)\u001b[0m\u001b[0;34m,\u001b[0m \u001b[0mp\u001b[0m\u001b[0;34m=\u001b[0m\u001b[0mpl\u001b[0m\u001b[0;34m)\u001b[0m\u001b[0;34m\u001b[0m\u001b[0m\n\u001b[1;32m      3\u001b[0m \u001b[0msamples\u001b[0m \u001b[0;34m=\u001b[0m \u001b[0mbinary_basis\u001b[0m\u001b[0;34m(\u001b[0m\u001b[0mgeometry\u001b[0m\u001b[0;34m)\u001b[0m\u001b[0;34m[\u001b[0m\u001b[0mindices\u001b[0m\u001b[0;34m]\u001b[0m\u001b[0;34m\u001b[0m\u001b[0m\n\u001b[1;32m      4\u001b[0m \u001b[0;34m\u001b[0m\u001b[0m\n\u001b[1;32m      5\u001b[0m \u001b[0;31m# show\u001b[0m\u001b[0;34m\u001b[0m\u001b[0;34m\u001b[0m\u001b[0m\n",
            "\u001b[0;31mNameError\u001b[0m: name 'bm' is not defined"
          ]
        }
      ]
    },
    {
      "metadata": {
        "id": "XkG3CDmOu7OG",
        "colab_type": "code",
        "colab": {
          "autoexec": {
            "startup": false,
            "wait_interval": 0
          },
          "base_uri": "https://localhost:8080/",
          "height": 1647
        },
        "outputId": "39291567-206d-4849-b0ba-154cd9fc82f3",
        "executionInfo": {
          "status": "error",
          "timestamp": 1523108186430,
          "user_tz": -480,
          "elapsed": 44248,
          "user": {
            "displayName": "刘金国",
            "photoUrl": "//lh3.googleusercontent.com/-lDAT81T3HSE/AAAAAAAAAAI/AAAAAAAAAgw/eH3JEob7M1Y/s50-c-k-no/photo.jpg",
            "userId": "116824001998056121289"
          }
        }
      },
      "cell_type": "code",
      "source": [
        "theta_list = np.random.random(bm.circuit.num_param)*2*np.pi\n",
        "loss, theta_list = train(bm, theta_list, 'SPSA', max_iter=100*bm.circuit.num_param, popsize=10)\n",
        "pl = bm.pdf(theta_list)\n",
        "\n",
        "# display\n",
        "plt.plot(bm.p_data)\n",
        "plt.plot(pl)\n",
        "plt.legend(['Data', 'Gradient Born Machine (SPSA)'])\n",
        "plt.show()"
      ],
      "execution_count": 0,
      "outputs": [
        {
          "output_type": "stream",
          "text": [
            "step = 1, loss = 0.014691208563616486\n",
            "step = 157, loss = 0.014988349456891224\n",
            "step = 313, loss = 0.014243381672254514\n"
          ],
          "name": "stdout"
        },
        {
          "output_type": "error",
          "ename": "KeyboardInterrupt",
          "evalue": "ignored",
          "traceback": [
            "\u001b[0;31m---------------------------------------------------------------------------\u001b[0m",
            "\u001b[0;31mKeyboardInterrupt\u001b[0m                         Traceback (most recent call last)",
            "\u001b[0;32m<ipython-input-46-48bc28b56ef7>\u001b[0m in \u001b[0;36m<module>\u001b[0;34m()\u001b[0m\n\u001b[1;32m      1\u001b[0m \u001b[0mtheta_list\u001b[0m \u001b[0;34m=\u001b[0m \u001b[0mnp\u001b[0m\u001b[0;34m.\u001b[0m\u001b[0mrandom\u001b[0m\u001b[0;34m.\u001b[0m\u001b[0mrandom\u001b[0m\u001b[0;34m(\u001b[0m\u001b[0mbm\u001b[0m\u001b[0;34m.\u001b[0m\u001b[0mcircuit\u001b[0m\u001b[0;34m.\u001b[0m\u001b[0mnum_param\u001b[0m\u001b[0;34m)\u001b[0m\u001b[0;34m*\u001b[0m\u001b[0;36m2\u001b[0m\u001b[0;34m*\u001b[0m\u001b[0mnp\u001b[0m\u001b[0;34m.\u001b[0m\u001b[0mpi\u001b[0m\u001b[0;34m\u001b[0m\u001b[0m\n\u001b[0;32m----> 2\u001b[0;31m \u001b[0mloss\u001b[0m\u001b[0;34m,\u001b[0m \u001b[0mtheta_list\u001b[0m \u001b[0;34m=\u001b[0m \u001b[0mtrain\u001b[0m\u001b[0;34m(\u001b[0m\u001b[0mbm\u001b[0m\u001b[0;34m,\u001b[0m \u001b[0mtheta_list\u001b[0m\u001b[0;34m,\u001b[0m \u001b[0;34m'SPSA'\u001b[0m\u001b[0;34m,\u001b[0m \u001b[0mmax_iter\u001b[0m\u001b[0;34m=\u001b[0m\u001b[0;36m100\u001b[0m\u001b[0;34m*\u001b[0m\u001b[0mbm\u001b[0m\u001b[0;34m.\u001b[0m\u001b[0mcircuit\u001b[0m\u001b[0;34m.\u001b[0m\u001b[0mnum_param\u001b[0m\u001b[0;34m,\u001b[0m \u001b[0mpopsize\u001b[0m\u001b[0;34m=\u001b[0m\u001b[0;36m10\u001b[0m\u001b[0;34m)\u001b[0m\u001b[0;34m\u001b[0m\u001b[0m\n\u001b[0m\u001b[1;32m      3\u001b[0m \u001b[0mpl\u001b[0m \u001b[0;34m=\u001b[0m \u001b[0mbm\u001b[0m\u001b[0;34m.\u001b[0m\u001b[0mpdf\u001b[0m\u001b[0;34m(\u001b[0m\u001b[0mtheta_list\u001b[0m\u001b[0;34m)\u001b[0m\u001b[0;34m\u001b[0m\u001b[0m\n\u001b[1;32m      4\u001b[0m \u001b[0;34m\u001b[0m\u001b[0m\n\u001b[1;32m      5\u001b[0m \u001b[0;31m# display\u001b[0m\u001b[0;34m\u001b[0m\u001b[0;34m\u001b[0m\u001b[0m\n",
            "\u001b[0;32m<ipython-input-43-330a549e8b08>\u001b[0m in \u001b[0;36mtrain\u001b[0;34m(bm, theta_list, method, max_iter, popsize, step_rate)\u001b[0m\n\u001b[1;32m     10\u001b[0m   \u001b[0;32mif\u001b[0m \u001b[0mmethod\u001b[0m \u001b[0;34m==\u001b[0m \u001b[0;34m'SPSA'\u001b[0m\u001b[0;34m:\u001b[0m\u001b[0;34m\u001b[0m\u001b[0m\n\u001b[1;32m     11\u001b[0m       res = spsa(bm.mmd_loss, x0=theta_list,\n\u001b[0;32m---> 12\u001b[0;31m                      \u001b[0mmaxiter\u001b[0m\u001b[0;34m=\u001b[0m\u001b[0mmax_iter\u001b[0m\u001b[0;34m,\u001b[0m \u001b[0mcallback\u001b[0m\u001b[0;34m=\u001b[0m\u001b[0mcallback\u001b[0m\u001b[0;34m,\u001b[0m\u001b[0;34m\u001b[0m\u001b[0m\n\u001b[0m\u001b[1;32m     13\u001b[0m                      )\n\u001b[1;32m     14\u001b[0m       \u001b[0;32mreturn\u001b[0m \u001b[0mres\u001b[0m\u001b[0;34m.\u001b[0m\u001b[0mfun\u001b[0m\u001b[0;34m,\u001b[0m \u001b[0mres\u001b[0m\u001b[0;34m.\u001b[0m\u001b[0mx\u001b[0m\u001b[0;34m\u001b[0m\u001b[0m\n",
            "\u001b[0;32m<ipython-input-32-10a049132667>\u001b[0m in \u001b[0;36mspsa\u001b[0;34m(fun, x0, args, bounds, ac, alpha, A, gamma, maxiter, callback)\u001b[0m\n\u001b[1;32m     36\u001b[0m         \u001b[0mak\u001b[0m \u001b[0;34m=\u001b[0m \u001b[0ma\u001b[0m \u001b[0;34m/\u001b[0m \u001b[0;34m(\u001b[0m\u001b[0mk\u001b[0m \u001b[0;34m+\u001b[0m \u001b[0;36m1\u001b[0m \u001b[0;34m+\u001b[0m \u001b[0mA\u001b[0m\u001b[0;34m)\u001b[0m\u001b[0;34m**\u001b[0m\u001b[0malpha\u001b[0m\u001b[0;34m\u001b[0m\u001b[0m\n\u001b[1;32m     37\u001b[0m         \u001b[0mck\u001b[0m \u001b[0;34m=\u001b[0m \u001b[0mc\u001b[0m \u001b[0;34m/\u001b[0m \u001b[0;34m(\u001b[0m\u001b[0mk\u001b[0m \u001b[0;34m+\u001b[0m \u001b[0;36m1\u001b[0m\u001b[0;34m)\u001b[0m\u001b[0;34m**\u001b[0m\u001b[0mgamma\u001b[0m\u001b[0;34m\u001b[0m\u001b[0m\n\u001b[0;32m---> 38\u001b[0;31m         \u001b[0mg\u001b[0m \u001b[0;34m=\u001b[0m \u001b[0m_get_g\u001b[0m\u001b[0;34m(\u001b[0m\u001b[0mfun\u001b[0m\u001b[0;34m,\u001b[0m \u001b[0mx0\u001b[0m\u001b[0;34m,\u001b[0m \u001b[0margs\u001b[0m\u001b[0;34m,\u001b[0m \u001b[0mck\u001b[0m\u001b[0;34m,\u001b[0m \u001b[0mreturn_hessian\u001b[0m\u001b[0;34m=\u001b[0m\u001b[0;32mFalse\u001b[0m\u001b[0;34m)\u001b[0m\u001b[0;34m\u001b[0m\u001b[0m\n\u001b[0m\u001b[1;32m     39\u001b[0m         \u001b[0mx0\u001b[0m \u001b[0;34m-=\u001b[0m \u001b[0mak\u001b[0m \u001b[0;34m*\u001b[0m \u001b[0mg\u001b[0m\u001b[0;34m\u001b[0m\u001b[0m\n\u001b[1;32m     40\u001b[0m         \u001b[0;32mif\u001b[0m \u001b[0mbounds\u001b[0m \u001b[0;32mis\u001b[0m \u001b[0;32mnot\u001b[0m \u001b[0;32mNone\u001b[0m\u001b[0;34m:\u001b[0m\u001b[0;34m\u001b[0m\u001b[0m\n",
            "\u001b[0;32m<ipython-input-32-10a049132667>\u001b[0m in \u001b[0;36m_get_g\u001b[0;34m(fun, x0, args, ck, return_hessian)\u001b[0m\n\u001b[1;32m     49\u001b[0m     \u001b[0mdelta\u001b[0m \u001b[0;34m=\u001b[0m \u001b[0;34m(\u001b[0m\u001b[0;36m2\u001b[0m \u001b[0;34m*\u001b[0m \u001b[0mnp\u001b[0m\u001b[0;34m.\u001b[0m\u001b[0mrandom\u001b[0m\u001b[0;34m.\u001b[0m\u001b[0mrandint\u001b[0m\u001b[0;34m(\u001b[0m\u001b[0;36m0\u001b[0m\u001b[0;34m,\u001b[0m \u001b[0;36m2\u001b[0m\u001b[0;34m,\u001b[0m \u001b[0mp\u001b[0m\u001b[0;34m)\u001b[0m \u001b[0;34m-\u001b[0m \u001b[0;36m1\u001b[0m\u001b[0;34m)\u001b[0m \u001b[0;34m*\u001b[0m \u001b[0mck\u001b[0m\u001b[0;34m\u001b[0m\u001b[0m\n\u001b[1;32m     50\u001b[0m     \u001b[0mxpos\u001b[0m\u001b[0;34m,\u001b[0m \u001b[0mxneg\u001b[0m \u001b[0;34m=\u001b[0m \u001b[0mx0\u001b[0m \u001b[0;34m+\u001b[0m \u001b[0mdelta\u001b[0m\u001b[0;34m,\u001b[0m \u001b[0mx0\u001b[0m \u001b[0;34m-\u001b[0m \u001b[0mdelta\u001b[0m\u001b[0;34m\u001b[0m\u001b[0m\n\u001b[0;32m---> 51\u001b[0;31m     \u001b[0mfpos\u001b[0m\u001b[0;34m,\u001b[0m \u001b[0mfneg\u001b[0m \u001b[0;34m=\u001b[0m \u001b[0mfun\u001b[0m\u001b[0;34m(\u001b[0m\u001b[0mxpos\u001b[0m\u001b[0;34m,\u001b[0m \u001b[0;34m*\u001b[0m\u001b[0margs\u001b[0m\u001b[0;34m)\u001b[0m\u001b[0;34m,\u001b[0m \u001b[0mfun\u001b[0m\u001b[0;34m(\u001b[0m\u001b[0mxneg\u001b[0m\u001b[0;34m,\u001b[0m \u001b[0;34m*\u001b[0m\u001b[0margs\u001b[0m\u001b[0;34m)\u001b[0m\u001b[0;34m\u001b[0m\u001b[0m\n\u001b[0m\u001b[1;32m     52\u001b[0m     \u001b[0mg\u001b[0m \u001b[0;34m=\u001b[0m \u001b[0;34m(\u001b[0m\u001b[0mfpos\u001b[0m \u001b[0;34m-\u001b[0m \u001b[0mfneg\u001b[0m\u001b[0;34m)\u001b[0m \u001b[0;34m/\u001b[0m \u001b[0;34m(\u001b[0m\u001b[0;36m2\u001b[0m \u001b[0;34m*\u001b[0m \u001b[0mdelta\u001b[0m\u001b[0;34m)\u001b[0m\u001b[0;34m\u001b[0m\u001b[0m\n\u001b[1;32m     53\u001b[0m     \u001b[0;32mif\u001b[0m \u001b[0mreturn_hessian\u001b[0m\u001b[0;34m:\u001b[0m\u001b[0;34m\u001b[0m\u001b[0m\n",
            "\u001b[0;32m<ipython-input-21-19f88d93ca95>\u001b[0m in \u001b[0;36mmmd_loss\u001b[0;34m(self, theta_list)\u001b[0m\n\u001b[1;32m     31\u001b[0m         \u001b[0;34m'''get the loss'''\u001b[0m\u001b[0;34m\u001b[0m\u001b[0m\n\u001b[1;32m     32\u001b[0m         \u001b[0;31m# get and cahe probability distritbution of Born Machine\u001b[0m\u001b[0;34m\u001b[0m\u001b[0;34m\u001b[0m\u001b[0m\n\u001b[0;32m---> 33\u001b[0;31m         \u001b[0mself\u001b[0m\u001b[0;34m.\u001b[0m\u001b[0m_prob\u001b[0m \u001b[0;34m=\u001b[0m \u001b[0mself\u001b[0m\u001b[0;34m.\u001b[0m\u001b[0mpdf\u001b[0m\u001b[0;34m(\u001b[0m\u001b[0mtheta_list\u001b[0m\u001b[0;34m)\u001b[0m\u001b[0;34m\u001b[0m\u001b[0m\n\u001b[0m\u001b[1;32m     34\u001b[0m         \u001b[0;31m# use wave function to get mmd loss\u001b[0m\u001b[0;34m\u001b[0m\u001b[0;34m\u001b[0m\u001b[0m\n\u001b[1;32m     35\u001b[0m         \u001b[0;32mreturn\u001b[0m \u001b[0mself\u001b[0m\u001b[0;34m.\u001b[0m\u001b[0mmmd\u001b[0m\u001b[0;34m(\u001b[0m\u001b[0mself\u001b[0m\u001b[0;34m.\u001b[0m\u001b[0m_prob\u001b[0m\u001b[0;34m,\u001b[0m \u001b[0mself\u001b[0m\u001b[0;34m.\u001b[0m\u001b[0mp_data\u001b[0m\u001b[0;34m)\u001b[0m\u001b[0;34m\u001b[0m\u001b[0m\n",
            "\u001b[0;32m<ipython-input-21-19f88d93ca95>\u001b[0m in \u001b[0;36mpdf\u001b[0;34m(self, theta_list)\u001b[0m\n\u001b[1;32m     20\u001b[0m         \u001b[0;34m'''get probability distribution function'''\u001b[0m\u001b[0;34m\u001b[0m\u001b[0m\n\u001b[1;32m     21\u001b[0m         \u001b[0mwf\u001b[0m \u001b[0;34m=\u001b[0m \u001b[0minitial_wf\u001b[0m\u001b[0;34m(\u001b[0m\u001b[0mself\u001b[0m\u001b[0;34m.\u001b[0m\u001b[0mcircuit\u001b[0m\u001b[0;34m.\u001b[0m\u001b[0mnum_bit\u001b[0m\u001b[0;34m)\u001b[0m\u001b[0;34m\u001b[0m\u001b[0m\n\u001b[0;32m---> 22\u001b[0;31m         \u001b[0mself\u001b[0m\u001b[0;34m.\u001b[0m\u001b[0mcircuit\u001b[0m\u001b[0;34m(\u001b[0m\u001b[0mwf\u001b[0m\u001b[0;34m,\u001b[0m \u001b[0mtheta_list\u001b[0m\u001b[0;34m)\u001b[0m\u001b[0;34m\u001b[0m\u001b[0m\n\u001b[0m\u001b[1;32m     23\u001b[0m         \u001b[0mpl\u001b[0m \u001b[0;34m=\u001b[0m \u001b[0mnp\u001b[0m\u001b[0;34m.\u001b[0m\u001b[0mabs\u001b[0m\u001b[0;34m(\u001b[0m\u001b[0mwf\u001b[0m\u001b[0;34m)\u001b[0m\u001b[0;34m**\u001b[0m\u001b[0;36m2\u001b[0m\u001b[0;34m\u001b[0m\u001b[0m\n\u001b[1;32m     24\u001b[0m         \u001b[0;31m# introducing sampling error\u001b[0m\u001b[0;34m\u001b[0m\u001b[0;34m\u001b[0m\u001b[0m\n",
            "\u001b[0;32m<ipython-input-17-2dad7b19adbd>\u001b[0m in \u001b[0;36m__call__\u001b[0;34m(self, qureg, theta_list)\u001b[0m\n\u001b[1;32m     33\u001b[0m                 \u001b[0;32melse\u001b[0m\u001b[0;34m:\u001b[0m\u001b[0;34m\u001b[0m\u001b[0m\n\u001b[1;32m     34\u001b[0m                     \u001b[0;31m# regenerate one\u001b[0m\u001b[0;34m\u001b[0m\u001b[0;34m\u001b[0m\u001b[0m\n\u001b[0;32m---> 35\u001b[0;31m                     \u001b[0mmat\u001b[0m \u001b[0;34m=\u001b[0m \u001b[0mblock\u001b[0m\u001b[0;34m.\u001b[0m\u001b[0mtocsr\u001b[0m\u001b[0;34m(\u001b[0m\u001b[0mtheta_i\u001b[0m\u001b[0;34m)\u001b[0m\u001b[0;34m\u001b[0m\u001b[0m\n\u001b[0m\u001b[1;32m     36\u001b[0m             \u001b[0;32mfor\u001b[0m \u001b[0mmat_i\u001b[0m \u001b[0;32min\u001b[0m \u001b[0mmat\u001b[0m\u001b[0;34m:\u001b[0m\u001b[0;34m\u001b[0m\u001b[0m\n\u001b[1;32m     37\u001b[0m                 \u001b[0mqureg_\u001b[0m \u001b[0;34m=\u001b[0m \u001b[0mmat_i\u001b[0m\u001b[0;34m.\u001b[0m\u001b[0mdot\u001b[0m\u001b[0;34m(\u001b[0m\u001b[0mqureg_\u001b[0m\u001b[0;34m)\u001b[0m\u001b[0;34m\u001b[0m\u001b[0m\n",
            "\u001b[0;32m<ipython-input-16-54095bf9c75f>\u001b[0m in \u001b[0;36mtocsr\u001b[0;34m(self, theta_list)\u001b[0m\n\u001b[1;32m     15\u001b[0m         \u001b[0mtheta_list_\u001b[0m \u001b[0;34m=\u001b[0m \u001b[0mnp\u001b[0m\u001b[0;34m.\u001b[0m\u001b[0mzeros\u001b[0m\u001b[0;34m(\u001b[0m\u001b[0;36m3\u001b[0m\u001b[0;34m*\u001b[0m\u001b[0mself\u001b[0m\u001b[0;34m.\u001b[0m\u001b[0mnum_bit\u001b[0m\u001b[0;34m)\u001b[0m\u001b[0;34m\u001b[0m\u001b[0m\n\u001b[1;32m     16\u001b[0m         \u001b[0mtheta_list_\u001b[0m\u001b[0;34m[\u001b[0m\u001b[0mself\u001b[0m\u001b[0;34m.\u001b[0m\u001b[0mmask\u001b[0m\u001b[0;34m]\u001b[0m \u001b[0;34m=\u001b[0m \u001b[0mtheta_list\u001b[0m\u001b[0;34m\u001b[0m\u001b[0m\n\u001b[0;32m---> 17\u001b[0;31m         \u001b[0mrots\u001b[0m \u001b[0;34m=\u001b[0m \u001b[0;34m[\u001b[0m\u001b[0mrot\u001b[0m\u001b[0;34m(\u001b[0m\u001b[0;34m*\u001b[0m\u001b[0mths\u001b[0m\u001b[0;34m)\u001b[0m \u001b[0;32mfor\u001b[0m \u001b[0mths\u001b[0m \u001b[0;32min\u001b[0m \u001b[0mtheta_list_\u001b[0m\u001b[0;34m.\u001b[0m\u001b[0mreshape\u001b[0m\u001b[0;34m(\u001b[0m\u001b[0;34m[\u001b[0m\u001b[0mself\u001b[0m\u001b[0;34m.\u001b[0m\u001b[0mnum_bit\u001b[0m\u001b[0;34m,\u001b[0m\u001b[0;36m3\u001b[0m\u001b[0;34m]\u001b[0m\u001b[0;34m)\u001b[0m\u001b[0;34m]\u001b[0m\u001b[0;34m\u001b[0m\u001b[0m\n\u001b[0m\u001b[1;32m     18\u001b[0m         \u001b[0mres\u001b[0m \u001b[0;34m=\u001b[0m \u001b[0;34m[\u001b[0m\u001b[0m_\u001b[0m\u001b[0;34m(\u001b[0m\u001b[0;34m[\u001b[0m\u001b[0mr\u001b[0m\u001b[0;34m]\u001b[0m\u001b[0;34m,\u001b[0m \u001b[0;34m[\u001b[0m\u001b[0mi\u001b[0m\u001b[0;34m]\u001b[0m\u001b[0;34m,\u001b[0m \u001b[0mself\u001b[0m\u001b[0;34m.\u001b[0m\u001b[0mnum_bit\u001b[0m\u001b[0;34m)\u001b[0m \u001b[0;32mfor\u001b[0m \u001b[0mi\u001b[0m\u001b[0;34m,\u001b[0m\u001b[0mr\u001b[0m \u001b[0;32min\u001b[0m \u001b[0menumerate\u001b[0m\u001b[0;34m(\u001b[0m\u001b[0mrots\u001b[0m\u001b[0;34m)\u001b[0m\u001b[0;34m]\u001b[0m\u001b[0;34m\u001b[0m\u001b[0m\n\u001b[1;32m     19\u001b[0m         \u001b[0;32mreturn\u001b[0m \u001b[0mres\u001b[0m\u001b[0;34m\u001b[0m\u001b[0m\n",
            "\u001b[0;32m<ipython-input-16-54095bf9c75f>\u001b[0m in \u001b[0;36m<listcomp>\u001b[0;34m(.0)\u001b[0m\n\u001b[1;32m     15\u001b[0m         \u001b[0mtheta_list_\u001b[0m \u001b[0;34m=\u001b[0m \u001b[0mnp\u001b[0m\u001b[0;34m.\u001b[0m\u001b[0mzeros\u001b[0m\u001b[0;34m(\u001b[0m\u001b[0;36m3\u001b[0m\u001b[0;34m*\u001b[0m\u001b[0mself\u001b[0m\u001b[0;34m.\u001b[0m\u001b[0mnum_bit\u001b[0m\u001b[0;34m)\u001b[0m\u001b[0;34m\u001b[0m\u001b[0m\n\u001b[1;32m     16\u001b[0m         \u001b[0mtheta_list_\u001b[0m\u001b[0;34m[\u001b[0m\u001b[0mself\u001b[0m\u001b[0;34m.\u001b[0m\u001b[0mmask\u001b[0m\u001b[0;34m]\u001b[0m \u001b[0;34m=\u001b[0m \u001b[0mtheta_list\u001b[0m\u001b[0;34m\u001b[0m\u001b[0m\n\u001b[0;32m---> 17\u001b[0;31m         \u001b[0mrots\u001b[0m \u001b[0;34m=\u001b[0m \u001b[0;34m[\u001b[0m\u001b[0mrot\u001b[0m\u001b[0;34m(\u001b[0m\u001b[0;34m*\u001b[0m\u001b[0mths\u001b[0m\u001b[0;34m)\u001b[0m \u001b[0;32mfor\u001b[0m \u001b[0mths\u001b[0m \u001b[0;32min\u001b[0m \u001b[0mtheta_list_\u001b[0m\u001b[0;34m.\u001b[0m\u001b[0mreshape\u001b[0m\u001b[0;34m(\u001b[0m\u001b[0;34m[\u001b[0m\u001b[0mself\u001b[0m\u001b[0;34m.\u001b[0m\u001b[0mnum_bit\u001b[0m\u001b[0;34m,\u001b[0m\u001b[0;36m3\u001b[0m\u001b[0;34m]\u001b[0m\u001b[0;34m)\u001b[0m\u001b[0;34m]\u001b[0m\u001b[0;34m\u001b[0m\u001b[0m\n\u001b[0m\u001b[1;32m     18\u001b[0m         \u001b[0mres\u001b[0m \u001b[0;34m=\u001b[0m \u001b[0;34m[\u001b[0m\u001b[0m_\u001b[0m\u001b[0;34m(\u001b[0m\u001b[0;34m[\u001b[0m\u001b[0mr\u001b[0m\u001b[0;34m]\u001b[0m\u001b[0;34m,\u001b[0m \u001b[0;34m[\u001b[0m\u001b[0mi\u001b[0m\u001b[0;34m]\u001b[0m\u001b[0;34m,\u001b[0m \u001b[0mself\u001b[0m\u001b[0;34m.\u001b[0m\u001b[0mnum_bit\u001b[0m\u001b[0;34m)\u001b[0m \u001b[0;32mfor\u001b[0m \u001b[0mi\u001b[0m\u001b[0;34m,\u001b[0m\u001b[0mr\u001b[0m \u001b[0;32min\u001b[0m \u001b[0menumerate\u001b[0m\u001b[0;34m(\u001b[0m\u001b[0mrots\u001b[0m\u001b[0;34m)\u001b[0m\u001b[0;34m]\u001b[0m\u001b[0;34m\u001b[0m\u001b[0m\n\u001b[1;32m     19\u001b[0m         \u001b[0;32mreturn\u001b[0m \u001b[0mres\u001b[0m\u001b[0;34m\u001b[0m\u001b[0m\n",
            "\u001b[0;32m<ipython-input-15-cd9f7dfccd30>\u001b[0m in \u001b[0;36mrot\u001b[0;34m(t1, t2, t3)\u001b[0m\n\u001b[1;32m     34\u001b[0m         \u001b[0;36m2\u001b[0m\u001b[0mx2\u001b[0m \u001b[0mcsr_matrix\u001b[0m\u001b[0;34m:\u001b[0m \u001b[0mrotation\u001b[0m \u001b[0mmatrix\u001b[0m\u001b[0;34m.\u001b[0m\u001b[0;34m\u001b[0m\u001b[0m\n\u001b[1;32m     35\u001b[0m     '''\n\u001b[0;32m---> 36\u001b[0;31m     \u001b[0;32mreturn\u001b[0m \u001b[0mrz\u001b[0m\u001b[0;34m(\u001b[0m\u001b[0mt3\u001b[0m\u001b[0;34m)\u001b[0m\u001b[0;34m.\u001b[0m\u001b[0mdot\u001b[0m\u001b[0;34m(\u001b[0m\u001b[0mrx\u001b[0m\u001b[0;34m(\u001b[0m\u001b[0mt2\u001b[0m\u001b[0;34m)\u001b[0m\u001b[0;34m)\u001b[0m\u001b[0;34m.\u001b[0m\u001b[0mdot\u001b[0m\u001b[0;34m(\u001b[0m\u001b[0mrz\u001b[0m\u001b[0;34m(\u001b[0m\u001b[0mt1\u001b[0m\u001b[0;34m)\u001b[0m\u001b[0;34m)\u001b[0m\u001b[0;34m\u001b[0m\u001b[0m\n\u001b[0m\u001b[1;32m     37\u001b[0m \u001b[0;34m\u001b[0m\u001b[0m\n\u001b[1;32m     38\u001b[0m \u001b[0;31m# multiple bit construction\u001b[0m\u001b[0;34m\u001b[0m\u001b[0;34m\u001b[0m\u001b[0m\n",
            "\u001b[0;32m<ipython-input-15-cd9f7dfccd30>\u001b[0m in \u001b[0;36mrx\u001b[0;34m(theta)\u001b[0m\n\u001b[1;32m     16\u001b[0m \u001b[0;34m\u001b[0m\u001b[0m\n\u001b[1;32m     17\u001b[0m \u001b[0;32mdef\u001b[0m \u001b[0mrx\u001b[0m\u001b[0;34m(\u001b[0m\u001b[0mtheta\u001b[0m\u001b[0;34m)\u001b[0m\u001b[0;34m:\u001b[0m\u001b[0;34m\u001b[0m\u001b[0m\n\u001b[0;32m---> 18\u001b[0;31m     \u001b[0;32mreturn\u001b[0m \u001b[0m_ri\u001b[0m\u001b[0;34m(\u001b[0m\u001b[0msx\u001b[0m\u001b[0;34m,\u001b[0m \u001b[0mtheta\u001b[0m\u001b[0;34m)\u001b[0m\u001b[0;34m\u001b[0m\u001b[0m\n\u001b[0m\u001b[1;32m     19\u001b[0m \u001b[0;34m\u001b[0m\u001b[0m\n\u001b[1;32m     20\u001b[0m \u001b[0;32mdef\u001b[0m \u001b[0mry\u001b[0m\u001b[0;34m(\u001b[0m\u001b[0mtheta\u001b[0m\u001b[0;34m)\u001b[0m\u001b[0;34m:\u001b[0m\u001b[0;34m\u001b[0m\u001b[0m\n",
            "\u001b[0;32m<ipython-input-15-cd9f7dfccd30>\u001b[0m in \u001b[0;36m_ri\u001b[0;34m(si, theta)\u001b[0m\n\u001b[1;32m     13\u001b[0m \u001b[0;34m\u001b[0m\u001b[0m\n\u001b[1;32m     14\u001b[0m \u001b[0;32mdef\u001b[0m \u001b[0m_ri\u001b[0m\u001b[0;34m(\u001b[0m\u001b[0msi\u001b[0m\u001b[0;34m,\u001b[0m \u001b[0mtheta\u001b[0m\u001b[0;34m)\u001b[0m\u001b[0;34m:\u001b[0m\u001b[0;34m\u001b[0m\u001b[0m\n\u001b[0;32m---> 15\u001b[0;31m     \u001b[0;32mreturn\u001b[0m \u001b[0mnp\u001b[0m\u001b[0;34m.\u001b[0m\u001b[0mcos\u001b[0m\u001b[0;34m(\u001b[0m\u001b[0mtheta\u001b[0m\u001b[0;34m/\u001b[0m\u001b[0;36m2.\u001b[0m\u001b[0;34m)\u001b[0m\u001b[0;34m*\u001b[0m\u001b[0mI2\u001b[0m \u001b[0;34m-\u001b[0m \u001b[0;36m1j\u001b[0m\u001b[0;34m*\u001b[0m\u001b[0mnp\u001b[0m\u001b[0;34m.\u001b[0m\u001b[0msin\u001b[0m\u001b[0;34m(\u001b[0m\u001b[0mtheta\u001b[0m\u001b[0;34m/\u001b[0m\u001b[0;36m2.\u001b[0m\u001b[0;34m)\u001b[0m\u001b[0;34m*\u001b[0m\u001b[0msi\u001b[0m\u001b[0;34m\u001b[0m\u001b[0m\n\u001b[0m\u001b[1;32m     16\u001b[0m \u001b[0;34m\u001b[0m\u001b[0m\n\u001b[1;32m     17\u001b[0m \u001b[0;32mdef\u001b[0m \u001b[0mrx\u001b[0m\u001b[0;34m(\u001b[0m\u001b[0mtheta\u001b[0m\u001b[0;34m)\u001b[0m\u001b[0;34m:\u001b[0m\u001b[0;34m\u001b[0m\u001b[0m\n",
            "\u001b[0;31mKeyboardInterrupt\u001b[0m: "
          ]
        }
      ]
    },
    {
      "metadata": {
        "id": "l70dw-e4TBWa",
        "colab_type": "text"
      },
      "cell_type": "markdown",
      "source": [
        "# SPSA not Working?\n",
        "\n",
        "Lets optimize a problem with 24 parameters"
      ]
    },
    {
      "metadata": {
        "id": "oeuI8ZXkSJDg",
        "colab_type": "code",
        "colab": {
          "autoexec": {
            "startup": false,
            "wait_interval": 0
          },
          "base_uri": "https://localhost:8080/",
          "height": 897
        },
        "outputId": "6f4b8152-cadc-4633-c454-ad02dcb87815",
        "executionInfo": {
          "status": "ok",
          "timestamp": 1523108297893,
          "user_tz": -480,
          "elapsed": 1359,
          "user": {
            "displayName": "刘金国",
            "photoUrl": "//lh3.googleusercontent.com/-lDAT81T3HSE/AAAAAAAAAAI/AAAAAAAAAgw/eH3JEob7M1Y/s50-c-k-no/photo.jpg",
            "userId": "116824001998056121289"
          }
        }
      },
      "cell_type": "code",
      "source": [
        "test_func = lambda x: np.cos(x).sum()\n",
        "max_iter = 2000\n",
        "\n",
        "step = [0]\n",
        "def callback(x, *args, **kwargs):\n",
        "    step[0] += 1\n",
        "    if step[0]%(max_iter//50) == 1:\n",
        "        print('step = %d, loss = %s'%(step[0], test_func(x)))\n",
        "        \n",
        "res = spsa(test_func, x0=np.random.random(24),\n",
        "               maxiter=max_iter, callback=callback,\n",
        "               )"
      ],
      "execution_count": 0,
      "outputs": [
        {
          "output_type": "stream",
          "text": [
            "step = 1, loss = 20.796581751465737\n",
            "step = 41, loss = 17.67989562802431\n",
            "step = 81, loss = 14.08103567206227\n",
            "step = 121, loss = 8.745535205647682\n",
            "step = 161, loss = 4.02103044679887\n",
            "step = 201, loss = -0.07336469454172878\n",
            "step = 241, loss = -2.797866790716694\n",
            "step = 281, loss = -5.78570627582404\n",
            "step = 321, loss = -8.718937120989885\n",
            "step = 361, loss = -11.091224065672787\n",
            "step = 401, loss = -13.055019525299844\n",
            "step = 441, loss = -14.502209466639925\n",
            "step = 481, loss = -16.099918437533287\n",
            "step = 521, loss = -17.25192374217347\n",
            "step = 561, loss = -18.078309988841006\n",
            "step = 601, loss = -18.986836301802008\n",
            "step = 641, loss = -19.573928884899914\n",
            "step = 681, loss = -20.243853615671508\n",
            "step = 721, loss = -21.268868044065307\n",
            "step = 761, loss = -21.74049667232036\n",
            "step = 801, loss = -22.37825658815569\n",
            "step = 841, loss = -22.60812656731494\n",
            "step = 881, loss = -22.882512300222977\n",
            "step = 921, loss = -23.094404364598198\n",
            "step = 961, loss = -23.30299976104161\n",
            "step = 1001, loss = -23.454831268909643\n",
            "step = 1041, loss = -23.553484173799554\n",
            "step = 1081, loss = -23.62627573507488\n",
            "step = 1121, loss = -23.661460288637393\n",
            "step = 1161, loss = -23.74388550471457\n",
            "step = 1201, loss = -23.78603435687063\n",
            "step = 1241, loss = -23.815359056210152\n",
            "step = 1281, loss = -23.841780252815113\n",
            "step = 1321, loss = -23.86293791434619\n",
            "step = 1361, loss = -23.8795268652448\n",
            "step = 1401, loss = -23.900278455052\n",
            "step = 1441, loss = -23.914259581091514\n",
            "step = 1481, loss = -23.92589747248898\n",
            "step = 1521, loss = -23.93845703198031\n",
            "step = 1561, loss = -23.950247653366162\n",
            "step = 1601, loss = -23.958551052042164\n",
            "step = 1641, loss = -23.965449023306057\n",
            "step = 1681, loss = -23.970440896625725\n",
            "step = 1721, loss = -23.974319086828523\n",
            "step = 1761, loss = -23.978254013848492\n",
            "step = 1801, loss = -23.981154360769914\n",
            "step = 1841, loss = -23.983476436793808\n",
            "step = 1881, loss = -23.98612699154696\n",
            "step = 1921, loss = -23.98821088452821\n",
            "step = 1961, loss = -23.989658502179193\n"
          ],
          "name": "stdout"
        }
      ]
    },
    {
      "metadata": {
        "id": "qaVlyKdtVNo3",
        "colab_type": "text"
      },
      "cell_type": "markdown",
      "source": [
        "SPSA is ok, but not for noisy quantum circuits."
      ]
    },
    {
      "metadata": {
        "id": "hxTE9Jtg__BL",
        "colab_type": "text"
      },
      "cell_type": "markdown",
      "source": [
        "# Inference using Amplitude Amplification"
      ]
    },
    {
      "metadata": {
        "id": "Z4mFl-Gi_9Xz",
        "colab_type": "code",
        "colab": {
          "autoexec": {
            "startup": false,
            "wait_interval": 0
          }
        }
      },
      "cell_type": "code",
      "source": [
        ""
      ],
      "execution_count": 0,
      "outputs": []
    },
    {
      "metadata": {
        "id": "BxvxvKAV4TT7",
        "colab_type": "text"
      },
      "cell_type": "markdown",
      "source": [
        "# Gradient Vanishing?\n",
        "\n",
        "* Using random circuit\n",
        "* the derivative with respect to the parameters $\\theta$ is Lipschitz continuous with some parameter $\\eta$ that depends on the operator $H$.\n",
        "\n",
        "$$\\langle \\partial_k E\\rangle =\\int dU p(U)\\partial _k\\langle0|U(\\theta)^\\dagger HU(\\theta)|0\\rangle$$\n",
        "\n",
        "Mcclean, J. R., Boixo, S., Smelyanskiy, V. N., Babbush, R., & Neven, H. (2018). Barren plateaus in quantum neural network training landscapes. arXiv:1803.11173, 1–7. Retrieved from https://arxiv.org/pdf/1803.11173.pdf"
      ]
    },
    {
      "metadata": {
        "id": "6O8VvHDvTe12",
        "colab_type": "code",
        "colab": {
          "autoexec": {
            "startup": false,
            "wait_interval": 0
          },
          "base_uri": "https://localhost:8080/",
          "height": 125
        },
        "outputId": "89a4aeb4-9b3a-47b6-b734-5cbaee7dc40c",
        "executionInfo": {
          "status": "ok",
          "timestamp": 1525848169036,
          "user_tz": -480,
          "elapsed": 24485,
          "user": {
            "displayName": "刘金国",
            "photoUrl": "//lh3.googleusercontent.com/-lDAT81T3HSE/AAAAAAAAAAI/AAAAAAAAAgw/eH3JEob7M1Y/s50-c-k-no/photo.jpg",
            "userId": "116824001998056121289"
          }
        }
      },
      "cell_type": "code",
      "source": [
        "depth = 6\n",
        "np.random.seed(2)\n",
        "\n",
        "num_bit_list = np.arange(2, 14, 2)\n",
        "grad_absmean_list = []\n",
        "for num_bit in num_bit_list:\n",
        "    print('number of bit = %d'%num_bit)\n",
        "    bm = load_gaussian(num_bit, depth)\n",
        "    grad = bm.gradient(np.random.random(bm.circuit.num_param)*2*np.pi)\n",
        "    grad_absmean_list.append(np.abs(grad).mean())"
      ],
      "execution_count": 22,
      "outputs": [
        {
          "output_type": "stream",
          "text": [
            "number of bit = 2\n",
            "number of bit = 4\n",
            "number of bit = 6\n",
            "number of bit = 8\n",
            "number of bit = 10\n",
            "number of bit = 12\n"
          ],
          "name": "stdout"
        }
      ]
    },
    {
      "metadata": {
        "id": "pzUeoDGf-r_2",
        "colab_type": "code",
        "colab": {
          "autoexec": {
            "startup": false,
            "wait_interval": 0
          },
          "base_uri": "https://localhost:8080/",
          "height": 369
        },
        "outputId": "285407dc-6643-4194-eaf6-a225370ba8ae",
        "executionInfo": {
          "status": "ok",
          "timestamp": 1525849283124,
          "user_tz": -480,
          "elapsed": 1816,
          "user": {
            "displayName": "刘金国",
            "photoUrl": "//lh3.googleusercontent.com/-lDAT81T3HSE/AAAAAAAAAAI/AAAAAAAAAgw/eH3JEob7M1Y/s50-c-k-no/photo.jpg",
            "userId": "116824001998056121289"
          }
        }
      },
      "cell_type": "code",
      "source": [
        "plt.plot(num_bit_list, grad_absmean_list)\n",
        "plt.yscale('log')\n",
        "plt.ylabel(\"gradient\", fontsize=18)\n",
        "plt.xlabel(\"number of qubit\", fontsize=18)\n",
        "plt.show()"
      ],
      "execution_count": 29,
      "outputs": [
        {
          "output_type": "display_data",
          "data": {
            "image/png": "[encoded data removed]",
            "text/plain": [
              "<matplotlib.figure.Figure at 0x7fc3d81d99b0>"
            ]
          },
          "metadata": {
            "tags": []
          }
        }
      ]
    },
    {
      "metadata": {
        "id": "9y99KDxNyalW",
        "colab_type": "text"
      },
      "cell_type": "markdown",
      "source": [
        "# Inference and Learning Wave Functions\n",
        "to be added...\n",
        "\n",
        "#### Ref\n",
        "Low, Guang Hao, Theodore J. Yoder, and Isaac L. Chuang. \"Quantum inference on Bayesian networks.\" Physical Review A 89.6 (2014): 062315."
      ]
    },
    {
      "metadata": {
        "id": "Tux9sX8g8Qsy",
        "colab_type": "code",
        "colab": {
          "autoexec": {
            "startup": false,
            "wait_interval": 0
          }
        }
      },
      "cell_type": "code",
      "source": [
        ""
      ],
      "execution_count": 0,
      "outputs": []
    }
  ]
}