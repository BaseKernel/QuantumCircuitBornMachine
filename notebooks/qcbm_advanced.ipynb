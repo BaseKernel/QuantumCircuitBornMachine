{
  "nbformat": 4,
  "nbformat_minor": 0,
  "metadata": {
    "colab": {
      "name": "qcbm_advanced.ipynb",
      "version": "0.3.2",
      "views": {},
      "default_view": {},
      "provenance": [],
      "collapsed_sections": []
    },
    "kernelspec": {
      "display_name": "Python 3",
      "language": "python",
      "name": "python3"
    }
  },
  "cells": [
    {
      "metadata": {
        "id": "_PGjHY0otWWi",
        "colab_type": "code",
        "colab": {
          "autoexec": {
            "startup": false,
            "wait_interval": 0
          }
        }
      },
      "cell_type": "code",
      "source": [
        "import numpy as np\n",
        "import matplotlib.pyplot as plt\n",
        "import scipy.sparse as sps"
      ],
      "execution_count": 0,
      "outputs": []
    },
    {
      "metadata": {
        "id": "ZyiGMZMrtWWx",
        "colab_type": "text"
      },
      "cell_type": "markdown",
      "source": [
        "# Dataset, binary data and continuous data"
      ]
    },
    {
      "metadata": {
        "id": "0VCZR0e1tWW0",
        "colab_type": "code",
        "colab": {
          "autoexec": {
            "startup": false,
            "wait_interval": 0
          }
        }
      },
      "cell_type": "code",
      "source": [
        "def digit_basis(geometry):\n",
        "    num_bit = np.prod(geometry)\n",
        "    M = 2**num_bit\n",
        "    x = np.arange(M)\n",
        "    return x\n",
        "\n",
        "def binary_basis(geometry):\n",
        "    num_bit = np.prod(geometry)\n",
        "    M = 2**num_bit\n",
        "    x = np.arange(M)\n",
        "    return unpacknbits(x[:,None], num_bit).reshape((-1,)+geometry)\n",
        "\n",
        "def unpacknbits(arr, nbit, axis=-1):\n",
        "    '''unpack numbers to bits.'''\n",
        "    nd = np.ndim(arr)\n",
        "    if axis < 0:\n",
        "        axis = nd + axis\n",
        "    return (((arr & (1 << np.arange(nbit - 1, -1, -1)).reshape([-1] + [1] * (nd - axis - 1)))) > 0).astype('int8')\n",
        "\n",
        "\n",
        "def packnbits(arr, axis=-1):\n",
        "    '''pack bits to numbers.'''\n",
        "    nd = np.ndim(arr)\n",
        "    nbit = np.shape(arr)[axis]\n",
        "    if axis < 0:\n",
        "        axis = nd + axis\n",
        "    return (arr * (1 << np.arange(nbit - 1, -1, -1)).reshape([-1] + [1] * (nd - axis - 1))\\\n",
        "           ).sum(axis=axis, keepdims=True).astype('int')"
      ],
      "execution_count": 0,
      "outputs": []
    },
    {
      "metadata": {
        "id": "P2hc58LmtWW-",
        "colab_type": "code",
        "colab": {
          "autoexec": {
            "startup": false,
            "wait_interval": 0
          }
        }
      },
      "cell_type": "code",
      "source": [
        "def gaussian_pdf(geometry, mu, sigma):\n",
        "    '''get gaussian distribution function'''\n",
        "    x = digit_basis(geometry)\n",
        "    pl = 1. / np.sqrt(2 * np.pi * sigma**2) * \\\n",
        "        np.exp(-(x - mu)**2 / (2. * sigma**2))\n",
        "    return pl/pl.sum()"
      ],
      "execution_count": 0,
      "outputs": []
    },
    {
      "metadata": {
        "id": "EEz0-AL0tWXG",
        "colab_type": "code",
        "colab": {
          "autoexec": {
            "startup": false,
            "wait_interval": 0
          }
        }
      },
      "cell_type": "code",
      "source": [
        "def barstripe_pdf(geometry):\n",
        "    '''get bar and stripes PDF'''\n",
        "    x = binary_basis(geometry)\n",
        "    pl = is_bs(x)\n",
        "    return pl/pl.sum()\n",
        "\n",
        "def is_bs(samples):\n",
        "    '''a sample is a bar or a stripe.'''\n",
        "    return (np.abs(np.diff(samples,axis=-1)).sum(axis=(1,2))==0\\\n",
        "           )|((np.abs(np.diff(samples, axis=1)).sum(axis=(1,2)))==0)"
      ],
      "execution_count": 0,
      "outputs": []
    },
    {
      "metadata": {
        "id": "9vUhXN3qtWXP",
        "colab_type": "code",
        "colab": {
          "autoexec": {
            "startup": false,
            "wait_interval": 0
          },
          "base_uri": "https://localhost:8080/",
          "height": 348
        },
        "outputId": "dce8c659-00b9-4c41-b903-1601e0e73c9c",
        "executionInfo": {
          "status": "ok",
          "timestamp": 1523106975891,
          "user_tz": -480,
          "elapsed": 3783,
          "user": {
            "displayName": "刘金国",
            "photoUrl": "//lh3.googleusercontent.com/-lDAT81T3HSE/AAAAAAAAAAI/AAAAAAAAAgw/eH3JEob7M1Y/s50-c-k-no/photo.jpg",
            "userId": "116824001998056121289"
          }
        }
      },
      "cell_type": "code",
      "source": [
        "geometry = (6,)\n",
        "pl1 = gaussian_pdf(geometry, mu=2**5-0.5, sigma=2**4)\n",
        "plt.plot(pl1)\n",
        "plt.show()"
      ],
      "execution_count": 28,
      "outputs": [
        {
          "output_type": "display_data",
          "data": {
            "image/png": "[encoded data removed]",
            "text/plain": [
              "<matplotlib.figure.Figure at 0x7fd89373cac8>"
            ]
          },
          "metadata": {
            "tags": []
          }
        }
      ]
    },
    {
      "metadata": {
        "id": "r5ga46YmtWXh",
        "colab_type": "code",
        "colab": {
          "autoexec": {
            "startup": false,
            "wait_interval": 0
          },
          "base_uri": "https://localhost:8080/",
          "height": 348
        },
        "outputId": "2d653002-d1bf-4390-a0d3-c609883c33c5",
        "executionInfo": {
          "status": "ok",
          "timestamp": 1523106978200,
          "user_tz": -480,
          "elapsed": 1856,
          "user": {
            "displayName": "刘金国",
            "photoUrl": "//lh3.googleusercontent.com/-lDAT81T3HSE/AAAAAAAAAAI/AAAAAAAAAgw/eH3JEob7M1Y/s50-c-k-no/photo.jpg",
            "userId": "116824001998056121289"
          }
        }
      },
      "cell_type": "code",
      "source": [
        "geometry = (3,3)\n",
        "pl2 = barstripe_pdf(geometry)\n",
        "plt.plot(pl2)\n",
        "plt.show()"
      ],
      "execution_count": 29,
      "outputs": [
        {
          "output_type": "display_data",
          "data": {
            "image/png": "[encoded data removed]",
            "text/plain": [
              "<matplotlib.figure.Figure at 0x7fd89373c710>"
            ]
          },
          "metadata": {
            "tags": []
          }
        }
      ]
    },
    {
      "metadata": {
        "id": "aHMTcRvItWXu",
        "colab_type": "text"
      },
      "cell_type": "markdown",
      "source": [
        "# Build Circuits\n",
        "## Building Blocks"
      ]
    },
    {
      "metadata": {
        "id": "8AzPpQpatWXw",
        "colab_type": "code",
        "colab": {
          "autoexec": {
            "startup": false,
            "wait_interval": 0
          }
        }
      },
      "cell_type": "code",
      "source": [
        "######  Pauli Matrices  ########\n",
        "\n",
        "I2 = sps.eye(2).tocsr()\n",
        "sx = sps.csr_matrix([[0,1],[1,0.]])\n",
        "sy = sps.csr_matrix([[0,-1j],[1j,0.]])\n",
        "sz = sps.csr_matrix([[1,0],[0,-1.]])\n",
        "\n",
        "p0 = (sz + I2) / 2\n",
        "p1 = (-sz + I2) / 2\n",
        "h = (sx + sz) / np.sqrt(2.)\n",
        "sxyz = [I2, sx, sy, sz]\n",
        "\n",
        "# single bit rotation matrices\n",
        "\n",
        "def _ri(si, theta):\n",
        "    return np.cos(theta/2.)*I2 - 1j*np.sin(theta/2.)*si\n",
        "\n",
        "def rx(theta):\n",
        "    return _ri(sx, theta)\n",
        "\n",
        "def ry(theta):\n",
        "    return _ri(sy, theta)\n",
        "\n",
        "def rz(theta):\n",
        "    return _ri(sz, theta)\n",
        "\n",
        "def rot(t1, t2, t3):\n",
        "    '''\n",
        "    a general rotation gate rz(t3)rx(r2)rz(t1).\n",
        "\n",
        "    Args:\n",
        "        t1, t2, t3 (float): three angles.\n",
        "\n",
        "    Returns:\n",
        "        2x2 csr_matrix: rotation matrix.\n",
        "    '''\n",
        "    return rz(t3).dot(rx(t2)).dot(rz(t1))\n",
        "\n",
        "# multiple bit construction\n",
        "\n",
        "def CNOT(ibit, jbit, n):\n",
        "    res = _([p0, I2], [ibit, jbit], n)\n",
        "    res = res + _([p1, sx], [ibit, jbit], n)\n",
        "    return res\n",
        "\n",
        "def _(ops, locs, n):\n",
        "    '''\n",
        "    Put operators in a circuit and compile them.\n",
        "\n",
        "    notice the big end are high loc bits!\n",
        "\n",
        "    Args:\n",
        "        ops (list): list of single bit operators.\n",
        "        locs (list): list of positions.\n",
        "        n (int): total number of bits.\n",
        "\n",
        "    Returns:\n",
        "        csr_matrix: resulting matrix.\n",
        "    '''\n",
        "    if np.ndim(locs) == 0:\n",
        "        locs = [locs]\n",
        "    if not isinstance(ops, (list, tuple)):\n",
        "        ops = [ops]\n",
        "    locs = np.asarray(locs)\n",
        "    locs = n - locs\n",
        "    order = np.argsort(locs)\n",
        "    locs = np.concatenate([[0], locs[order], [n + 1]])\n",
        "    return _wrap_identity([ops[i] for i in order], np.diff(locs) - 1)\n",
        "\n",
        "\n",
        "def _wrap_identity(data_list, num_bit_list):\n",
        "    if len(num_bit_list) != len(data_list) + 1:\n",
        "        raise Exception()\n",
        "\n",
        "    res = sps.eye(2**num_bit_list[0])\n",
        "    for data, nbit in zip(data_list, num_bit_list[1:]):\n",
        "        res = sps.kron(res, data)\n",
        "        res = sps.kron(res, sps.eye(2**nbit, dtype='complex128'))\n",
        "    return res\n",
        "\n",
        "def initial_wf(num_bit):\n",
        "    wf = np.zeros(2**num_bit, dtype='complex128')\n",
        "    wf[0] = 1.\n",
        "    return wf"
      ],
      "execution_count": 0,
      "outputs": []
    },
    {
      "metadata": {
        "id": "Td25MwJNtWX3",
        "colab_type": "code",
        "colab": {
          "autoexec": {
            "startup": false,
            "wait_interval": 0
          }
        }
      },
      "cell_type": "code",
      "source": [
        "class ArbitraryRotation(object):\n",
        "    def __init__(self, num_bit):\n",
        "        self.num_bit = num_bit\n",
        "        self.mask = np.array([True] * (3*num_bit), dtype='bool')\n",
        "\n",
        "    def __str__(self):\n",
        "        return 'Rotate[%d]'%(self.num_param)\n",
        "\n",
        "    @property\n",
        "    def num_param(self):\n",
        "        return self.mask.sum()\n",
        "\n",
        "    def tocsr(self, theta_list):\n",
        "        '''transform this block to csr_matrix.'''\n",
        "        theta_list_ = np.zeros(3*self.num_bit)\n",
        "        theta_list_[self.mask] = theta_list\n",
        "        rots = [rot(*ths) for ths in theta_list_.reshape([self.num_bit,3])]\n",
        "        res = [_([r], [i], self.num_bit) for i,r in enumerate(rots)]\n",
        "        return res\n",
        "\n",
        "class CNOTEntangler(object):\n",
        "    def __init__(self, num_bit, pairs):\n",
        "        self.num_bit = num_bit\n",
        "        self.pairs = pairs\n",
        "\n",
        "    def __str__(self):\n",
        "        pair_str = ','.join(['%d-%d'%(i,j) for i,j in self.pairs])\n",
        "        return 'CNOT(%s)'%(pair_str)\n",
        "\n",
        "    @property\n",
        "    def num_param(self):\n",
        "        return 0\n",
        "\n",
        "    def tocsr(self, theta_list):\n",
        "        '''transform this block to csr_matrix.'''\n",
        "        i, j = self.pairs[0]\n",
        "        res = CNOT(i, j, self.num_bit)\n",
        "        for i, j in self.pairs[1:]:\n",
        "            res = CNOT(i,j,self.num_bit).dot(res)\n",
        "        res.eliminate_zeros()\n",
        "        return [res]"
      ],
      "execution_count": 0,
      "outputs": []
    },
    {
      "metadata": {
        "id": "GPOVLVrhtWX-",
        "colab_type": "code",
        "colab": {
          "autoexec": {
            "startup": false,
            "wait_interval": 0
          }
        }
      },
      "cell_type": "code",
      "source": [
        "class BlockQueue(list):\n",
        "    '''\n",
        "    Block Queue that keep track of theta_list changing history, for fast update.\n",
        "    '''\n",
        "    def __init__(self, *args):\n",
        "        list.__init__(self, *args)\n",
        "        self.theta_last = None\n",
        "        self.memo = None\n",
        "\n",
        "    def __call__(self, qureg, theta_list):\n",
        "        # cache? if theta_list change <= 1 parameters, then don't touch memory.\n",
        "        remember = self.theta_last is None or (abs(self.theta_last-theta_list)>1e-12).sum() > 1\n",
        "\n",
        "        mats = []\n",
        "        theta_last = self.theta_last\n",
        "        if remember:\n",
        "            self.theta_last = theta_list.copy()\n",
        "\n",
        "        qureg_ = qureg\n",
        "        for iblock, block in enumerate(self):\n",
        "            # generate or use a block matrix\n",
        "            num_param = block.num_param\n",
        "            theta_i, theta_list = np.split(theta_list, [num_param])\n",
        "            if theta_last is not None:\n",
        "                theta_o, theta_last = np.split(theta_last, [num_param])\n",
        "            if self.memo is not None and (num_param==0 or np.abs(theta_i-theta_o).max()<1e-12):\n",
        "                # use data cached in memory\n",
        "                mat = self.memo[iblock]\n",
        "            else:\n",
        "                if self.memo is not None and not remember:\n",
        "                    # update the changed gate, but not touching memory.\n",
        "                    mat = _rot_tocsr_update1(block, self.memo[iblock], theta_o, theta_i)\n",
        "                else:\n",
        "                    # regenerate one\n",
        "                    mat = block.tocsr(theta_i)\n",
        "            for mat_i in mat:\n",
        "                qureg_ = mat_i.dot(qureg_)\n",
        "            mats.append(mat)\n",
        "\n",
        "        if remember:\n",
        "            # cache data\n",
        "            self.memo = mats\n",
        "        # update register\n",
        "        qureg[...] = qureg_\n",
        "        np.testing.assert_(len(theta_list)==0)\n",
        "        \n",
        "    @property\n",
        "    def num_bit(self):\n",
        "        return self[0].num_bit\n",
        "\n",
        "    @property\n",
        "    def num_param(self):\n",
        "        return sum([b.num_param for b in self])\n",
        "\n",
        "    def __str__(self):\n",
        "        return '\\n'.join([str(b) for b in self])\n",
        "\n",
        "def _rot_tocsr_update1(layer, old, theta_old, theta_new):\n",
        "    '''\n",
        "    rotation layer csr_matrix update method.\n",
        "    \n",
        "    Args:\n",
        "        layer (ArbitraryRotation): rotatio layer.\n",
        "        old (csr_matrix): old matrices.\n",
        "        theta_old (1darray): old parameters.\n",
        "        theta_new (1darray): new parameters.\n",
        "\n",
        "    Returns:\n",
        "        csr_matrix: new rotation matrices after the theta changed.\n",
        "    '''\n",
        "    idiff_param = np.where(abs(theta_old-theta_new)>1e-12)[0].item()\n",
        "    idiff = np.where(layer.mask)[0][idiff_param]\n",
        "\n",
        "    # get rotation parameters\n",
        "    isite = idiff//3\n",
        "    theta_list_ = np.zeros(3*layer.num_bit)\n",
        "    theta_list_[layer.mask] = theta_new\n",
        "    \n",
        "    new = old[:]\n",
        "    new[isite] = _(rot(*theta_list_[isite*3:isite*3+3]), isite, layer.num_bit)\n",
        "    return new\n",
        "    \n",
        "def get_demo_circuit(num_bit, depth, pairs):\n",
        "    blocks = []\n",
        "    # build circuit\n",
        "    for idepth in range(depth+1):\n",
        "        blocks.append(ArbitraryRotation(num_bit))\n",
        "        if idepth!=depth:\n",
        "            blocks.append(CNOTEntangler(num_bit, pairs))\n",
        "\n",
        "    # set leading and trailing Rz to disabled\n",
        "    blocks[0].mask[::3] = False\n",
        "    blocks[-1].mask[2::3] = False\n",
        "    return BlockQueue(blocks)"
      ],
      "execution_count": 0,
      "outputs": []
    },
    {
      "metadata": {
        "id": "hbkFWCGHtWYF",
        "colab_type": "code",
        "colab": {
          "autoexec": {
            "startup": false,
            "wait_interval": 0
          }
        }
      },
      "cell_type": "code",
      "source": [
        "def get_nn_pairs(geometry):\n",
        "    '''define pairs that cnot gates will apply.'''\n",
        "    num_bit = np.prod(geometry)\n",
        "    if len(geometry) == 2:\n",
        "        nrow, ncol = geometry\n",
        "        res = []\n",
        "        for ij in range(num_bit):\n",
        "            i, j = ij // ncol, ij % ncol\n",
        "            res.extend([(ij, i_ * ncol + j_)\n",
        "                        for i_, j_ in [((i + 1) % nrow, j), (i, (j + 1) % ncol)]])\n",
        "        return res\n",
        "    elif len(geometry) == 1:\n",
        "        res = []\n",
        "        for inth in range(2):\n",
        "            for i in range(inth, num_bit, 2):\n",
        "                res = res + [(i, i_ % num_bit) for i_ in range(i + 1, i + 2)]\n",
        "        return res\n",
        "    else:\n",
        "       raise NotImplementedError('')"
      ],
      "execution_count": 0,
      "outputs": []
    },
    {
      "metadata": {
        "id": "XnJVuUhZtWYJ",
        "colab_type": "code",
        "colab": {
          "autoexec": {
            "startup": false,
            "wait_interval": 0
          },
          "base_uri": "https://localhost:8080/",
          "height": 105
        },
        "outputId": "affe2ce3-5ce3-4e3e-c8cf-9812af321f21",
        "executionInfo": {
          "status": "ok",
          "timestamp": 1523106922922,
          "user_tz": -480,
          "elapsed": 1264,
          "user": {
            "displayName": "刘金国",
            "photoUrl": "//lh3.googleusercontent.com/-lDAT81T3HSE/AAAAAAAAAAI/AAAAAAAAAgw/eH3JEob7M1Y/s50-c-k-no/photo.jpg",
            "userId": "116824001998056121289"
          }
        }
      },
      "cell_type": "code",
      "source": [
        "depth = 2\n",
        "geometry = (6,)\n",
        "\n",
        "num_bit = np.prod(geometry)\n",
        "pairs = get_nn_pairs(geometry)\n",
        "circuit = get_demo_circuit(num_bit, depth, pairs)\n",
        "print(circuit)"
      ],
      "execution_count": 19,
      "outputs": [
        {
          "output_type": "stream",
          "text": [
            "Rotate[12]\n",
            "CNOT(0-1,2-3,4-5,1-2,3-4,5-0)\n",
            "Rotate[18]\n",
            "CNOT(0-1,2-3,4-5,1-2,3-4,5-0)\n",
            "Rotate[12]\n"
          ],
          "name": "stdout"
        }
      ]
    },
    {
      "metadata": {
        "id": "dKzSeGQdtWYO",
        "colab_type": "code",
        "colab": {
          "autoexec": {
            "startup": false,
            "wait_interval": 0
          },
          "base_uri": "https://localhost:8080/",
          "height": 299
        },
        "outputId": "92ae0892-f7fb-449c-f621-bc6efcdc7800",
        "executionInfo": {
          "status": "ok",
          "timestamp": 1523106925531,
          "user_tz": -480,
          "elapsed": 1540,
          "user": {
            "displayName": "刘金国",
            "photoUrl": "//lh3.googleusercontent.com/-lDAT81T3HSE/AAAAAAAAAAI/AAAAAAAAAgw/eH3JEob7M1Y/s50-c-k-no/photo.jpg",
            "userId": "116824001998056121289"
          }
        }
      },
      "cell_type": "code",
      "source": [
        "theta_list = np.zeros(circuit.num_param)\n",
        "theta_list[1] = np.pi\n",
        "wf = initial_wf(num_bit)\n",
        "circuit(wf, theta_list)\n",
        "\n",
        "print(wf)"
      ],
      "execution_count": 20,
      "outputs": [
        {
          "output_type": "stream",
          "text": [
            "[6.123234e-17-1.j 0.000000e+00+0.j 0.000000e+00+0.j 0.000000e+00+0.j\n",
            " 0.000000e+00+0.j 0.000000e+00+0.j 0.000000e+00+0.j 0.000000e+00+0.j\n",
            " 0.000000e+00+0.j 0.000000e+00+0.j 0.000000e+00+0.j 0.000000e+00+0.j\n",
            " 0.000000e+00+0.j 0.000000e+00+0.j 0.000000e+00+0.j 0.000000e+00+0.j\n",
            " 0.000000e+00+0.j 0.000000e+00+0.j 0.000000e+00+0.j 0.000000e+00+0.j\n",
            " 0.000000e+00+0.j 0.000000e+00+0.j 0.000000e+00+0.j 0.000000e+00+0.j\n",
            " 0.000000e+00+0.j 0.000000e+00+0.j 0.000000e+00+0.j 0.000000e+00+0.j\n",
            " 0.000000e+00+0.j 0.000000e+00+0.j 0.000000e+00+0.j 0.000000e+00+0.j\n",
            " 0.000000e+00+0.j 0.000000e+00+0.j 0.000000e+00+0.j 0.000000e+00+0.j\n",
            " 0.000000e+00+0.j 0.000000e+00+0.j 0.000000e+00+0.j 0.000000e+00+0.j\n",
            " 0.000000e+00+0.j 0.000000e+00+0.j 0.000000e+00+0.j 0.000000e+00+0.j\n",
            " 0.000000e+00+0.j 0.000000e+00+0.j 0.000000e+00+0.j 0.000000e+00+0.j\n",
            " 0.000000e+00+0.j 0.000000e+00+0.j 0.000000e+00+0.j 0.000000e+00+0.j\n",
            " 0.000000e+00+0.j 0.000000e+00+0.j 0.000000e+00+0.j 0.000000e+00+0.j\n",
            " 0.000000e+00+0.j 0.000000e+00+0.j 0.000000e+00+0.j 0.000000e+00+0.j\n",
            " 0.000000e+00+0.j 0.000000e+00+0.j 0.000000e+00+0.j 0.000000e+00+0.j]\n"
          ],
          "name": "stdout"
        }
      ]
    },
    {
      "metadata": {
        "id": "2wv_pxP2tWYT",
        "colab_type": "text"
      },
      "cell_type": "markdown",
      "source": [
        "# Build The Gradient training framework for Born Machine"
      ]
    },
    {
      "metadata": {
        "id": "F8NSUjdVtWYU",
        "colab_type": "code",
        "colab": {
          "autoexec": {
            "startup": false,
            "wait_interval": 0
          }
        }
      },
      "cell_type": "code",
      "source": [
        "class QCBM(object):\n",
        "    '''\n",
        "    Quantum Circuit Born Machine,\n",
        "\n",
        "    Args:\n",
        "        circuit (BlockQueue): the circuit architechture.\n",
        "        batch_size (int|None): introducing sampling error, None for no sampling error.\n",
        "    '''\n",
        "    def __init__(self, circuit, mmd, p_data, batch_size=None):\n",
        "        self.circuit = circuit\n",
        "        self.mmd = mmd\n",
        "        self.p_data = p_data\n",
        "        self.batch_size = batch_size\n",
        "\n",
        "    @property\n",
        "    def depth(self):\n",
        "        return (len(self.circuit)-1)//2\n",
        "\n",
        "    def pdf(self, theta_list):\n",
        "        '''get probability distribution function'''\n",
        "        wf = initial_wf(self.circuit.num_bit)\n",
        "        self.circuit(wf, theta_list)\n",
        "        pl = np.abs(wf)**2\n",
        "        # introducing sampling error\n",
        "        if self.batch_size is not None:\n",
        "            pl = prob_from_sample(sample_from_prob(np.arange(len(pl)), pl, self.batch_size),\n",
        "                    len(pl), False)\n",
        "        return pl\n",
        "\n",
        "    def mmd_loss(self, theta_list):\n",
        "        '''get the loss'''\n",
        "        # get and cahe probability distritbution of Born Machine\n",
        "        self._prob = self.pdf(theta_list)\n",
        "        # use wave function to get mmd loss\n",
        "        return self.mmd(self._prob, self.p_data)\n",
        "\n",
        "    def gradient(self, theta_list):\n",
        "        '''\n",
        "        cheat and get gradient.\n",
        "        '''\n",
        "        prob = self.pdf(theta_list)\n",
        "        grad = []\n",
        "        for i in range(len(theta_list)):\n",
        "            # pi/2 phase\n",
        "            theta_list[i] += np.pi/2.\n",
        "            prob_pos = self.pdf(theta_list)\n",
        "            # -pi/2 phase\n",
        "            theta_list[i] -= np.pi\n",
        "            prob_neg = self.pdf(theta_list)\n",
        "            # recover\n",
        "            theta_list[i] += np.pi/2.\n",
        "\n",
        "            grad_pos = self.mmd.kernel_expect(prob, prob_pos) - self.mmd.kernel_expect(prob, prob_neg)\n",
        "            grad_neg = self.mmd.kernel_expect(self.p_data, prob_pos) - self.mmd.kernel_expect(self.p_data, prob_neg)\n",
        "            grad.append(grad_pos - grad_neg)\n",
        "        return np.array(grad)\n",
        "\n",
        "    def gradient_numerical(self, theta_list, delta=1e-2):\n",
        "        '''\n",
        "        numerical differenciation.\n",
        "        '''\n",
        "        grad = []\n",
        "        for i in range(len(theta_list)):\n",
        "            theta_list[i] += delta/2.\n",
        "            loss_pos = self.mmd_loss(theta_list)\n",
        "            theta_list[i] -= delta\n",
        "            loss_neg = self.mmd_loss(theta_list)\n",
        "            theta_list[i] += delta/2.\n",
        "\n",
        "            grad_i = (loss_pos - loss_neg)/delta\n",
        "            grad.append(grad_i)\n",
        "        return np.array(grad)\n",
        "    \n",
        "def sample_from_prob(x, pl, num_sample):\n",
        "    '''\n",
        "    sample x from probability.\n",
        "    '''\n",
        "    pl = 1. / pl.sum() * pl\n",
        "    indices = np.arange(len(x))\n",
        "    res = np.random.choice(indices, num_sample, p=pl)\n",
        "    return np.array([x[r] for r in res])\n",
        "\n",
        "\n",
        "def prob_from_sample(dataset, hndim, packbits):\n",
        "    '''\n",
        "    emperical probability from data.\n",
        "    '''\n",
        "    if packbits:\n",
        "        dataset = packnbits(dataset).ravel()\n",
        "    p_data = np.bincount(dataset, minlength=hndim)\n",
        "    p_data = p_data / float(np.sum(p_data))\n",
        "    return p_data"
      ],
      "execution_count": 0,
      "outputs": []
    },
    {
      "metadata": {
        "id": "TR17D5Y5tWYX",
        "colab_type": "text"
      },
      "cell_type": "markdown",
      "source": [
        "# MMD Loss Function"
      ]
    },
    {
      "metadata": {
        "id": "c54lKlcVtWYY",
        "colab_type": "code",
        "colab": {
          "autoexec": {
            "startup": false,
            "wait_interval": 0
          }
        }
      },
      "cell_type": "code",
      "source": [
        "class RBFMMD2(object):\n",
        "    def __init__(self, sigma_list, basis):\n",
        "        self.sigma_list = sigma_list\n",
        "        self.basis = basis\n",
        "        self.K = mix_rbf_kernel(basis, basis, self.sigma_list)\n",
        "\n",
        "    def __call__(self, px, py):\n",
        "        '''\n",
        "        Args:\n",
        "            px (1darray, default=None): probability for data set x, used only when self.is_exact==True.\n",
        "            py (1darray, default=None): same as px, but for data set y.\n",
        "\n",
        "        Returns:\n",
        "            float, loss.\n",
        "        '''\n",
        "        pxy = px-py\n",
        "        return self.kernel_expect(pxy, pxy)\n",
        "\n",
        "    def kernel_expect(self, px, py):\n",
        "        return px.dot(self.K).dot(py)\n",
        "\n",
        "def mix_rbf_kernel(x, y, sigma_list):\n",
        "    ndim = x.ndim\n",
        "    if ndim == 1:\n",
        "        exponent = np.abs(x[:, None] - y[None, :])**2\n",
        "    elif ndim == 2:\n",
        "        exponent = ((x[:, None, :] - y[None, :, :])**2).sum(axis=2)\n",
        "    else:\n",
        "        raise\n",
        "    K = 0.0\n",
        "    for sigma in sigma_list:\n",
        "        gamma = 1.0 / (2 * sigma)\n",
        "        K = K + np.exp(-gamma * exponent)\n",
        "    return K"
      ],
      "execution_count": 0,
      "outputs": []
    },
    {
      "metadata": {
        "id": "qvtUVmI7tWYa",
        "colab_type": "code",
        "colab": {
          "autoexec": {
            "startup": false,
            "wait_interval": 0
          }
        }
      },
      "cell_type": "code",
      "source": [
        "def load_gaussian(num_bit, depth, batch_size=None):\n",
        "    '''gaussian distribution.'''\n",
        "    geometry = (num_bit,)\n",
        "    hndim = 2**num_bit\n",
        "\n",
        "    # standard circuit\n",
        "    pairs = get_nn_pairs(geometry)\n",
        "    circuit = get_demo_circuit(num_bit, depth, pairs)\n",
        "\n",
        "    # bar and stripe\n",
        "    p_bs = gaussian_pdf(geometry, mu=hndim/2., sigma=hndim/4.)\n",
        "\n",
        "    # mmd loss\n",
        "    mmd = RBFMMD2(sigma_list=[0.25,4], basis=digit_basis(geometry))\n",
        "\n",
        "    # Born Machine\n",
        "    bm = QCBM(circuit, mmd, p_bs, batch_size=batch_size)\n",
        "    return bm"
      ],
      "execution_count": 0,
      "outputs": []
    },
    {
      "metadata": {
        "id": "d7GU4xZQtWYd",
        "colab_type": "code",
        "colab": {
          "autoexec": {
            "startup": false,
            "wait_interval": 0
          },
          "base_uri": "https://localhost:8080/",
          "height": 35
        },
        "outputId": "5a011492-ac3f-4b2c-cbd8-3db7cbe898f9",
        "executionInfo": {
          "status": "ok",
          "timestamp": 1523106984020,
          "user_tz": -480,
          "elapsed": 1583,
          "user": {
            "displayName": "刘金国",
            "photoUrl": "//lh3.googleusercontent.com/-lDAT81T3HSE/AAAAAAAAAAI/AAAAAAAAAgw/eH3JEob7M1Y/s50-c-k-no/photo.jpg",
            "userId": "116824001998056121289"
          }
        }
      },
      "cell_type": "code",
      "source": [
        "depth = 2\n",
        "np.random.seed(2)\n",
        "\n",
        "bm = load_gaussian(6, depth)\n",
        "theta_list = np.random.random(bm.circuit.num_param)*2*np.pi\n",
        "\n",
        "print(bm.mmd_loss(theta_list))"
      ],
      "execution_count": 30,
      "outputs": [
        {
          "output_type": "stream",
          "text": [
            "0.07670951611610378\n"
          ],
          "name": "stdout"
        }
      ]
    },
    {
      "metadata": {
        "id": "2WYvTZMLtWYh",
        "colab_type": "code",
        "colab": {
          "autoexec": {
            "startup": false,
            "wait_interval": 0
          },
          "base_uri": "https://localhost:8080/",
          "height": 404
        },
        "outputId": "2f26c78d-63aa-425e-af7c-40bd029ad794",
        "executionInfo": {
          "status": "ok",
          "timestamp": 1523106988423,
          "user_tz": -480,
          "elapsed": 1096,
          "user": {
            "displayName": "刘金国",
            "photoUrl": "//lh3.googleusercontent.com/-lDAT81T3HSE/AAAAAAAAAAI/AAAAAAAAAgw/eH3JEob7M1Y/s50-c-k-no/photo.jpg",
            "userId": "116824001998056121289"
          }
        }
      },
      "cell_type": "code",
      "source": [
        "g1 = bm.gradient(theta_list)\n",
        "print(g1)\n",
        "g2 = bm.gradient_numerical(theta_list)\n",
        "print(g2)"
      ],
      "execution_count": 31,
      "outputs": [
        {
          "output_type": "stream",
          "text": [
            "[ 1.17952416e-02 -1.42216569e-03 -1.57348927e-02  9.03335185e-04\n",
            "  5.75288126e-03  1.63142734e-02 -7.12182644e-02 -3.68642090e-02\n",
            "  3.02588251e-03 -2.40086989e-02  1.50153448e-02 -3.09909222e-02\n",
            "  1.69429572e-03 -1.29632362e-03 -1.85014963e-03  2.20491335e-03\n",
            " -1.30370604e-02  1.74039759e-03  1.32711560e-02 -1.88914214e-02\n",
            "  1.10258254e-02  2.88352582e-02  1.93196284e-02 -2.23607054e-02\n",
            "  6.43114454e-03  1.15357357e-02  2.04753407e-02 -1.78919374e-03\n",
            " -2.71007644e-03  3.35225272e-03 -2.76979957e-03  4.51410813e-03\n",
            " -7.87033251e-05  8.99984440e-03  1.60975231e-03  2.38322549e-02\n",
            "  9.98124714e-03  1.31375606e-02 -1.66375717e-02  9.97649979e-03\n",
            " -1.72994602e-07 -5.77337014e-03]\n",
            "[ 1.17950049e-02 -1.42215591e-03 -1.57346379e-02  9.03324695e-04\n",
            "  5.75278744e-03  1.63141851e-02 -7.12172915e-02 -3.68638760e-02\n",
            "  3.02566786e-03 -2.40086199e-02  1.50151627e-02 -3.09906987e-02\n",
            "  1.69429119e-03 -1.29634099e-03 -1.85014346e-03  2.20489785e-03\n",
            " -1.30369463e-02  1.74037488e-03  1.32710938e-02 -1.88911778e-02\n",
            "  1.10257266e-02  2.88349868e-02  1.93194132e-02 -2.23604096e-02\n",
            "  6.43114678e-03  1.15357204e-02  2.04751812e-02 -1.78918725e-03\n",
            " -2.71011694e-03  3.35212291e-03 -2.76976149e-03  4.51406108e-03\n",
            " -7.87027468e-05  8.99972835e-03  1.60974216e-03  2.38319262e-02\n",
            "  9.98110449e-03  1.31372279e-02 -1.66373489e-02  9.97637337e-03\n",
            " -1.72993878e-07 -5.77328604e-03]\n"
          ],
          "name": "stdout"
        }
      ]
    },
    {
      "metadata": {
        "id": "phmzTb73tWYk",
        "colab_type": "text"
      },
      "cell_type": "markdown",
      "source": [
        "# Different Training Strategies"
      ]
    },
    {
      "metadata": {
        "id": "ZKBnRc_wtWYm",
        "colab_type": "code",
        "colab": {
          "autoexec": {
            "startup": false,
            "wait_interval": 0
          }
        }
      },
      "cell_type": "code",
      "source": [
        "from scipy.optimize import OptimizeResult\n",
        "\n",
        "def spsa(fun, x0,  args=(), bounds=None, ac=(0.2, 0.5), alpha=0.602,\n",
        "         A=None, gamma=0.101, maxiter=5000, callback=None):\n",
        "    '''\n",
        "    simultaneous perturbation stochastic approximation.\n",
        "    \n",
        "    Spall, J. C. (1998).\n",
        "    Implementation of the simultaneous perturbation algorithm for stochastic optimization.\n",
        "    IEEE Transactions on Aerospace and Electronic Systems.\n",
        "    https://doi.org/10.1109/7.705889\n",
        "\n",
        "    Args:\n",
        "        fun (func): loss function.\n",
        "        x0 (ndarray): initial variables.\n",
        "        args (tuple, default=()): additional input parameters for func.\n",
        "        bounds (tuple|None, default=None): lower bound and higher bound for variables, None for no bounds.\n",
        "        ac (tuple, default=(0.2,0.5)): initial learning rate and initial perturbation stength.\n",
        "        A (number, default=0.1*maxiter): statbility constant.\n",
        "        alpha (float, default=0.602): decay rate for learning speed.\n",
        "        gamma (float, default=0.101): decay rate for perturbation strength.\n",
        "        maxiter (int, default=5000): maximum number of iteration.\n",
        "        callback (func): func(iiter, x) called after each update, with `iiter` the iteration step and `x` the value of variables.\n",
        "\n",
        "    Note:\n",
        "        The choice of parameters,\n",
        "        * `alpha` and `gamma` have thoretically valid default values 0.602 and 0.101.\n",
        "        * in hight noise setting, pick smaller `a` and larger `c`.\n",
        "    '''\n",
        "    if A is None:\n",
        "        A = 0.1 * maxiter\n",
        "    a, c = ac\n",
        "\n",
        "    p = len(x0)\n",
        "    for k in range(maxiter):\n",
        "        ak = a / (k + 1 + A)**alpha\n",
        "        ck = c / (k + 1)**gamma\n",
        "        g = _get_g(fun, x0, args, ck, return_hessian=False)\n",
        "        x0 -= ak * g\n",
        "        if bounds is not None:\n",
        "            np.clip(x0, *bounds, out=x0)\n",
        "        if callback is not None:\n",
        "            callback(x0)\n",
        "    return OptimizeResult(x=x0, fun=fun(x0, *args), success=True)\n",
        "\n",
        "def _get_g(fun, x0, args, ck, return_hessian):\n",
        "    '''calculate gradient'''\n",
        "    p = len(x0)\n",
        "    delta = (2 * np.random.randint(0, 2, p) - 1) * ck\n",
        "    xpos, xneg = x0 + delta, x0 - delta\n",
        "    fpos, fneg = fun(xpos, *args), fun(xneg, *args)\n",
        "    g = (fpos - fneg) / (2 * delta)\n",
        "    if return_hessian:\n",
        "        delta1 = (2 * np.random.randint(0, 2, p) - 1) * ck\n",
        "        fneg_ = fun(xneg + delta1, *args)\n",
        "        fpos_ = fun(xpos + delta1, *args)\n",
        "        g1n = (fneg_ - fneg) / delta1\n",
        "        g1p = (fpos_ - fpos) / delta1\n",
        "        hessian = (g1p - g1n) / 4. / delta[:, None]\n",
        "        hessian += hessian.T\n",
        "        return g, hessian\n",
        "    return g"
      ],
      "execution_count": 0,
      "outputs": []
    },
    {
      "metadata": {
        "id": "6pxhFD6ftWYp",
        "colab_type": "code",
        "colab": {
          "autoexec": {
            "startup": false,
            "wait_interval": 0
          }
        }
      },
      "cell_type": "code",
      "source": [
        "  def train(bm, theta_list, method, max_iter=1000, popsize=50, step_rate=0.1):\n",
        "    '''train a Born Machine.'''\n",
        "    step = [0]\n",
        "    def callback(x, *args, **kwargs):\n",
        "        step[0] += 1\n",
        "        if step[0]%(max_iter//50) == 1:\n",
        "            print('step = %d, loss = %s'%(step[0], bm.mmd_loss(x)))\n",
        "        \n",
        "    theta_list = np.array(theta_list)\n",
        "    if method == 'SPSA':\n",
        "        res = spsa(bm.mmd_loss, x0=theta_list,\n",
        "                       maxiter=max_iter, callback=callback,\n",
        "                       )\n",
        "        return res.fun, res.x\n",
        "    elif method == 'Adam':\n",
        "        try:\n",
        "            from climin import Adam\n",
        "        except:\n",
        "            !pip install git+https://github.com/BRML/climin.git\n",
        "            from climin import Adam\n",
        "        optimizer = Adam(wrt=theta_list, fprime=bm.gradient,step_rate=step_rate)\n",
        "        for info in optimizer:\n",
        "            callback(theta_list)\n",
        "            if step[0] == max_iter:\n",
        "                break\n",
        "        return bm.mmd_loss(theta_list), theta_list\n",
        "    else:\n",
        "        from scipy.optimize import minimize\n",
        "        res = minimize(bm.mmd_loss, x0=theta_list,\n",
        "                       method=method, jac = bm.gradient, tol=1e-12,\n",
        "                       options={'maxiter': max_iter, 'disp': 0, 'gtol':1e-10, 'ftol':0},\n",
        "                       callback=callback,\n",
        "                       )\n",
        "        return res.fun, res.x"
      ],
      "execution_count": 0,
      "outputs": []
    },
    {
      "metadata": {
        "id": "ACI2FPlxtWYt",
        "colab_type": "code",
        "colab": {
          "autoexec": {
            "startup": false,
            "wait_interval": 0
          },
          "base_uri": "https://localhost:8080/",
          "height": 718
        },
        "outputId": "9139b5de-5b3f-4905-802a-ca6e5f02be58",
        "executionInfo": {
          "status": "ok",
          "timestamp": 1523081224983,
          "user_tz": -480,
          "elapsed": 22394,
          "user": {
            "displayName": "刘金国",
            "photoUrl": "//lh3.googleusercontent.com/-lDAT81T3HSE/AAAAAAAAAAI/AAAAAAAAAgw/eH3JEob7M1Y/s50-c-k-no/photo.jpg",
            "userId": "116824001998056121289"
          }
        }
      },
      "cell_type": "code",
      "source": [
        "depth = 6\n",
        "np.random.seed(2)\n",
        "\n",
        "bm = load_gaussian(6, depth)\n",
        "theta_list = np.random.random(bm.circuit.num_param)*2*np.pi\n",
        "loss, theta_list = train(bm, theta_list, 'L-BFGS-B', max_iter=20)\n",
        "pl = bm.pdf(theta_list)\n",
        "\n",
        "# display\n",
        "plt.plot(bm.p_data)\n",
        "plt.plot(pl)\n",
        "plt.legend(['Data', 'Gradient Born Machine'])\n",
        "plt.show()"
      ],
      "execution_count": 26,
      "outputs": [
        {
          "output_type": "stream",
          "text": [
            "step = 1, loss = 0.016427783967487626\n",
            "step = 2, loss = 0.009272722012251855\n",
            "step = 3, loss = 0.006452906490342672\n",
            "step = 4, loss = 0.00371117975014617\n",
            "step = 5, loss = 0.0026183160665845884\n",
            "step = 6, loss = 0.001867104588253835\n",
            "step = 7, loss = 0.0013668029390471585\n",
            "step = 8, loss = 0.0010577392968785728\n",
            "step = 9, loss = 0.000762585467783222\n",
            "step = 10, loss = 0.0005982977764923203\n",
            "step = 11, loss = 0.0004864317018575236\n",
            "step = 12, loss = 0.0003878196110034959\n",
            "step = 13, loss = 0.00034191833510487546\n",
            "step = 14, loss = 0.0002681024124093896\n",
            "step = 15, loss = 0.00023903360335532418\n",
            "step = 16, loss = 0.00019650794567779248\n",
            "step = 17, loss = 0.00016465406462605323\n",
            "step = 18, loss = 0.0001331070935064904\n",
            "step = 19, loss = 0.0001140109099872301\n",
            "step = 20, loss = 8.298805853868059e-05\n",
            "step = 21, loss = 7.47338217690642e-05\n"
          ],
          "name": "stdout"
        },
        {
          "output_type": "display_data",
          "data": {
            "image/png": "[encoded data removed]",
            "text/plain": [
              "<matplotlib.figure.Figure at 0x7f24b1790390>"
            ]
          },
          "metadata": {
            "tags": []
          }
        }
      ]
    },
    {
      "metadata": {
        "id": "PSXHEzfitWYw",
        "colab_type": "code",
        "colab": {
          "autoexec": {
            "startup": false,
            "wait_interval": 0
          }
        }
      },
      "cell_type": "code",
      "source": [
        "def load_barstripe(geometry, depth):\n",
        "    '''3 x 3 bar and stripes.'''\n",
        "    num_bit = np.prod(geometry)\n",
        "\n",
        "    # standard circuit\n",
        "    pairs = get_nn_pairs(geometry)\n",
        "    circuit = get_demo_circuit(num_bit, depth, pairs)\n",
        "\n",
        "    # bar and stripe\n",
        "    p_bs = barstripe_pdf(geometry)\n",
        "\n",
        "    # mmd loss\n",
        "    mmd = RBFMMD2(sigma_list=[2.], basis=binary_basis((num_bit,)))\n",
        "\n",
        "    # Born Machine\n",
        "    bm = QCBM(circuit, mmd, p_bs)\n",
        "    return bm"
      ],
      "execution_count": 0,
      "outputs": []
    },
    {
      "metadata": {
        "id": "xOpfEPluOAFl",
        "colab_type": "text"
      },
      "cell_type": "markdown",
      "source": [
        "# Training with Noisy Data\n",
        "\n",
        "Sample size $N=20000$ controls the noises.\n",
        "We compare training using Adam and SPSA"
      ]
    },
    {
      "metadata": {
        "id": "ft9LVR3ttWYy",
        "colab_type": "code",
        "colab": {
          "autoexec": {
            "startup": false,
            "wait_interval": 0
          },
          "base_uri": "https://localhost:8080/",
          "height": 1228
        },
        "outputId": "d1bae1f0-85b8-4432-a44f-1a6b84cc3c62",
        "executionInfo": {
          "status": "ok",
          "timestamp": 1523108119603,
          "user_tz": -480,
          "elapsed": 60536,
          "user": {
            "displayName": "刘金国",
            "photoUrl": "//lh3.googleusercontent.com/-lDAT81T3HSE/AAAAAAAAAAI/AAAAAAAAAgw/eH3JEob7M1Y/s50-c-k-no/photo.jpg",
            "userId": "116824001998056121289"
          }
        }
      },
      "cell_type": "code",
      "source": [
        "np.random.seed(2)\n",
        "depth = 4\n",
        "geometry = (2, 3)\n",
        "\n",
        "bm = load_barstripe(geometry, depth)\n",
        "bm.batch_size = 2000\n",
        "theta_list = np.random.random(bm.circuit.num_param)*2*np.pi\n",
        "loss, theta_list = train(bm, theta_list, 'Adam', max_iter=100, popsize=10)\n",
        "pl = bm.pdf(theta_list)\n",
        "\n",
        "# display\n",
        "plt.plot(bm.p_data)\n",
        "plt.plot(pl)\n",
        "plt.legend(['Data', 'Gradient Born Machine'])\n",
        "plt.show()"
      ],
      "execution_count": 44,
      "outputs": [
        {
          "output_type": "stream",
          "text": [
            "step = 1, loss = 0.018820856800847195\n",
            "step = 3, loss = 0.010123188127868658\n",
            "step = 5, loss = 0.008820370318052547\n",
            "step = 7, loss = 0.008807999414796529\n",
            "step = 9, loss = 0.0063043433521419775\n",
            "step = 11, loss = 0.005894555170176897\n",
            "step = 13, loss = 0.00439574307615166\n",
            "step = 15, loss = 0.00410835611138544\n",
            "step = 17, loss = 0.0043689847772890545\n",
            "step = 19, loss = 0.003157479915341924\n",
            "step = 21, loss = 0.0031968643843896622\n",
            "step = 23, loss = 0.0035172446479268746\n",
            "step = 25, loss = 0.002795781575362333\n",
            "step = 27, loss = 0.003058463315395112\n",
            "step = 29, loss = 0.002275891864493244\n",
            "step = 31, loss = 0.0026598856286334347\n",
            "step = 33, loss = 0.002163457146041098\n",
            "step = 35, loss = 0.001964917413876503\n",
            "step = 37, loss = 0.0023414673480427533\n",
            "step = 39, loss = 0.0020460529038371505\n",
            "step = 41, loss = 0.002127565062213616\n",
            "step = 43, loss = 0.0017431562708999735\n",
            "step = 45, loss = 0.0019425703770306396\n",
            "step = 47, loss = 0.0037177630890477104\n",
            "step = 49, loss = 0.0017483505306385017\n",
            "step = 51, loss = 0.0018048010411132707\n",
            "step = 53, loss = 0.0015691641270786636\n",
            "step = 55, loss = 0.0013690524130982843\n",
            "step = 57, loss = 0.0011273983643436227\n",
            "step = 59, loss = 0.0016163867590716597\n",
            "step = 61, loss = 0.0012897814063354972\n",
            "step = 63, loss = 0.001106449499863937\n",
            "step = 65, loss = 0.0010519210587050507\n",
            "step = 67, loss = 0.0013621164557682506\n",
            "step = 69, loss = 0.0010279351203231492\n",
            "step = 71, loss = 0.0013911829511170778\n",
            "step = 73, loss = 0.0007416777311184586\n",
            "step = 75, loss = 0.001184141794053406\n",
            "step = 77, loss = 0.000823345774907369\n",
            "step = 79, loss = 0.0018358377560603594\n",
            "step = 81, loss = 0.0016192474187827093\n",
            "step = 83, loss = 0.0007471752253319858\n",
            "step = 85, loss = 0.0008326369286128356\n",
            "step = 87, loss = 0.000780580244780927\n",
            "step = 89, loss = 0.0013942586666553973\n",
            "step = 91, loss = 0.0015709840785173984\n",
            "step = 93, loss = 0.0010386091599884056\n",
            "step = 95, loss = 0.0013588185486160926\n",
            "step = 97, loss = 0.0014223282503997708\n",
            "step = 99, loss = 0.0007360552839671517\n"
          ],
          "name": "stdout"
        },
        {
          "output_type": "display_data",
          "data": {
            "image/png": "[encoded data removed]",
            "text/plain": [
              "<matplotlib.figure.Figure at 0x7fd89167c0f0>"
            ]
          },
          "metadata": {
            "tags": []
          }
        }
      ]
    },
    {
      "metadata": {
        "id": "ED-k56UEtWY2",
        "colab_type": "code",
        "colab": {
          "autoexec": {
            "startup": false,
            "wait_interval": 0
          },
          "base_uri": "https://localhost:8080/",
          "height": 266
        },
        "outputId": "08faae33-b2d3-4f8a-f332-3563ee7f1fd5",
        "executionInfo": {
          "status": "ok",
          "timestamp": 1523108132273,
          "user_tz": -480,
          "elapsed": 2663,
          "user": {
            "displayName": "刘金国",
            "photoUrl": "//lh3.googleusercontent.com/-lDAT81T3HSE/AAAAAAAAAAI/AAAAAAAAAgw/eH3JEob7M1Y/s50-c-k-no/photo.jpg",
            "userId": "116824001998056121289"
          }
        }
      },
      "cell_type": "code",
      "source": [
        "# generate samples\n",
        "size = (7,5)\n",
        "pl = bm.pdf(theta_list)\n",
        "indices = np.random.choice(np.arange(len(pl)), np.prod(size), p=pl)\n",
        "samples = binary_basis(geometry)[indices]\n",
        "\n",
        "# show\n",
        "fig = plt.figure(figsize=(5,4), facecolor='gray')\n",
        "gs = plt.GridSpec(*size)\n",
        "for i in range(size[0]):\n",
        "    for j in range(size[1]):\n",
        "        plt.subplot(gs[i,j]).imshow(samples[i*size[1]+j], vmin=0, vmax=1)\n",
        "        plt.axis('equal')\n",
        "        plt.axis('off')\n",
        "plt.show()"
      ],
      "execution_count": 45,
      "outputs": [
        {
          "output_type": "display_data",
          "data": {
            "image/png": "[encoded data removed]",
            "text/plain": [
              "<matplotlib.figure.Figure at 0x7fd8906b88d0>"
            ]
          },
          "metadata": {
            "tags": []
          }
        }
      ]
    },
    {
      "metadata": {
        "id": "XkG3CDmOu7OG",
        "colab_type": "code",
        "colab": {
          "autoexec": {
            "startup": false,
            "wait_interval": 0
          },
          "base_uri": "https://localhost:8080/",
          "height": 1647
        },
        "outputId": "39291567-206d-4849-b0ba-154cd9fc82f3",
        "executionInfo": {
          "status": "error",
          "timestamp": 1523108186430,
          "user_tz": -480,
          "elapsed": 44248,
          "user": {
            "displayName": "刘金国",
            "photoUrl": "//lh3.googleusercontent.com/-lDAT81T3HSE/AAAAAAAAAAI/AAAAAAAAAgw/eH3JEob7M1Y/s50-c-k-no/photo.jpg",
            "userId": "116824001998056121289"
          }
        }
      },
      "cell_type": "code",
      "source": [
        "theta_list = np.random.random(bm.circuit.num_param)*2*np.pi\n",
        "loss, theta_list = train(bm, theta_list, 'SPSA', max_iter=100*bm.circuit.num_param, popsize=10)\n",
        "pl = bm.pdf(theta_list)\n",
        "\n",
        "# display\n",
        "plt.plot(bm.p_data)\n",
        "plt.plot(pl)\n",
        "plt.legend(['Data', 'Gradient Born Machine (SPSA)'])\n",
        "plt.show()"
      ],
      "execution_count": 46,
      "outputs": [
        {
          "output_type": "stream",
          "text": [
            "step = 1, loss = 0.014691208563616486\n",
            "step = 157, loss = 0.014988349456891224\n",
            "step = 313, loss = 0.014243381672254514\n"
          ],
          "name": "stdout"
        },
        {
          "output_type": "error",
          "ename": "KeyboardInterrupt",
          "evalue": "ignored",
          "traceback": [
            "\u001b[0;31m---------------------------------------------------------------------------\u001b[0m",
            "\u001b[0;31mKeyboardInterrupt\u001b[0m                         Traceback (most recent call last)",
            "\u001b[0;32m<ipython-input-46-48bc28b56ef7>\u001b[0m in \u001b[0;36m<module>\u001b[0;34m()\u001b[0m\n\u001b[1;32m      1\u001b[0m \u001b[0mtheta_list\u001b[0m \u001b[0;34m=\u001b[0m \u001b[0mnp\u001b[0m\u001b[0;34m.\u001b[0m\u001b[0mrandom\u001b[0m\u001b[0;34m.\u001b[0m\u001b[0mrandom\u001b[0m\u001b[0;34m(\u001b[0m\u001b[0mbm\u001b[0m\u001b[0;34m.\u001b[0m\u001b[0mcircuit\u001b[0m\u001b[0;34m.\u001b[0m\u001b[0mnum_param\u001b[0m\u001b[0;34m)\u001b[0m\u001b[0;34m*\u001b[0m\u001b[0;36m2\u001b[0m\u001b[0;34m*\u001b[0m\u001b[0mnp\u001b[0m\u001b[0;34m.\u001b[0m\u001b[0mpi\u001b[0m\u001b[0;34m\u001b[0m\u001b[0m\n\u001b[0;32m----> 2\u001b[0;31m \u001b[0mloss\u001b[0m\u001b[0;34m,\u001b[0m \u001b[0mtheta_list\u001b[0m \u001b[0;34m=\u001b[0m \u001b[0mtrain\u001b[0m\u001b[0;34m(\u001b[0m\u001b[0mbm\u001b[0m\u001b[0;34m,\u001b[0m \u001b[0mtheta_list\u001b[0m\u001b[0;34m,\u001b[0m \u001b[0;34m'SPSA'\u001b[0m\u001b[0;34m,\u001b[0m \u001b[0mmax_iter\u001b[0m\u001b[0;34m=\u001b[0m\u001b[0;36m100\u001b[0m\u001b[0;34m*\u001b[0m\u001b[0mbm\u001b[0m\u001b[0;34m.\u001b[0m\u001b[0mcircuit\u001b[0m\u001b[0;34m.\u001b[0m\u001b[0mnum_param\u001b[0m\u001b[0;34m,\u001b[0m \u001b[0mpopsize\u001b[0m\u001b[0;34m=\u001b[0m\u001b[0;36m10\u001b[0m\u001b[0;34m)\u001b[0m\u001b[0;34m\u001b[0m\u001b[0m\n\u001b[0m\u001b[1;32m      3\u001b[0m \u001b[0mpl\u001b[0m \u001b[0;34m=\u001b[0m \u001b[0mbm\u001b[0m\u001b[0;34m.\u001b[0m\u001b[0mpdf\u001b[0m\u001b[0;34m(\u001b[0m\u001b[0mtheta_list\u001b[0m\u001b[0;34m)\u001b[0m\u001b[0;34m\u001b[0m\u001b[0m\n\u001b[1;32m      4\u001b[0m \u001b[0;34m\u001b[0m\u001b[0m\n\u001b[1;32m      5\u001b[0m \u001b[0;31m# display\u001b[0m\u001b[0;34m\u001b[0m\u001b[0;34m\u001b[0m\u001b[0m\n",
            "\u001b[0;32m<ipython-input-43-330a549e8b08>\u001b[0m in \u001b[0;36mtrain\u001b[0;34m(bm, theta_list, method, max_iter, popsize, step_rate)\u001b[0m\n\u001b[1;32m     10\u001b[0m   \u001b[0;32mif\u001b[0m \u001b[0mmethod\u001b[0m \u001b[0;34m==\u001b[0m \u001b[0;34m'SPSA'\u001b[0m\u001b[0;34m:\u001b[0m\u001b[0;34m\u001b[0m\u001b[0m\n\u001b[1;32m     11\u001b[0m       res = spsa(bm.mmd_loss, x0=theta_list,\n\u001b[0;32m---> 12\u001b[0;31m                      \u001b[0mmaxiter\u001b[0m\u001b[0;34m=\u001b[0m\u001b[0mmax_iter\u001b[0m\u001b[0;34m,\u001b[0m \u001b[0mcallback\u001b[0m\u001b[0;34m=\u001b[0m\u001b[0mcallback\u001b[0m\u001b[0;34m,\u001b[0m\u001b[0;34m\u001b[0m\u001b[0m\n\u001b[0m\u001b[1;32m     13\u001b[0m                      )\n\u001b[1;32m     14\u001b[0m       \u001b[0;32mreturn\u001b[0m \u001b[0mres\u001b[0m\u001b[0;34m.\u001b[0m\u001b[0mfun\u001b[0m\u001b[0;34m,\u001b[0m \u001b[0mres\u001b[0m\u001b[0;34m.\u001b[0m\u001b[0mx\u001b[0m\u001b[0;34m\u001b[0m\u001b[0m\n",
            "\u001b[0;32m<ipython-input-32-10a049132667>\u001b[0m in \u001b[0;36mspsa\u001b[0;34m(fun, x0, args, bounds, ac, alpha, A, gamma, maxiter, callback)\u001b[0m\n\u001b[1;32m     36\u001b[0m         \u001b[0mak\u001b[0m \u001b[0;34m=\u001b[0m \u001b[0ma\u001b[0m \u001b[0;34m/\u001b[0m \u001b[0;34m(\u001b[0m\u001b[0mk\u001b[0m \u001b[0;34m+\u001b[0m \u001b[0;36m1\u001b[0m \u001b[0;34m+\u001b[0m \u001b[0mA\u001b[0m\u001b[0;34m)\u001b[0m\u001b[0;34m**\u001b[0m\u001b[0malpha\u001b[0m\u001b[0;34m\u001b[0m\u001b[0m\n\u001b[1;32m     37\u001b[0m         \u001b[0mck\u001b[0m \u001b[0;34m=\u001b[0m \u001b[0mc\u001b[0m \u001b[0;34m/\u001b[0m \u001b[0;34m(\u001b[0m\u001b[0mk\u001b[0m \u001b[0;34m+\u001b[0m \u001b[0;36m1\u001b[0m\u001b[0;34m)\u001b[0m\u001b[0;34m**\u001b[0m\u001b[0mgamma\u001b[0m\u001b[0;34m\u001b[0m\u001b[0m\n\u001b[0;32m---> 38\u001b[0;31m         \u001b[0mg\u001b[0m \u001b[0;34m=\u001b[0m \u001b[0m_get_g\u001b[0m\u001b[0;34m(\u001b[0m\u001b[0mfun\u001b[0m\u001b[0;34m,\u001b[0m \u001b[0mx0\u001b[0m\u001b[0;34m,\u001b[0m \u001b[0margs\u001b[0m\u001b[0;34m,\u001b[0m \u001b[0mck\u001b[0m\u001b[0;34m,\u001b[0m \u001b[0mreturn_hessian\u001b[0m\u001b[0;34m=\u001b[0m\u001b[0;32mFalse\u001b[0m\u001b[0;34m)\u001b[0m\u001b[0;34m\u001b[0m\u001b[0m\n\u001b[0m\u001b[1;32m     39\u001b[0m         \u001b[0mx0\u001b[0m \u001b[0;34m-=\u001b[0m \u001b[0mak\u001b[0m \u001b[0;34m*\u001b[0m \u001b[0mg\u001b[0m\u001b[0;34m\u001b[0m\u001b[0m\n\u001b[1;32m     40\u001b[0m         \u001b[0;32mif\u001b[0m \u001b[0mbounds\u001b[0m \u001b[0;32mis\u001b[0m \u001b[0;32mnot\u001b[0m \u001b[0;32mNone\u001b[0m\u001b[0;34m:\u001b[0m\u001b[0;34m\u001b[0m\u001b[0m\n",
            "\u001b[0;32m<ipython-input-32-10a049132667>\u001b[0m in \u001b[0;36m_get_g\u001b[0;34m(fun, x0, args, ck, return_hessian)\u001b[0m\n\u001b[1;32m     49\u001b[0m     \u001b[0mdelta\u001b[0m \u001b[0;34m=\u001b[0m \u001b[0;34m(\u001b[0m\u001b[0;36m2\u001b[0m \u001b[0;34m*\u001b[0m \u001b[0mnp\u001b[0m\u001b[0;34m.\u001b[0m\u001b[0mrandom\u001b[0m\u001b[0;34m.\u001b[0m\u001b[0mrandint\u001b[0m\u001b[0;34m(\u001b[0m\u001b[0;36m0\u001b[0m\u001b[0;34m,\u001b[0m \u001b[0;36m2\u001b[0m\u001b[0;34m,\u001b[0m \u001b[0mp\u001b[0m\u001b[0;34m)\u001b[0m \u001b[0;34m-\u001b[0m \u001b[0;36m1\u001b[0m\u001b[0;34m)\u001b[0m \u001b[0;34m*\u001b[0m \u001b[0mck\u001b[0m\u001b[0;34m\u001b[0m\u001b[0m\n\u001b[1;32m     50\u001b[0m     \u001b[0mxpos\u001b[0m\u001b[0;34m,\u001b[0m \u001b[0mxneg\u001b[0m \u001b[0;34m=\u001b[0m \u001b[0mx0\u001b[0m \u001b[0;34m+\u001b[0m \u001b[0mdelta\u001b[0m\u001b[0;34m,\u001b[0m \u001b[0mx0\u001b[0m \u001b[0;34m-\u001b[0m \u001b[0mdelta\u001b[0m\u001b[0;34m\u001b[0m\u001b[0m\n\u001b[0;32m---> 51\u001b[0;31m     \u001b[0mfpos\u001b[0m\u001b[0;34m,\u001b[0m \u001b[0mfneg\u001b[0m \u001b[0;34m=\u001b[0m \u001b[0mfun\u001b[0m\u001b[0;34m(\u001b[0m\u001b[0mxpos\u001b[0m\u001b[0;34m,\u001b[0m \u001b[0;34m*\u001b[0m\u001b[0margs\u001b[0m\u001b[0;34m)\u001b[0m\u001b[0;34m,\u001b[0m \u001b[0mfun\u001b[0m\u001b[0;34m(\u001b[0m\u001b[0mxneg\u001b[0m\u001b[0;34m,\u001b[0m \u001b[0;34m*\u001b[0m\u001b[0margs\u001b[0m\u001b[0;34m)\u001b[0m\u001b[0;34m\u001b[0m\u001b[0m\n\u001b[0m\u001b[1;32m     52\u001b[0m     \u001b[0mg\u001b[0m \u001b[0;34m=\u001b[0m \u001b[0;34m(\u001b[0m\u001b[0mfpos\u001b[0m \u001b[0;34m-\u001b[0m \u001b[0mfneg\u001b[0m\u001b[0;34m)\u001b[0m \u001b[0;34m/\u001b[0m \u001b[0;34m(\u001b[0m\u001b[0;36m2\u001b[0m \u001b[0;34m*\u001b[0m \u001b[0mdelta\u001b[0m\u001b[0;34m)\u001b[0m\u001b[0;34m\u001b[0m\u001b[0m\n\u001b[1;32m     53\u001b[0m     \u001b[0;32mif\u001b[0m \u001b[0mreturn_hessian\u001b[0m\u001b[0;34m:\u001b[0m\u001b[0;34m\u001b[0m\u001b[0m\n",
            "\u001b[0;32m<ipython-input-21-19f88d93ca95>\u001b[0m in \u001b[0;36mmmd_loss\u001b[0;34m(self, theta_list)\u001b[0m\n\u001b[1;32m     31\u001b[0m         \u001b[0;34m'''get the loss'''\u001b[0m\u001b[0;34m\u001b[0m\u001b[0m\n\u001b[1;32m     32\u001b[0m         \u001b[0;31m# get and cahe probability distritbution of Born Machine\u001b[0m\u001b[0;34m\u001b[0m\u001b[0;34m\u001b[0m\u001b[0m\n\u001b[0;32m---> 33\u001b[0;31m         \u001b[0mself\u001b[0m\u001b[0;34m.\u001b[0m\u001b[0m_prob\u001b[0m \u001b[0;34m=\u001b[0m \u001b[0mself\u001b[0m\u001b[0;34m.\u001b[0m\u001b[0mpdf\u001b[0m\u001b[0;34m(\u001b[0m\u001b[0mtheta_list\u001b[0m\u001b[0;34m)\u001b[0m\u001b[0;34m\u001b[0m\u001b[0m\n\u001b[0m\u001b[1;32m     34\u001b[0m         \u001b[0;31m# use wave function to get mmd loss\u001b[0m\u001b[0;34m\u001b[0m\u001b[0;34m\u001b[0m\u001b[0m\n\u001b[1;32m     35\u001b[0m         \u001b[0;32mreturn\u001b[0m \u001b[0mself\u001b[0m\u001b[0;34m.\u001b[0m\u001b[0mmmd\u001b[0m\u001b[0;34m(\u001b[0m\u001b[0mself\u001b[0m\u001b[0;34m.\u001b[0m\u001b[0m_prob\u001b[0m\u001b[0;34m,\u001b[0m \u001b[0mself\u001b[0m\u001b[0;34m.\u001b[0m\u001b[0mp_data\u001b[0m\u001b[0;34m)\u001b[0m\u001b[0;34m\u001b[0m\u001b[0m\n",
            "\u001b[0;32m<ipython-input-21-19f88d93ca95>\u001b[0m in \u001b[0;36mpdf\u001b[0;34m(self, theta_list)\u001b[0m\n\u001b[1;32m     20\u001b[0m         \u001b[0;34m'''get probability distribution function'''\u001b[0m\u001b[0;34m\u001b[0m\u001b[0m\n\u001b[1;32m     21\u001b[0m         \u001b[0mwf\u001b[0m \u001b[0;34m=\u001b[0m \u001b[0minitial_wf\u001b[0m\u001b[0;34m(\u001b[0m\u001b[0mself\u001b[0m\u001b[0;34m.\u001b[0m\u001b[0mcircuit\u001b[0m\u001b[0;34m.\u001b[0m\u001b[0mnum_bit\u001b[0m\u001b[0;34m)\u001b[0m\u001b[0;34m\u001b[0m\u001b[0m\n\u001b[0;32m---> 22\u001b[0;31m         \u001b[0mself\u001b[0m\u001b[0;34m.\u001b[0m\u001b[0mcircuit\u001b[0m\u001b[0;34m(\u001b[0m\u001b[0mwf\u001b[0m\u001b[0;34m,\u001b[0m \u001b[0mtheta_list\u001b[0m\u001b[0;34m)\u001b[0m\u001b[0;34m\u001b[0m\u001b[0m\n\u001b[0m\u001b[1;32m     23\u001b[0m         \u001b[0mpl\u001b[0m \u001b[0;34m=\u001b[0m \u001b[0mnp\u001b[0m\u001b[0;34m.\u001b[0m\u001b[0mabs\u001b[0m\u001b[0;34m(\u001b[0m\u001b[0mwf\u001b[0m\u001b[0;34m)\u001b[0m\u001b[0;34m**\u001b[0m\u001b[0;36m2\u001b[0m\u001b[0;34m\u001b[0m\u001b[0m\n\u001b[1;32m     24\u001b[0m         \u001b[0;31m# introducing sampling error\u001b[0m\u001b[0;34m\u001b[0m\u001b[0;34m\u001b[0m\u001b[0m\n",
            "\u001b[0;32m<ipython-input-17-2dad7b19adbd>\u001b[0m in \u001b[0;36m__call__\u001b[0;34m(self, qureg, theta_list)\u001b[0m\n\u001b[1;32m     33\u001b[0m                 \u001b[0;32melse\u001b[0m\u001b[0;34m:\u001b[0m\u001b[0;34m\u001b[0m\u001b[0m\n\u001b[1;32m     34\u001b[0m                     \u001b[0;31m# regenerate one\u001b[0m\u001b[0;34m\u001b[0m\u001b[0;34m\u001b[0m\u001b[0m\n\u001b[0;32m---> 35\u001b[0;31m                     \u001b[0mmat\u001b[0m \u001b[0;34m=\u001b[0m \u001b[0mblock\u001b[0m\u001b[0;34m.\u001b[0m\u001b[0mtocsr\u001b[0m\u001b[0;34m(\u001b[0m\u001b[0mtheta_i\u001b[0m\u001b[0;34m)\u001b[0m\u001b[0;34m\u001b[0m\u001b[0m\n\u001b[0m\u001b[1;32m     36\u001b[0m             \u001b[0;32mfor\u001b[0m \u001b[0mmat_i\u001b[0m \u001b[0;32min\u001b[0m \u001b[0mmat\u001b[0m\u001b[0;34m:\u001b[0m\u001b[0;34m\u001b[0m\u001b[0m\n\u001b[1;32m     37\u001b[0m                 \u001b[0mqureg_\u001b[0m \u001b[0;34m=\u001b[0m \u001b[0mmat_i\u001b[0m\u001b[0;34m.\u001b[0m\u001b[0mdot\u001b[0m\u001b[0;34m(\u001b[0m\u001b[0mqureg_\u001b[0m\u001b[0;34m)\u001b[0m\u001b[0;34m\u001b[0m\u001b[0m\n",
            "\u001b[0;32m<ipython-input-16-54095bf9c75f>\u001b[0m in \u001b[0;36mtocsr\u001b[0;34m(self, theta_list)\u001b[0m\n\u001b[1;32m     15\u001b[0m         \u001b[0mtheta_list_\u001b[0m \u001b[0;34m=\u001b[0m \u001b[0mnp\u001b[0m\u001b[0;34m.\u001b[0m\u001b[0mzeros\u001b[0m\u001b[0;34m(\u001b[0m\u001b[0;36m3\u001b[0m\u001b[0;34m*\u001b[0m\u001b[0mself\u001b[0m\u001b[0;34m.\u001b[0m\u001b[0mnum_bit\u001b[0m\u001b[0;34m)\u001b[0m\u001b[0;34m\u001b[0m\u001b[0m\n\u001b[1;32m     16\u001b[0m         \u001b[0mtheta_list_\u001b[0m\u001b[0;34m[\u001b[0m\u001b[0mself\u001b[0m\u001b[0;34m.\u001b[0m\u001b[0mmask\u001b[0m\u001b[0;34m]\u001b[0m \u001b[0;34m=\u001b[0m \u001b[0mtheta_list\u001b[0m\u001b[0;34m\u001b[0m\u001b[0m\n\u001b[0;32m---> 17\u001b[0;31m         \u001b[0mrots\u001b[0m \u001b[0;34m=\u001b[0m \u001b[0;34m[\u001b[0m\u001b[0mrot\u001b[0m\u001b[0;34m(\u001b[0m\u001b[0;34m*\u001b[0m\u001b[0mths\u001b[0m\u001b[0;34m)\u001b[0m \u001b[0;32mfor\u001b[0m \u001b[0mths\u001b[0m \u001b[0;32min\u001b[0m \u001b[0mtheta_list_\u001b[0m\u001b[0;34m.\u001b[0m\u001b[0mreshape\u001b[0m\u001b[0;34m(\u001b[0m\u001b[0;34m[\u001b[0m\u001b[0mself\u001b[0m\u001b[0;34m.\u001b[0m\u001b[0mnum_bit\u001b[0m\u001b[0;34m,\u001b[0m\u001b[0;36m3\u001b[0m\u001b[0;34m]\u001b[0m\u001b[0;34m)\u001b[0m\u001b[0;34m]\u001b[0m\u001b[0;34m\u001b[0m\u001b[0m\n\u001b[0m\u001b[1;32m     18\u001b[0m         \u001b[0mres\u001b[0m \u001b[0;34m=\u001b[0m \u001b[0;34m[\u001b[0m\u001b[0m_\u001b[0m\u001b[0;34m(\u001b[0m\u001b[0;34m[\u001b[0m\u001b[0mr\u001b[0m\u001b[0;34m]\u001b[0m\u001b[0;34m,\u001b[0m \u001b[0;34m[\u001b[0m\u001b[0mi\u001b[0m\u001b[0;34m]\u001b[0m\u001b[0;34m,\u001b[0m \u001b[0mself\u001b[0m\u001b[0;34m.\u001b[0m\u001b[0mnum_bit\u001b[0m\u001b[0;34m)\u001b[0m \u001b[0;32mfor\u001b[0m \u001b[0mi\u001b[0m\u001b[0;34m,\u001b[0m\u001b[0mr\u001b[0m \u001b[0;32min\u001b[0m \u001b[0menumerate\u001b[0m\u001b[0;34m(\u001b[0m\u001b[0mrots\u001b[0m\u001b[0;34m)\u001b[0m\u001b[0;34m]\u001b[0m\u001b[0;34m\u001b[0m\u001b[0m\n\u001b[1;32m     19\u001b[0m         \u001b[0;32mreturn\u001b[0m \u001b[0mres\u001b[0m\u001b[0;34m\u001b[0m\u001b[0m\n",
            "\u001b[0;32m<ipython-input-16-54095bf9c75f>\u001b[0m in \u001b[0;36m<listcomp>\u001b[0;34m(.0)\u001b[0m\n\u001b[1;32m     15\u001b[0m         \u001b[0mtheta_list_\u001b[0m \u001b[0;34m=\u001b[0m \u001b[0mnp\u001b[0m\u001b[0;34m.\u001b[0m\u001b[0mzeros\u001b[0m\u001b[0;34m(\u001b[0m\u001b[0;36m3\u001b[0m\u001b[0;34m*\u001b[0m\u001b[0mself\u001b[0m\u001b[0;34m.\u001b[0m\u001b[0mnum_bit\u001b[0m\u001b[0;34m)\u001b[0m\u001b[0;34m\u001b[0m\u001b[0m\n\u001b[1;32m     16\u001b[0m         \u001b[0mtheta_list_\u001b[0m\u001b[0;34m[\u001b[0m\u001b[0mself\u001b[0m\u001b[0;34m.\u001b[0m\u001b[0mmask\u001b[0m\u001b[0;34m]\u001b[0m \u001b[0;34m=\u001b[0m \u001b[0mtheta_list\u001b[0m\u001b[0;34m\u001b[0m\u001b[0m\n\u001b[0;32m---> 17\u001b[0;31m         \u001b[0mrots\u001b[0m \u001b[0;34m=\u001b[0m \u001b[0;34m[\u001b[0m\u001b[0mrot\u001b[0m\u001b[0;34m(\u001b[0m\u001b[0;34m*\u001b[0m\u001b[0mths\u001b[0m\u001b[0;34m)\u001b[0m \u001b[0;32mfor\u001b[0m \u001b[0mths\u001b[0m \u001b[0;32min\u001b[0m \u001b[0mtheta_list_\u001b[0m\u001b[0;34m.\u001b[0m\u001b[0mreshape\u001b[0m\u001b[0;34m(\u001b[0m\u001b[0;34m[\u001b[0m\u001b[0mself\u001b[0m\u001b[0;34m.\u001b[0m\u001b[0mnum_bit\u001b[0m\u001b[0;34m,\u001b[0m\u001b[0;36m3\u001b[0m\u001b[0;34m]\u001b[0m\u001b[0;34m)\u001b[0m\u001b[0;34m]\u001b[0m\u001b[0;34m\u001b[0m\u001b[0m\n\u001b[0m\u001b[1;32m     18\u001b[0m         \u001b[0mres\u001b[0m \u001b[0;34m=\u001b[0m \u001b[0;34m[\u001b[0m\u001b[0m_\u001b[0m\u001b[0;34m(\u001b[0m\u001b[0;34m[\u001b[0m\u001b[0mr\u001b[0m\u001b[0;34m]\u001b[0m\u001b[0;34m,\u001b[0m \u001b[0;34m[\u001b[0m\u001b[0mi\u001b[0m\u001b[0;34m]\u001b[0m\u001b[0;34m,\u001b[0m \u001b[0mself\u001b[0m\u001b[0;34m.\u001b[0m\u001b[0mnum_bit\u001b[0m\u001b[0;34m)\u001b[0m \u001b[0;32mfor\u001b[0m \u001b[0mi\u001b[0m\u001b[0;34m,\u001b[0m\u001b[0mr\u001b[0m \u001b[0;32min\u001b[0m \u001b[0menumerate\u001b[0m\u001b[0;34m(\u001b[0m\u001b[0mrots\u001b[0m\u001b[0;34m)\u001b[0m\u001b[0;34m]\u001b[0m\u001b[0;34m\u001b[0m\u001b[0m\n\u001b[1;32m     19\u001b[0m         \u001b[0;32mreturn\u001b[0m \u001b[0mres\u001b[0m\u001b[0;34m\u001b[0m\u001b[0m\n",
            "\u001b[0;32m<ipython-input-15-cd9f7dfccd30>\u001b[0m in \u001b[0;36mrot\u001b[0;34m(t1, t2, t3)\u001b[0m\n\u001b[1;32m     34\u001b[0m         \u001b[0;36m2\u001b[0m\u001b[0mx2\u001b[0m \u001b[0mcsr_matrix\u001b[0m\u001b[0;34m:\u001b[0m \u001b[0mrotation\u001b[0m \u001b[0mmatrix\u001b[0m\u001b[0;34m.\u001b[0m\u001b[0;34m\u001b[0m\u001b[0m\n\u001b[1;32m     35\u001b[0m     '''\n\u001b[0;32m---> 36\u001b[0;31m     \u001b[0;32mreturn\u001b[0m \u001b[0mrz\u001b[0m\u001b[0;34m(\u001b[0m\u001b[0mt3\u001b[0m\u001b[0;34m)\u001b[0m\u001b[0;34m.\u001b[0m\u001b[0mdot\u001b[0m\u001b[0;34m(\u001b[0m\u001b[0mrx\u001b[0m\u001b[0;34m(\u001b[0m\u001b[0mt2\u001b[0m\u001b[0;34m)\u001b[0m\u001b[0;34m)\u001b[0m\u001b[0;34m.\u001b[0m\u001b[0mdot\u001b[0m\u001b[0;34m(\u001b[0m\u001b[0mrz\u001b[0m\u001b[0;34m(\u001b[0m\u001b[0mt1\u001b[0m\u001b[0;34m)\u001b[0m\u001b[0;34m)\u001b[0m\u001b[0;34m\u001b[0m\u001b[0m\n\u001b[0m\u001b[1;32m     37\u001b[0m \u001b[0;34m\u001b[0m\u001b[0m\n\u001b[1;32m     38\u001b[0m \u001b[0;31m# multiple bit construction\u001b[0m\u001b[0;34m\u001b[0m\u001b[0;34m\u001b[0m\u001b[0m\n",
            "\u001b[0;32m<ipython-input-15-cd9f7dfccd30>\u001b[0m in \u001b[0;36mrx\u001b[0;34m(theta)\u001b[0m\n\u001b[1;32m     16\u001b[0m \u001b[0;34m\u001b[0m\u001b[0m\n\u001b[1;32m     17\u001b[0m \u001b[0;32mdef\u001b[0m \u001b[0mrx\u001b[0m\u001b[0;34m(\u001b[0m\u001b[0mtheta\u001b[0m\u001b[0;34m)\u001b[0m\u001b[0;34m:\u001b[0m\u001b[0;34m\u001b[0m\u001b[0m\n\u001b[0;32m---> 18\u001b[0;31m     \u001b[0;32mreturn\u001b[0m \u001b[0m_ri\u001b[0m\u001b[0;34m(\u001b[0m\u001b[0msx\u001b[0m\u001b[0;34m,\u001b[0m \u001b[0mtheta\u001b[0m\u001b[0;34m)\u001b[0m\u001b[0;34m\u001b[0m\u001b[0m\n\u001b[0m\u001b[1;32m     19\u001b[0m \u001b[0;34m\u001b[0m\u001b[0m\n\u001b[1;32m     20\u001b[0m \u001b[0;32mdef\u001b[0m \u001b[0mry\u001b[0m\u001b[0;34m(\u001b[0m\u001b[0mtheta\u001b[0m\u001b[0;34m)\u001b[0m\u001b[0;34m:\u001b[0m\u001b[0;34m\u001b[0m\u001b[0m\n",
            "\u001b[0;32m<ipython-input-15-cd9f7dfccd30>\u001b[0m in \u001b[0;36m_ri\u001b[0;34m(si, theta)\u001b[0m\n\u001b[1;32m     13\u001b[0m \u001b[0;34m\u001b[0m\u001b[0m\n\u001b[1;32m     14\u001b[0m \u001b[0;32mdef\u001b[0m \u001b[0m_ri\u001b[0m\u001b[0;34m(\u001b[0m\u001b[0msi\u001b[0m\u001b[0;34m,\u001b[0m \u001b[0mtheta\u001b[0m\u001b[0;34m)\u001b[0m\u001b[0;34m:\u001b[0m\u001b[0;34m\u001b[0m\u001b[0m\n\u001b[0;32m---> 15\u001b[0;31m     \u001b[0;32mreturn\u001b[0m \u001b[0mnp\u001b[0m\u001b[0;34m.\u001b[0m\u001b[0mcos\u001b[0m\u001b[0;34m(\u001b[0m\u001b[0mtheta\u001b[0m\u001b[0;34m/\u001b[0m\u001b[0;36m2.\u001b[0m\u001b[0;34m)\u001b[0m\u001b[0;34m*\u001b[0m\u001b[0mI2\u001b[0m \u001b[0;34m-\u001b[0m \u001b[0;36m1j\u001b[0m\u001b[0;34m*\u001b[0m\u001b[0mnp\u001b[0m\u001b[0;34m.\u001b[0m\u001b[0msin\u001b[0m\u001b[0;34m(\u001b[0m\u001b[0mtheta\u001b[0m\u001b[0;34m/\u001b[0m\u001b[0;36m2.\u001b[0m\u001b[0;34m)\u001b[0m\u001b[0;34m*\u001b[0m\u001b[0msi\u001b[0m\u001b[0;34m\u001b[0m\u001b[0m\n\u001b[0m\u001b[1;32m     16\u001b[0m \u001b[0;34m\u001b[0m\u001b[0m\n\u001b[1;32m     17\u001b[0m \u001b[0;32mdef\u001b[0m \u001b[0mrx\u001b[0m\u001b[0;34m(\u001b[0m\u001b[0mtheta\u001b[0m\u001b[0;34m)\u001b[0m\u001b[0;34m:\u001b[0m\u001b[0;34m\u001b[0m\u001b[0m\n",
            "\u001b[0;31mKeyboardInterrupt\u001b[0m: "
          ]
        }
      ]
    },
    {
      "metadata": {
        "id": "l70dw-e4TBWa",
        "colab_type": "text"
      },
      "cell_type": "markdown",
      "source": [
        "# SPSA not Working?\n",
        "\n",
        "Lets optimize a problem with 24 parameters"
      ]
    },
    {
      "metadata": {
        "id": "oeuI8ZXkSJDg",
        "colab_type": "code",
        "colab": {
          "autoexec": {
            "startup": false,
            "wait_interval": 0
          },
          "base_uri": "https://localhost:8080/",
          "height": 897
        },
        "outputId": "6f4b8152-cadc-4633-c454-ad02dcb87815",
        "executionInfo": {
          "status": "ok",
          "timestamp": 1523108297893,
          "user_tz": -480,
          "elapsed": 1359,
          "user": {
            "displayName": "刘金国",
            "photoUrl": "//lh3.googleusercontent.com/-lDAT81T3HSE/AAAAAAAAAAI/AAAAAAAAAgw/eH3JEob7M1Y/s50-c-k-no/photo.jpg",
            "userId": "116824001998056121289"
          }
        }
      },
      "cell_type": "code",
      "source": [
        "test_func = lambda x: np.cos(x).sum()\n",
        "max_iter = 2000\n",
        "\n",
        "step = [0]\n",
        "def callback(x, *args, **kwargs):\n",
        "    step[0] += 1\n",
        "    if step[0]%(max_iter//50) == 1:\n",
        "        print('step = %d, loss = %s'%(step[0], test_func(x)))\n",
        "        \n",
        "res = spsa(test_func, x0=np.random.random(24),\n",
        "               maxiter=max_iter, callback=callback,\n",
        "               )"
      ],
      "execution_count": 49,
      "outputs": [
        {
          "output_type": "stream",
          "text": [
            "step = 1, loss = 20.796581751465737\n",
            "step = 41, loss = 17.67989562802431\n",
            "step = 81, loss = 14.08103567206227\n",
            "step = 121, loss = 8.745535205647682\n",
            "step = 161, loss = 4.02103044679887\n",
            "step = 201, loss = -0.07336469454172878\n",
            "step = 241, loss = -2.797866790716694\n",
            "step = 281, loss = -5.78570627582404\n",
            "step = 321, loss = -8.718937120989885\n",
            "step = 361, loss = -11.091224065672787\n",
            "step = 401, loss = -13.055019525299844\n",
            "step = 441, loss = -14.502209466639925\n",
            "step = 481, loss = -16.099918437533287\n",
            "step = 521, loss = -17.25192374217347\n",
            "step = 561, loss = -18.078309988841006\n",
            "step = 601, loss = -18.986836301802008\n",
            "step = 641, loss = -19.573928884899914\n",
            "step = 681, loss = -20.243853615671508\n",
            "step = 721, loss = -21.268868044065307\n",
            "step = 761, loss = -21.74049667232036\n",
            "step = 801, loss = -22.37825658815569\n",
            "step = 841, loss = -22.60812656731494\n",
            "step = 881, loss = -22.882512300222977\n",
            "step = 921, loss = -23.094404364598198\n",
            "step = 961, loss = -23.30299976104161\n",
            "step = 1001, loss = -23.454831268909643\n",
            "step = 1041, loss = -23.553484173799554\n",
            "step = 1081, loss = -23.62627573507488\n",
            "step = 1121, loss = -23.661460288637393\n",
            "step = 1161, loss = -23.74388550471457\n",
            "step = 1201, loss = -23.78603435687063\n",
            "step = 1241, loss = -23.815359056210152\n",
            "step = 1281, loss = -23.841780252815113\n",
            "step = 1321, loss = -23.86293791434619\n",
            "step = 1361, loss = -23.8795268652448\n",
            "step = 1401, loss = -23.900278455052\n",
            "step = 1441, loss = -23.914259581091514\n",
            "step = 1481, loss = -23.92589747248898\n",
            "step = 1521, loss = -23.93845703198031\n",
            "step = 1561, loss = -23.950247653366162\n",
            "step = 1601, loss = -23.958551052042164\n",
            "step = 1641, loss = -23.965449023306057\n",
            "step = 1681, loss = -23.970440896625725\n",
            "step = 1721, loss = -23.974319086828523\n",
            "step = 1761, loss = -23.978254013848492\n",
            "step = 1801, loss = -23.981154360769914\n",
            "step = 1841, loss = -23.983476436793808\n",
            "step = 1881, loss = -23.98612699154696\n",
            "step = 1921, loss = -23.98821088452821\n",
            "step = 1961, loss = -23.989658502179193\n"
          ],
          "name": "stdout"
        }
      ]
    },
    {
      "metadata": {
        "id": "qaVlyKdtVNo3",
        "colab_type": "text"
      },
      "cell_type": "markdown",
      "source": [
        "SPSA is ok, but not for noisy quantum circuits."
      ]
    },
    {
      "metadata": {
        "id": "6O8VvHDvTe12",
        "colab_type": "code",
        "colab": {
          "autoexec": {
            "startup": false,
            "wait_interval": 0
          }
        }
      },
      "cell_type": "code",
      "source": [
        ""
      ],
      "execution_count": 0,
      "outputs": []
    }
  ]
}